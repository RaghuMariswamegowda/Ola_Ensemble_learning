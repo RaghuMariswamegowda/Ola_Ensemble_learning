{
  "nbformat": 4,
  "nbformat_minor": 0,
  "metadata": {
    "colab": {
      "provenance": [],
      "authorship_tag": "ABX9TyOuggk9m33SCcPTj7GH3KVs",
      "include_colab_link": true
    },
    "kernelspec": {
      "name": "python3",
      "display_name": "Python 3"
    },
    "language_info": {
      "name": "python"
    }
  },
  "cells": [
    {
      "cell_type": "markdown",
      "metadata": {
        "id": "view-in-github",
        "colab_type": "text"
      },
      "source": [
        "<a href=\"https://colab.research.google.com/github/RaghuMariswamegowda/Ola_Ensemble_learning/blob/main/Ola_Ensemble_Learning.ipynb\" target=\"_parent\"><img src=\"https://colab.research.google.com/assets/colab-badge.svg\" alt=\"Open In Colab\"/></a>"
      ]
    },
    {
      "cell_type": "markdown",
      "source": [
        "# **Problem statement**\n",
        "**Recruiting and retaining drivers is seen by industry watchers as a tough battle for Ola. Churn among drivers is high and it’s very easy for drivers to stop working for the service on the fly or jump to Uber depending on the rates.\n",
        "You are provided with the monthly information for a segment of drivers for 2019 and 2020 and tasked to predict whether a driver will be leaving the company or not based on their attributes given.**"
      ],
      "metadata": {
        "id": "vmuO-O6STBqg"
      }
    },
"cell_type": "markdown",
      "source": [
        "# **Objectives**\n",
        "\n",
        "\n",
        "*   **Build classification models to predict the churn \n",
        "and help the company for recruiting and retaining drivers.**\n",
        "*   **Compare the two learning algorithms**\n",
        "*   **Use Grid search CV for hyper parameter tuning to increase the accuracy of the model**\n",
        "\n",
        "We will be using 3 learning algorithems\n",
        "1. Decision tree\n",
        "2. Random Forest\n",
        "\n",
        "\n",
        "\n",
        "\n",
        "\n",
        "\n",
        "\n",
        "\n",
        "\n",
        "\n",
        "\n"
      ],
    {
      "cell_type": "code",
      "execution_count": 1,
      "metadata": {
        "id": "OL1Gzeyft4c3"
      },
      "outputs": [],
      "source": [
        "import pandas as pd\n",
        "import numpy as np\n",
        "import matplotlib.pyplot as plt\n",
        "import seaborn as sns"
      ]
    },
    {
      "cell_type": "code",
      "source": [],
      "metadata": {
        "id": "z2pb51u3GatV"
      },
      "execution_count": null,
      "outputs": []
    },
    {
      "cell_type": "code",
      "source": [
        "ola_data = pd.read_csv(\"https://d2beiqkhq929f0.cloudfront.net/public_assets/assets/000/002/492/original/ola_driver_scaler.csv\")"
      ],
      "metadata": {
        "id": "PKVTtAKOuPKV"
      },
      "execution_count": 2,
      "outputs": []
    },
    {
      "cell_type": "code",
      "source": [
        "ola_data.head(10)"
      ],
      "metadata": {
        "colab": {
          "base_uri": "https://localhost:8080/",
          "height": 398
        },
        "id": "60oejQ7Uuf8a",
        "outputId": "ba651b04-3130-4536-d737-b61ab191d6d4"
      },
      "execution_count": 3,
      "outputs": [
        {
          "output_type": "execute_result",
          "data": {
            "text/plain": [
              "   Unnamed: 0    MMM-YY  Driver_ID   Age  Gender City  Education_Level  \\\n",
              "0           0  01/01/19          1  28.0     0.0  C23                2   \n",
              "1           1  02/01/19          1  28.0     0.0  C23                2   \n",
              "2           2  03/01/19          1  28.0     0.0  C23                2   \n",
              "3           3  11/01/20          2  31.0     0.0   C7                2   \n",
              "4           4  12/01/20          2  31.0     0.0   C7                2   \n",
              "5           5  12/01/19          4  43.0     0.0  C13                2   \n",
              "6           6  01/01/20          4  43.0     0.0  C13                2   \n",
              "7           7  02/01/20          4  43.0     0.0  C13                2   \n",
              "8           8  03/01/20          4  43.0     0.0  C13                2   \n",
              "9           9  04/01/20          4  43.0     0.0  C13                2   \n",
              "\n",
              "   Income Dateofjoining LastWorkingDate  Joining Designation  Grade  \\\n",
              "0   57387      24/12/18             NaN                    1      1   \n",
              "1   57387      24/12/18             NaN                    1      1   \n",
              "2   57387      24/12/18        03/11/19                    1      1   \n",
              "3   67016      11/06/20             NaN                    2      2   \n",
              "4   67016      11/06/20             NaN                    2      2   \n",
              "5   65603      12/07/19             NaN                    2      2   \n",
              "6   65603      12/07/19             NaN                    2      2   \n",
              "7   65603      12/07/19             NaN                    2      2   \n",
              "8   65603      12/07/19             NaN                    2      2   \n",
              "9   65603      12/07/19        27/04/20                    2      2   \n",
              "\n",
              "   Total Business Value  Quarterly Rating  \n",
              "0               2381060                 2  \n",
              "1               -665480                 2  \n",
              "2                     0                 2  \n",
              "3                     0                 1  \n",
              "4                     0                 1  \n",
              "5                     0                 1  \n",
              "6                     0                 1  \n",
              "7                     0                 1  \n",
              "8                350000                 1  \n",
              "9                     0                 1  "
            ],
            "text/html": [
              "\n",
              "  <div id=\"df-1d7e8228-d9af-4f14-830a-ac2394762548\" class=\"colab-df-container\">\n",
              "    <div>\n",
              "<style scoped>\n",
              "    .dataframe tbody tr th:only-of-type {\n",
              "        vertical-align: middle;\n",
              "    }\n",
              "\n",
              "    .dataframe tbody tr th {\n",
              "        vertical-align: top;\n",
              "    }\n",
              "\n",
              "    .dataframe thead th {\n",
              "        text-align: right;\n",
              "    }\n",
              "</style>\n",
              "<table border=\"1\" class=\"dataframe\">\n",
              "  <thead>\n",
              "    <tr style=\"text-align: right;\">\n",
              "      <th></th>\n",
              "      <th>Unnamed: 0</th>\n",
              "      <th>MMM-YY</th>\n",
              "      <th>Driver_ID</th>\n",
              "      <th>Age</th>\n",
              "      <th>Gender</th>\n",
              "      <th>City</th>\n",
              "      <th>Education_Level</th>\n",
              "      <th>Income</th>\n",
              "      <th>Dateofjoining</th>\n",
              "      <th>LastWorkingDate</th>\n",
              "      <th>Joining Designation</th>\n",
              "      <th>Grade</th>\n",
              "      <th>Total Business Value</th>\n",
              "      <th>Quarterly Rating</th>\n",
              "    </tr>\n",
              "  </thead>\n",
              "  <tbody>\n",
              "    <tr>\n",
              "      <th>0</th>\n",
              "      <td>0</td>\n",
              "      <td>01/01/19</td>\n",
              "      <td>1</td>\n",
              "      <td>28.0</td>\n",
              "      <td>0.0</td>\n",
              "      <td>C23</td>\n",
              "      <td>2</td>\n",
              "      <td>57387</td>\n",
              "      <td>24/12/18</td>\n",
              "      <td>NaN</td>\n",
              "      <td>1</td>\n",
              "      <td>1</td>\n",
              "      <td>2381060</td>\n",
              "      <td>2</td>\n",
              "    </tr>\n",
              "    <tr>\n",
              "      <th>1</th>\n",
              "      <td>1</td>\n",
              "      <td>02/01/19</td>\n",
              "      <td>1</td>\n",
              "      <td>28.0</td>\n",
              "      <td>0.0</td>\n",
              "      <td>C23</td>\n",
              "      <td>2</td>\n",
              "      <td>57387</td>\n",
              "      <td>24/12/18</td>\n",
              "      <td>NaN</td>\n",
              "      <td>1</td>\n",
              "      <td>1</td>\n",
              "      <td>-665480</td>\n",
              "      <td>2</td>\n",
              "    </tr>\n",
              "    <tr>\n",
              "      <th>2</th>\n",
              "      <td>2</td>\n",
              "      <td>03/01/19</td>\n",
              "      <td>1</td>\n",
              "      <td>28.0</td>\n",
              "      <td>0.0</td>\n",
              "      <td>C23</td>\n",
              "      <td>2</td>\n",
              "      <td>57387</td>\n",
              "      <td>24/12/18</td>\n",
              "      <td>03/11/19</td>\n",
              "      <td>1</td>\n",
              "      <td>1</td>\n",
              "      <td>0</td>\n",
              "      <td>2</td>\n",
              "    </tr>\n",
              "    <tr>\n",
              "      <th>3</th>\n",
              "      <td>3</td>\n",
              "      <td>11/01/20</td>\n",
              "      <td>2</td>\n",
              "      <td>31.0</td>\n",
              "      <td>0.0</td>\n",
              "      <td>C7</td>\n",
              "      <td>2</td>\n",
              "      <td>67016</td>\n",
              "      <td>11/06/20</td>\n",
              "      <td>NaN</td>\n",
              "      <td>2</td>\n",
              "      <td>2</td>\n",
              "      <td>0</td>\n",
              "      <td>1</td>\n",
              "    </tr>\n",
              "    <tr>\n",
              "      <th>4</th>\n",
              "      <td>4</td>\n",
              "      <td>12/01/20</td>\n",
              "      <td>2</td>\n",
              "      <td>31.0</td>\n",
              "      <td>0.0</td>\n",
              "      <td>C7</td>\n",
              "      <td>2</td>\n",
              "      <td>67016</td>\n",
              "      <td>11/06/20</td>\n",
              "      <td>NaN</td>\n",
              "      <td>2</td>\n",
              "      <td>2</td>\n",
              "      <td>0</td>\n",
              "      <td>1</td>\n",
              "    </tr>\n",
              "    <tr>\n",
              "      <th>5</th>\n",
              "      <td>5</td>\n",
              "      <td>12/01/19</td>\n",
              "      <td>4</td>\n",
              "      <td>43.0</td>\n",
              "      <td>0.0</td>\n",
              "      <td>C13</td>\n",
              "      <td>2</td>\n",
              "      <td>65603</td>\n",
              "      <td>12/07/19</td>\n",
              "      <td>NaN</td>\n",
              "      <td>2</td>\n",
              "      <td>2</td>\n",
              "      <td>0</td>\n",
              "      <td>1</td>\n",
              "    </tr>\n",
              "    <tr>\n",
              "      <th>6</th>\n",
              "      <td>6</td>\n",
              "      <td>01/01/20</td>\n",
              "      <td>4</td>\n",
              "      <td>43.0</td>\n",
              "      <td>0.0</td>\n",
              "      <td>C13</td>\n",
              "      <td>2</td>\n",
              "      <td>65603</td>\n",
              "      <td>12/07/19</td>\n",
              "      <td>NaN</td>\n",
              "      <td>2</td>\n",
              "      <td>2</td>\n",
              "      <td>0</td>\n",
              "      <td>1</td>\n",
              "    </tr>\n",
              "    <tr>\n",
              "      <th>7</th>\n",
              "      <td>7</td>\n",
              "      <td>02/01/20</td>\n",
              "      <td>4</td>\n",
              "      <td>43.0</td>\n",
              "      <td>0.0</td>\n",
              "      <td>C13</td>\n",
              "      <td>2</td>\n",
              "      <td>65603</td>\n",
              "      <td>12/07/19</td>\n",
              "      <td>NaN</td>\n",
              "      <td>2</td>\n",
              "      <td>2</td>\n",
              "      <td>0</td>\n",
              "      <td>1</td>\n",
              "    </tr>\n",
              "    <tr>\n",
              "      <th>8</th>\n",
              "      <td>8</td>\n",
              "      <td>03/01/20</td>\n",
              "      <td>4</td>\n",
              "      <td>43.0</td>\n",
              "      <td>0.0</td>\n",
              "      <td>C13</td>\n",
              "      <td>2</td>\n",
              "      <td>65603</td>\n",
              "      <td>12/07/19</td>\n",
              "      <td>NaN</td>\n",
              "      <td>2</td>\n",
              "      <td>2</td>\n",
              "      <td>350000</td>\n",
              "      <td>1</td>\n",
              "    </tr>\n",
              "    <tr>\n",
              "      <th>9</th>\n",
              "      <td>9</td>\n",
              "      <td>04/01/20</td>\n",
              "      <td>4</td>\n",
              "      <td>43.0</td>\n",
              "      <td>0.0</td>\n",
              "      <td>C13</td>\n",
              "      <td>2</td>\n",
              "      <td>65603</td>\n",
              "      <td>12/07/19</td>\n",
              "      <td>27/04/20</td>\n",
              "      <td>2</td>\n",
              "      <td>2</td>\n",
              "      <td>0</td>\n",
              "      <td>1</td>\n",
              "    </tr>\n",
              "  </tbody>\n",
              "</table>\n",
              "</div>\n",
              "    <div class=\"colab-df-buttons\">\n",
              "\n",
              "  <div class=\"colab-df-container\">\n",
              "    <button class=\"colab-df-convert\" onclick=\"convertToInteractive('df-1d7e8228-d9af-4f14-830a-ac2394762548')\"\n",
              "            title=\"Convert this dataframe to an interactive table.\"\n",
              "            style=\"display:none;\">\n",
              "\n",
              "  <svg xmlns=\"http://www.w3.org/2000/svg\" height=\"24px\" viewBox=\"0 -960 960 960\">\n",
              "    <path d=\"M120-120v-720h720v720H120Zm60-500h600v-160H180v160Zm220 220h160v-160H400v160Zm0 220h160v-160H400v160ZM180-400h160v-160H180v160Zm440 0h160v-160H620v160ZM180-180h160v-160H180v160Zm440 0h160v-160H620v160Z\"/>\n",
              "  </svg>\n",
              "    </button>\n",
              "\n",
              "  <style>\n",
              "    .colab-df-container {\n",
              "      display:flex;\n",
              "      gap: 12px;\n",
              "    }\n",
              "\n",
              "    .colab-df-convert {\n",
              "      background-color: #E8F0FE;\n",
              "      border: none;\n",
              "      border-radius: 50%;\n",
              "      cursor: pointer;\n",
              "      display: none;\n",
              "      fill: #1967D2;\n",
              "      height: 32px;\n",
              "      padding: 0 0 0 0;\n",
              "      width: 32px;\n",
              "    }\n",
              "\n",
              "    .colab-df-convert:hover {\n",
              "      background-color: #E2EBFA;\n",
              "      box-shadow: 0px 1px 2px rgba(60, 64, 67, 0.3), 0px 1px 3px 1px rgba(60, 64, 67, 0.15);\n",
              "      fill: #174EA6;\n",
              "    }\n",
              "\n",
              "    .colab-df-buttons div {\n",
              "      margin-bottom: 4px;\n",
              "    }\n",
              "\n",
              "    [theme=dark] .colab-df-convert {\n",
              "      background-color: #3B4455;\n",
              "      fill: #D2E3FC;\n",
              "    }\n",
              "\n",
              "    [theme=dark] .colab-df-convert:hover {\n",
              "      background-color: #434B5C;\n",
              "      box-shadow: 0px 1px 3px 1px rgba(0, 0, 0, 0.15);\n",
              "      filter: drop-shadow(0px 1px 2px rgba(0, 0, 0, 0.3));\n",
              "      fill: #FFFFFF;\n",
              "    }\n",
              "  </style>\n",
              "\n",
              "    <script>\n",
              "      const buttonEl =\n",
              "        document.querySelector('#df-1d7e8228-d9af-4f14-830a-ac2394762548 button.colab-df-convert');\n",
              "      buttonEl.style.display =\n",
              "        google.colab.kernel.accessAllowed ? 'block' : 'none';\n",
              "\n",
              "      async function convertToInteractive(key) {\n",
              "        const element = document.querySelector('#df-1d7e8228-d9af-4f14-830a-ac2394762548');\n",
              "        const dataTable =\n",
              "          await google.colab.kernel.invokeFunction('convertToInteractive',\n",
              "                                                    [key], {});\n",
              "        if (!dataTable) return;\n",
              "\n",
              "        const docLinkHtml = 'Like what you see? Visit the ' +\n",
              "          '<a target=\"_blank\" href=https://colab.research.google.com/notebooks/data_table.ipynb>data table notebook</a>'\n",
              "          + ' to learn more about interactive tables.';\n",
              "        element.innerHTML = '';\n",
              "        dataTable['output_type'] = 'display_data';\n",
              "        await google.colab.output.renderOutput(dataTable, element);\n",
              "        const docLink = document.createElement('div');\n",
              "        docLink.innerHTML = docLinkHtml;\n",
              "        element.appendChild(docLink);\n",
              "      }\n",
              "    </script>\n",
              "  </div>\n",
              "\n",
              "\n",
              "<div id=\"df-3d8bf14f-ba0e-42af-977d-7895e607e84f\">\n",
              "  <button class=\"colab-df-quickchart\" onclick=\"quickchart('df-3d8bf14f-ba0e-42af-977d-7895e607e84f')\"\n",
              "            title=\"Suggest charts\"\n",
              "            style=\"display:none;\">\n",
              "\n",
              "<svg xmlns=\"http://www.w3.org/2000/svg\" height=\"24px\"viewBox=\"0 0 24 24\"\n",
              "     width=\"24px\">\n",
              "    <g>\n",
              "        <path d=\"M19 3H5c-1.1 0-2 .9-2 2v14c0 1.1.9 2 2 2h14c1.1 0 2-.9 2-2V5c0-1.1-.9-2-2-2zM9 17H7v-7h2v7zm4 0h-2V7h2v10zm4 0h-2v-4h2v4z\"/>\n",
              "    </g>\n",
              "</svg>\n",
              "  </button>\n",
              "\n",
              "<style>\n",
              "  .colab-df-quickchart {\n",
              "      --bg-color: #E8F0FE;\n",
              "      --fill-color: #1967D2;\n",
              "      --hover-bg-color: #E2EBFA;\n",
              "      --hover-fill-color: #174EA6;\n",
              "      --disabled-fill-color: #AAA;\n",
              "      --disabled-bg-color: #DDD;\n",
              "  }\n",
              "\n",
              "  [theme=dark] .colab-df-quickchart {\n",
              "      --bg-color: #3B4455;\n",
              "      --fill-color: #D2E3FC;\n",
              "      --hover-bg-color: #434B5C;\n",
              "      --hover-fill-color: #FFFFFF;\n",
              "      --disabled-bg-color: #3B4455;\n",
              "      --disabled-fill-color: #666;\n",
              "  }\n",
              "\n",
              "  .colab-df-quickchart {\n",
              "    background-color: var(--bg-color);\n",
              "    border: none;\n",
              "    border-radius: 50%;\n",
              "    cursor: pointer;\n",
              "    display: none;\n",
              "    fill: var(--fill-color);\n",
              "    height: 32px;\n",
              "    padding: 0;\n",
              "    width: 32px;\n",
              "  }\n",
              "\n",
              "  .colab-df-quickchart:hover {\n",
              "    background-color: var(--hover-bg-color);\n",
              "    box-shadow: 0 1px 2px rgba(60, 64, 67, 0.3), 0 1px 3px 1px rgba(60, 64, 67, 0.15);\n",
              "    fill: var(--button-hover-fill-color);\n",
              "  }\n",
              "\n",
              "  .colab-df-quickchart-complete:disabled,\n",
              "  .colab-df-quickchart-complete:disabled:hover {\n",
              "    background-color: var(--disabled-bg-color);\n",
              "    fill: var(--disabled-fill-color);\n",
              "    box-shadow: none;\n",
              "  }\n",
              "\n",
              "  .colab-df-spinner {\n",
              "    border: 2px solid var(--fill-color);\n",
              "    border-color: transparent;\n",
              "    border-bottom-color: var(--fill-color);\n",
              "    animation:\n",
              "      spin 1s steps(1) infinite;\n",
              "  }\n",
              "\n",
              "  @keyframes spin {\n",
              "    0% {\n",
              "      border-color: transparent;\n",
              "      border-bottom-color: var(--fill-color);\n",
              "      border-left-color: var(--fill-color);\n",
              "    }\n",
              "    20% {\n",
              "      border-color: transparent;\n",
              "      border-left-color: var(--fill-color);\n",
              "      border-top-color: var(--fill-color);\n",
              "    }\n",
              "    30% {\n",
              "      border-color: transparent;\n",
              "      border-left-color: var(--fill-color);\n",
              "      border-top-color: var(--fill-color);\n",
              "      border-right-color: var(--fill-color);\n",
              "    }\n",
              "    40% {\n",
              "      border-color: transparent;\n",
              "      border-right-color: var(--fill-color);\n",
              "      border-top-color: var(--fill-color);\n",
              "    }\n",
              "    60% {\n",
              "      border-color: transparent;\n",
              "      border-right-color: var(--fill-color);\n",
              "    }\n",
              "    80% {\n",
              "      border-color: transparent;\n",
              "      border-right-color: var(--fill-color);\n",
              "      border-bottom-color: var(--fill-color);\n",
              "    }\n",
              "    90% {\n",
              "      border-color: transparent;\n",
              "      border-bottom-color: var(--fill-color);\n",
              "    }\n",
              "  }\n",
              "</style>\n",
              "\n",
              "  <script>\n",
              "    async function quickchart(key) {\n",
              "      const quickchartButtonEl =\n",
              "        document.querySelector('#' + key + ' button');\n",
              "      quickchartButtonEl.disabled = true;  // To prevent multiple clicks.\n",
              "      quickchartButtonEl.classList.add('colab-df-spinner');\n",
              "      try {\n",
              "        const charts = await google.colab.kernel.invokeFunction(\n",
              "            'suggestCharts', [key], {});\n",
              "      } catch (error) {\n",
              "        console.error('Error during call to suggestCharts:', error);\n",
              "      }\n",
              "      quickchartButtonEl.classList.remove('colab-df-spinner');\n",
              "      quickchartButtonEl.classList.add('colab-df-quickchart-complete');\n",
              "    }\n",
              "    (() => {\n",
              "      let quickchartButtonEl =\n",
              "        document.querySelector('#df-3d8bf14f-ba0e-42af-977d-7895e607e84f button');\n",
              "      quickchartButtonEl.style.display =\n",
              "        google.colab.kernel.accessAllowed ? 'block' : 'none';\n",
              "    })();\n",
              "  </script>\n",
              "</div>\n",
              "\n",
              "    </div>\n",
              "  </div>\n"
            ],
            "application/vnd.google.colaboratory.intrinsic+json": {
              "type": "dataframe",
              "variable_name": "ola_data",
              "summary": "{\n  \"name\": \"ola_data\",\n  \"rows\": 19104,\n  \"fields\": [\n    {\n      \"column\": \"Unnamed: 0\",\n      \"properties\": {\n        \"dtype\": \"number\",\n        \"std\": 5514,\n        \"min\": 0,\n        \"max\": 19103,\n        \"num_unique_values\": 19104,\n        \"samples\": [\n          18299,\n          9376,\n          4518\n        ],\n        \"semantic_type\": \"\",\n        \"description\": \"\"\n      }\n    },\n    {\n      \"column\": \"MMM-YY\",\n      \"properties\": {\n        \"dtype\": \"object\",\n        \"num_unique_values\": 24,\n        \"samples\": [\n          \"03/01/20\",\n          \"10/01/19\",\n          \"01/01/19\"\n        ],\n        \"semantic_type\": \"\",\n        \"description\": \"\"\n      }\n    },\n    {\n      \"column\": \"Driver_ID\",\n      \"properties\": {\n        \"dtype\": \"number\",\n        \"std\": 810,\n        \"min\": 1,\n        \"max\": 2788,\n        \"num_unique_values\": 2381,\n        \"samples\": [\n          1663,\n          1264,\n          1618\n        ],\n        \"semantic_type\": \"\",\n        \"description\": \"\"\n      }\n    },\n    {\n      \"column\": \"Age\",\n      \"properties\": {\n        \"dtype\": \"number\",\n        \"std\": 6.257911686190604,\n        \"min\": 21.0,\n        \"max\": 58.0,\n        \"num_unique_values\": 36,\n        \"samples\": [\n          58.0,\n          41.0,\n          24.0\n        ],\n        \"semantic_type\": \"\",\n        \"description\": \"\"\n      }\n    },\n    {\n      \"column\": \"Gender\",\n      \"properties\": {\n        \"dtype\": \"number\",\n        \"std\": 0.49336700376604115,\n        \"min\": 0.0,\n        \"max\": 1.0,\n        \"num_unique_values\": 2,\n        \"samples\": [\n          1.0,\n          0.0\n        ],\n        \"semantic_type\": \"\",\n        \"description\": \"\"\n      }\n    },\n    {\n      \"column\": \"City\",\n      \"properties\": {\n        \"dtype\": \"category\",\n        \"num_unique_values\": 29,\n        \"samples\": [\n          \"C22\",\n          \"C5\"\n        ],\n        \"semantic_type\": \"\",\n        \"description\": \"\"\n      }\n    },\n    {\n      \"column\": \"Education_Level\",\n      \"properties\": {\n        \"dtype\": \"number\",\n        \"std\": 0,\n        \"min\": 0,\n        \"max\": 2,\n        \"num_unique_values\": 3,\n        \"samples\": [\n          2,\n          0\n        ],\n        \"semantic_type\": \"\",\n        \"description\": \"\"\n      }\n    },\n    {\n      \"column\": \"Income\",\n      \"properties\": {\n        \"dtype\": \"number\",\n        \"std\": 30914,\n        \"min\": 10747,\n        \"max\": 188418,\n        \"num_unique_values\": 2383,\n        \"samples\": [\n          44273,\n          35370\n        ],\n        \"semantic_type\": \"\",\n        \"description\": \"\"\n      }\n    },\n    {\n      \"column\": \"Dateofjoining\",\n      \"properties\": {\n        \"dtype\": \"object\",\n        \"num_unique_values\": 869,\n        \"samples\": [\n          \"14/09/19\",\n          \"01/06/18\"\n        ],\n        \"semantic_type\": \"\",\n        \"description\": \"\"\n      }\n    },\n    {\n      \"column\": \"LastWorkingDate\",\n      \"properties\": {\n        \"dtype\": \"date\",\n        \"min\": \"2018-12-31 00:00:00\",\n        \"max\": \"2020-12-28 00:00:00\",\n        \"num_unique_values\": 493,\n        \"samples\": [\n          \"05/03/20\",\n          \"10/01/19\"\n        ],\n        \"semantic_type\": \"\",\n        \"description\": \"\"\n      }\n    },\n    {\n      \"column\": \"Joining Designation\",\n      \"properties\": {\n        \"dtype\": \"number\",\n        \"std\": 0,\n        \"min\": 1,\n        \"max\": 5,\n        \"num_unique_values\": 5,\n        \"samples\": [\n          2,\n          5\n        ],\n        \"semantic_type\": \"\",\n        \"description\": \"\"\n      }\n    },\n    {\n      \"column\": \"Grade\",\n      \"properties\": {\n        \"dtype\": \"number\",\n        \"std\": 1,\n        \"min\": 1,\n        \"max\": 5,\n        \"num_unique_values\": 5,\n        \"samples\": [\n          2,\n          5\n        ],\n        \"semantic_type\": \"\",\n        \"description\": \"\"\n      }\n    },\n    {\n      \"column\": \"Total Business Value\",\n      \"properties\": {\n        \"dtype\": \"number\",\n        \"std\": 1128312,\n        \"min\": -6000000,\n        \"max\": 33747720,\n        \"num_unique_values\": 10181,\n        \"samples\": [\n          431090,\n          720180\n        ],\n        \"semantic_type\": \"\",\n        \"description\": \"\"\n      }\n    },\n    {\n      \"column\": \"Quarterly Rating\",\n      \"properties\": {\n        \"dtype\": \"number\",\n        \"std\": 1,\n        \"min\": 1,\n        \"max\": 4,\n        \"num_unique_values\": 4,\n        \"samples\": [\n          1,\n          3\n        ],\n        \"semantic_type\": \"\",\n        \"description\": \"\"\n      }\n    }\n  ]\n}"
            }
          },
          "metadata": {},
          "execution_count": 3
        }
      ]
    },
    {
      "cell_type": "code",
      "source": [
        "ola_data.info()"
      ],
      "metadata": {
        "colab": {
          "base_uri": "https://localhost:8080/"
        },
        "id": "gmIppBZ20PtU",
        "outputId": "f23327c2-218c-4dd9-92f4-48338f3e97ea"
      },
      "execution_count": 4,
      "outputs": [
        {
          "output_type": "stream",
          "name": "stdout",
          "text": [
            "<class 'pandas.core.frame.DataFrame'>\n",
            "RangeIndex: 19104 entries, 0 to 19103\n",
            "Data columns (total 14 columns):\n",
            " #   Column                Non-Null Count  Dtype  \n",
            "---  ------                --------------  -----  \n",
            " 0   Unnamed: 0            19104 non-null  int64  \n",
            " 1   MMM-YY                19104 non-null  object \n",
            " 2   Driver_ID             19104 non-null  int64  \n",
            " 3   Age                   19043 non-null  float64\n",
            " 4   Gender                19052 non-null  float64\n",
            " 5   City                  19104 non-null  object \n",
            " 6   Education_Level       19104 non-null  int64  \n",
            " 7   Income                19104 non-null  int64  \n",
            " 8   Dateofjoining         19104 non-null  object \n",
            " 9   LastWorkingDate       1616 non-null   object \n",
            " 10  Joining Designation   19104 non-null  int64  \n",
            " 11  Grade                 19104 non-null  int64  \n",
            " 12  Total Business Value  19104 non-null  int64  \n",
            " 13  Quarterly Rating      19104 non-null  int64  \n",
            "dtypes: float64(2), int64(8), object(4)\n",
            "memory usage: 2.0+ MB\n"
          ]
        }
      ]
    },
    {
      "cell_type": "code",
      "source": [
        "ola_data.shape"
      ],
      "metadata": {
        "colab": {
          "base_uri": "https://localhost:8080/"
        },
        "id": "Vz5i705busSY",
        "outputId": "4660baa5-fea2-44ed-80c9-964b5f27b1e4"
      },
      "execution_count": 5,
      "outputs": [
        {
          "output_type": "execute_result",
          "data": {
            "text/plain": [
              "(19104, 14)"
            ]
          },
          "metadata": {},
          "execution_count": 5
        }
      ]
    },
    {
      "cell_type": "code",
      "source": [
        "ola_data.drop(\"Unnamed: 0\", axis = 1, inplace = True)"
      ],
      "metadata": {
        "id": "l1r78WI9vNuo"
      },
      "execution_count": 6,
      "outputs": []
    },
    {
      "cell_type": "code",
      "source": [
        "ola_data.isnull().sum()"
      ],
      "metadata": {
        "colab": {
          "base_uri": "https://localhost:8080/"
        },
        "id": "672uj2mBxUiU",
        "outputId": "989ebf65-1984-4c73-8a3c-2fe284b95cbc"
      },
      "execution_count": 7,
      "outputs": [
        {
          "output_type": "execute_result",
          "data": {
            "text/plain": [
              "MMM-YY                      0\n",
              "Driver_ID                   0\n",
              "Age                        61\n",
              "Gender                     52\n",
              "City                        0\n",
              "Education_Level             0\n",
              "Income                      0\n",
              "Dateofjoining               0\n",
              "LastWorkingDate         17488\n",
              "Joining Designation         0\n",
              "Grade                       0\n",
              "Total Business Value        0\n",
              "Quarterly Rating            0\n",
              "dtype: int64"
            ]
          },
          "metadata": {},
          "execution_count": 7
        }
      ]
    },
    {
      "cell_type": "markdown",
      "source": [
        "**Statistical Summary of original data**"
      ],
      "metadata": {
        "id": "W7z63pEoU46W"
      }
    },
    {
      "cell_type": "code",
      "source": [
        "ola_data.describe(include = 'all')"
      ],
      "metadata": {
        "colab": {
          "base_uri": "https://localhost:8080/",
          "height": 449
        },
        "id": "v7r-E3S7VAeC",
        "outputId": "391f8bed-fc19-47c2-efcb-aee790545ee5"
      },
      "execution_count": 8,
      "outputs": [
        {
          "output_type": "execute_result",
          "data": {
            "text/plain": [
              "          MMM-YY     Driver_ID           Age        Gender   City  \\\n",
              "count      19104  19104.000000  19043.000000  19052.000000  19104   \n",
              "unique        24           NaN           NaN           NaN     29   \n",
              "top     01/01/19           NaN           NaN           NaN    C20   \n",
              "freq        1022           NaN           NaN           NaN   1008   \n",
              "mean         NaN   1415.591133     34.668435      0.418749    NaN   \n",
              "std          NaN    810.705321      6.257912      0.493367    NaN   \n",
              "min          NaN      1.000000     21.000000      0.000000    NaN   \n",
              "25%          NaN    710.000000     30.000000      0.000000    NaN   \n",
              "50%          NaN   1417.000000     34.000000      0.000000    NaN   \n",
              "75%          NaN   2137.000000     39.000000      1.000000    NaN   \n",
              "max          NaN   2788.000000     58.000000      1.000000    NaN   \n",
              "\n",
              "        Education_Level         Income Dateofjoining LastWorkingDate  \\\n",
              "count      19104.000000   19104.000000         19104            1616   \n",
              "unique              NaN            NaN           869             493   \n",
              "top                 NaN            NaN      23/07/15        29/07/20   \n",
              "freq                NaN            NaN           192              70   \n",
              "mean           1.021671   65652.025126           NaN             NaN   \n",
              "std            0.800167   30914.515344           NaN             NaN   \n",
              "min            0.000000   10747.000000           NaN             NaN   \n",
              "25%            0.000000   42383.000000           NaN             NaN   \n",
              "50%            1.000000   60087.000000           NaN             NaN   \n",
              "75%            2.000000   83969.000000           NaN             NaN   \n",
              "max            2.000000  188418.000000           NaN             NaN   \n",
              "\n",
              "        Joining Designation         Grade  Total Business Value  \\\n",
              "count          19104.000000  19104.000000          1.910400e+04   \n",
              "unique                  NaN           NaN                   NaN   \n",
              "top                     NaN           NaN                   NaN   \n",
              "freq                    NaN           NaN                   NaN   \n",
              "mean               1.690536      2.252670          5.716621e+05   \n",
              "std                0.836984      1.026512          1.128312e+06   \n",
              "min                1.000000      1.000000         -6.000000e+06   \n",
              "25%                1.000000      1.000000          0.000000e+00   \n",
              "50%                1.000000      2.000000          2.500000e+05   \n",
              "75%                2.000000      3.000000          6.997000e+05   \n",
              "max                5.000000      5.000000          3.374772e+07   \n",
              "\n",
              "        Quarterly Rating  \n",
              "count       19104.000000  \n",
              "unique               NaN  \n",
              "top                  NaN  \n",
              "freq                 NaN  \n",
              "mean            2.008899  \n",
              "std             1.009832  \n",
              "min             1.000000  \n",
              "25%             1.000000  \n",
              "50%             2.000000  \n",
              "75%             3.000000  \n",
              "max             4.000000  "
            ],
            "text/html": [
              "\n",
              "  <div id=\"df-6da294ee-cb08-4f7d-ae27-b5adb114861c\" class=\"colab-df-container\">\n",
              "    <div>\n",
              "<style scoped>\n",
              "    .dataframe tbody tr th:only-of-type {\n",
              "        vertical-align: middle;\n",
              "    }\n",
              "\n",
              "    .dataframe tbody tr th {\n",
              "        vertical-align: top;\n",
              "    }\n",
              "\n",
              "    .dataframe thead th {\n",
              "        text-align: right;\n",
              "    }\n",
              "</style>\n",
              "<table border=\"1\" class=\"dataframe\">\n",
              "  <thead>\n",
              "    <tr style=\"text-align: right;\">\n",
              "      <th></th>\n",
              "      <th>MMM-YY</th>\n",
              "      <th>Driver_ID</th>\n",
              "      <th>Age</th>\n",
              "      <th>Gender</th>\n",
              "      <th>City</th>\n",
              "      <th>Education_Level</th>\n",
              "      <th>Income</th>\n",
              "      <th>Dateofjoining</th>\n",
              "      <th>LastWorkingDate</th>\n",
              "      <th>Joining Designation</th>\n",
              "      <th>Grade</th>\n",
              "      <th>Total Business Value</th>\n",
              "      <th>Quarterly Rating</th>\n",
              "    </tr>\n",
              "  </thead>\n",
              "  <tbody>\n",
              "    <tr>\n",
              "      <th>count</th>\n",
              "      <td>19104</td>\n",
              "      <td>19104.000000</td>\n",
              "      <td>19043.000000</td>\n",
              "      <td>19052.000000</td>\n",
              "      <td>19104</td>\n",
              "      <td>19104.000000</td>\n",
              "      <td>19104.000000</td>\n",
              "      <td>19104</td>\n",
              "      <td>1616</td>\n",
              "      <td>19104.000000</td>\n",
              "      <td>19104.000000</td>\n",
              "      <td>1.910400e+04</td>\n",
              "      <td>19104.000000</td>\n",
              "    </tr>\n",
              "    <tr>\n",
              "      <th>unique</th>\n",
              "      <td>24</td>\n",
              "      <td>NaN</td>\n",
              "      <td>NaN</td>\n",
              "      <td>NaN</td>\n",
              "      <td>29</td>\n",
              "      <td>NaN</td>\n",
              "      <td>NaN</td>\n",
              "      <td>869</td>\n",
              "      <td>493</td>\n",
              "      <td>NaN</td>\n",
              "      <td>NaN</td>\n",
              "      <td>NaN</td>\n",
              "      <td>NaN</td>\n",
              "    </tr>\n",
              "    <tr>\n",
              "      <th>top</th>\n",
              "      <td>01/01/19</td>\n",
              "      <td>NaN</td>\n",
              "      <td>NaN</td>\n",
              "      <td>NaN</td>\n",
              "      <td>C20</td>\n",
              "      <td>NaN</td>\n",
              "      <td>NaN</td>\n",
              "      <td>23/07/15</td>\n",
              "      <td>29/07/20</td>\n",
              "      <td>NaN</td>\n",
              "      <td>NaN</td>\n",
              "      <td>NaN</td>\n",
              "      <td>NaN</td>\n",
              "    </tr>\n",
              "    <tr>\n",
              "      <th>freq</th>\n",
              "      <td>1022</td>\n",
              "      <td>NaN</td>\n",
              "      <td>NaN</td>\n",
              "      <td>NaN</td>\n",
              "      <td>1008</td>\n",
              "      <td>NaN</td>\n",
              "      <td>NaN</td>\n",
              "      <td>192</td>\n",
              "      <td>70</td>\n",
              "      <td>NaN</td>\n",
              "      <td>NaN</td>\n",
              "      <td>NaN</td>\n",
              "      <td>NaN</td>\n",
              "    </tr>\n",
              "    <tr>\n",
              "      <th>mean</th>\n",
              "      <td>NaN</td>\n",
              "      <td>1415.591133</td>\n",
              "      <td>34.668435</td>\n",
              "      <td>0.418749</td>\n",
              "      <td>NaN</td>\n",
              "      <td>1.021671</td>\n",
              "      <td>65652.025126</td>\n",
              "      <td>NaN</td>\n",
              "      <td>NaN</td>\n",
              "      <td>1.690536</td>\n",
              "      <td>2.252670</td>\n",
              "      <td>5.716621e+05</td>\n",
              "      <td>2.008899</td>\n",
              "    </tr>\n",
              "    <tr>\n",
              "      <th>std</th>\n",
              "      <td>NaN</td>\n",
              "      <td>810.705321</td>\n",
              "      <td>6.257912</td>\n",
              "      <td>0.493367</td>\n",
              "      <td>NaN</td>\n",
              "      <td>0.800167</td>\n",
              "      <td>30914.515344</td>\n",
              "      <td>NaN</td>\n",
              "      <td>NaN</td>\n",
              "      <td>0.836984</td>\n",
              "      <td>1.026512</td>\n",
              "      <td>1.128312e+06</td>\n",
              "      <td>1.009832</td>\n",
              "    </tr>\n",
              "    <tr>\n",
              "      <th>min</th>\n",
              "      <td>NaN</td>\n",
              "      <td>1.000000</td>\n",
              "      <td>21.000000</td>\n",
              "      <td>0.000000</td>\n",
              "      <td>NaN</td>\n",
              "      <td>0.000000</td>\n",
              "      <td>10747.000000</td>\n",
              "      <td>NaN</td>\n",
              "      <td>NaN</td>\n",
              "      <td>1.000000</td>\n",
              "      <td>1.000000</td>\n",
              "      <td>-6.000000e+06</td>\n",
              "      <td>1.000000</td>\n",
              "    </tr>\n",
              "    <tr>\n",
              "      <th>25%</th>\n",
              "      <td>NaN</td>\n",
              "      <td>710.000000</td>\n",
              "      <td>30.000000</td>\n",
              "      <td>0.000000</td>\n",
              "      <td>NaN</td>\n",
              "      <td>0.000000</td>\n",
              "      <td>42383.000000</td>\n",
              "      <td>NaN</td>\n",
              "      <td>NaN</td>\n",
              "      <td>1.000000</td>\n",
              "      <td>1.000000</td>\n",
              "      <td>0.000000e+00</td>\n",
              "      <td>1.000000</td>\n",
              "    </tr>\n",
              "    <tr>\n",
              "      <th>50%</th>\n",
              "      <td>NaN</td>\n",
              "      <td>1417.000000</td>\n",
              "      <td>34.000000</td>\n",
              "      <td>0.000000</td>\n",
              "      <td>NaN</td>\n",
              "      <td>1.000000</td>\n",
              "      <td>60087.000000</td>\n",
              "      <td>NaN</td>\n",
              "      <td>NaN</td>\n",
              "      <td>1.000000</td>\n",
              "      <td>2.000000</td>\n",
              "      <td>2.500000e+05</td>\n",
              "      <td>2.000000</td>\n",
              "    </tr>\n",
              "    <tr>\n",
              "      <th>75%</th>\n",
              "      <td>NaN</td>\n",
              "      <td>2137.000000</td>\n",
              "      <td>39.000000</td>\n",
              "      <td>1.000000</td>\n",
              "      <td>NaN</td>\n",
              "      <td>2.000000</td>\n",
              "      <td>83969.000000</td>\n",
              "      <td>NaN</td>\n",
              "      <td>NaN</td>\n",
              "      <td>2.000000</td>\n",
              "      <td>3.000000</td>\n",
              "      <td>6.997000e+05</td>\n",
              "      <td>3.000000</td>\n",
              "    </tr>\n",
              "    <tr>\n",
              "      <th>max</th>\n",
              "      <td>NaN</td>\n",
              "      <td>2788.000000</td>\n",
              "      <td>58.000000</td>\n",
              "      <td>1.000000</td>\n",
              "      <td>NaN</td>\n",
              "      <td>2.000000</td>\n",
              "      <td>188418.000000</td>\n",
              "      <td>NaN</td>\n",
              "      <td>NaN</td>\n",
              "      <td>5.000000</td>\n",
              "      <td>5.000000</td>\n",
              "      <td>3.374772e+07</td>\n",
              "      <td>4.000000</td>\n",
              "    </tr>\n",
              "  </tbody>\n",
              "</table>\n",
              "</div>\n",
              "    <div class=\"colab-df-buttons\">\n",
              "\n",
              "  <div class=\"colab-df-container\">\n",
              "    <button class=\"colab-df-convert\" onclick=\"convertToInteractive('df-6da294ee-cb08-4f7d-ae27-b5adb114861c')\"\n",
              "            title=\"Convert this dataframe to an interactive table.\"\n",
              "            style=\"display:none;\">\n",
              "\n",
              "  <svg xmlns=\"http://www.w3.org/2000/svg\" height=\"24px\" viewBox=\"0 -960 960 960\">\n",
              "    <path d=\"M120-120v-720h720v720H120Zm60-500h600v-160H180v160Zm220 220h160v-160H400v160Zm0 220h160v-160H400v160ZM180-400h160v-160H180v160Zm440 0h160v-160H620v160ZM180-180h160v-160H180v160Zm440 0h160v-160H620v160Z\"/>\n",
              "  </svg>\n",
              "    </button>\n",
              "\n",
              "  <style>\n",
              "    .colab-df-container {\n",
              "      display:flex;\n",
              "      gap: 12px;\n",
              "    }\n",
              "\n",
              "    .colab-df-convert {\n",
              "      background-color: #E8F0FE;\n",
              "      border: none;\n",
              "      border-radius: 50%;\n",
              "      cursor: pointer;\n",
              "      display: none;\n",
              "      fill: #1967D2;\n",
              "      height: 32px;\n",
              "      padding: 0 0 0 0;\n",
              "      width: 32px;\n",
              "    }\n",
              "\n",
              "    .colab-df-convert:hover {\n",
              "      background-color: #E2EBFA;\n",
              "      box-shadow: 0px 1px 2px rgba(60, 64, 67, 0.3), 0px 1px 3px 1px rgba(60, 64, 67, 0.15);\n",
              "      fill: #174EA6;\n",
              "    }\n",
              "\n",
              "    .colab-df-buttons div {\n",
              "      margin-bottom: 4px;\n",
              "    }\n",
              "\n",
              "    [theme=dark] .colab-df-convert {\n",
              "      background-color: #3B4455;\n",
              "      fill: #D2E3FC;\n",
              "    }\n",
              "\n",
              "    [theme=dark] .colab-df-convert:hover {\n",
              "      background-color: #434B5C;\n",
              "      box-shadow: 0px 1px 3px 1px rgba(0, 0, 0, 0.15);\n",
              "      filter: drop-shadow(0px 1px 2px rgba(0, 0, 0, 0.3));\n",
              "      fill: #FFFFFF;\n",
              "    }\n",
              "  </style>\n",
              "\n",
              "    <script>\n",
              "      const buttonEl =\n",
              "        document.querySelector('#df-6da294ee-cb08-4f7d-ae27-b5adb114861c button.colab-df-convert');\n",
              "      buttonEl.style.display =\n",
              "        google.colab.kernel.accessAllowed ? 'block' : 'none';\n",
              "\n",
              "      async function convertToInteractive(key) {\n",
              "        const element = document.querySelector('#df-6da294ee-cb08-4f7d-ae27-b5adb114861c');\n",
              "        const dataTable =\n",
              "          await google.colab.kernel.invokeFunction('convertToInteractive',\n",
              "                                                    [key], {});\n",
              "        if (!dataTable) return;\n",
              "\n",
              "        const docLinkHtml = 'Like what you see? Visit the ' +\n",
              "          '<a target=\"_blank\" href=https://colab.research.google.com/notebooks/data_table.ipynb>data table notebook</a>'\n",
              "          + ' to learn more about interactive tables.';\n",
              "        element.innerHTML = '';\n",
              "        dataTable['output_type'] = 'display_data';\n",
              "        await google.colab.output.renderOutput(dataTable, element);\n",
              "        const docLink = document.createElement('div');\n",
              "        docLink.innerHTML = docLinkHtml;\n",
              "        element.appendChild(docLink);\n",
              "      }\n",
              "    </script>\n",
              "  </div>\n",
              "\n",
              "\n",
              "<div id=\"df-48902f97-d484-4756-a653-f83413dcd69d\">\n",
              "  <button class=\"colab-df-quickchart\" onclick=\"quickchart('df-48902f97-d484-4756-a653-f83413dcd69d')\"\n",
              "            title=\"Suggest charts\"\n",
              "            style=\"display:none;\">\n",
              "\n",
              "<svg xmlns=\"http://www.w3.org/2000/svg\" height=\"24px\"viewBox=\"0 0 24 24\"\n",
              "     width=\"24px\">\n",
              "    <g>\n",
              "        <path d=\"M19 3H5c-1.1 0-2 .9-2 2v14c0 1.1.9 2 2 2h14c1.1 0 2-.9 2-2V5c0-1.1-.9-2-2-2zM9 17H7v-7h2v7zm4 0h-2V7h2v10zm4 0h-2v-4h2v4z\"/>\n",
              "    </g>\n",
              "</svg>\n",
              "  </button>\n",
              "\n",
              "<style>\n",
              "  .colab-df-quickchart {\n",
              "      --bg-color: #E8F0FE;\n",
              "      --fill-color: #1967D2;\n",
              "      --hover-bg-color: #E2EBFA;\n",
              "      --hover-fill-color: #174EA6;\n",
              "      --disabled-fill-color: #AAA;\n",
              "      --disabled-bg-color: #DDD;\n",
              "  }\n",
              "\n",
              "  [theme=dark] .colab-df-quickchart {\n",
              "      --bg-color: #3B4455;\n",
              "      --fill-color: #D2E3FC;\n",
              "      --hover-bg-color: #434B5C;\n",
              "      --hover-fill-color: #FFFFFF;\n",
              "      --disabled-bg-color: #3B4455;\n",
              "      --disabled-fill-color: #666;\n",
              "  }\n",
              "\n",
              "  .colab-df-quickchart {\n",
              "    background-color: var(--bg-color);\n",
              "    border: none;\n",
              "    border-radius: 50%;\n",
              "    cursor: pointer;\n",
              "    display: none;\n",
              "    fill: var(--fill-color);\n",
              "    height: 32px;\n",
              "    padding: 0;\n",
              "    width: 32px;\n",
              "  }\n",
              "\n",
              "  .colab-df-quickchart:hover {\n",
              "    background-color: var(--hover-bg-color);\n",
              "    box-shadow: 0 1px 2px rgba(60, 64, 67, 0.3), 0 1px 3px 1px rgba(60, 64, 67, 0.15);\n",
              "    fill: var(--button-hover-fill-color);\n",
              "  }\n",
              "\n",
              "  .colab-df-quickchart-complete:disabled,\n",
              "  .colab-df-quickchart-complete:disabled:hover {\n",
              "    background-color: var(--disabled-bg-color);\n",
              "    fill: var(--disabled-fill-color);\n",
              "    box-shadow: none;\n",
              "  }\n",
              "\n",
              "  .colab-df-spinner {\n",
              "    border: 2px solid var(--fill-color);\n",
              "    border-color: transparent;\n",
              "    border-bottom-color: var(--fill-color);\n",
              "    animation:\n",
              "      spin 1s steps(1) infinite;\n",
              "  }\n",
              "\n",
              "  @keyframes spin {\n",
              "    0% {\n",
              "      border-color: transparent;\n",
              "      border-bottom-color: var(--fill-color);\n",
              "      border-left-color: var(--fill-color);\n",
              "    }\n",
              "    20% {\n",
              "      border-color: transparent;\n",
              "      border-left-color: var(--fill-color);\n",
              "      border-top-color: var(--fill-color);\n",
              "    }\n",
              "    30% {\n",
              "      border-color: transparent;\n",
              "      border-left-color: var(--fill-color);\n",
              "      border-top-color: var(--fill-color);\n",
              "      border-right-color: var(--fill-color);\n",
              "    }\n",
              "    40% {\n",
              "      border-color: transparent;\n",
              "      border-right-color: var(--fill-color);\n",
              "      border-top-color: var(--fill-color);\n",
              "    }\n",
              "    60% {\n",
              "      border-color: transparent;\n",
              "      border-right-color: var(--fill-color);\n",
              "    }\n",
              "    80% {\n",
              "      border-color: transparent;\n",
              "      border-right-color: var(--fill-color);\n",
              "      border-bottom-color: var(--fill-color);\n",
              "    }\n",
              "    90% {\n",
              "      border-color: transparent;\n",
              "      border-bottom-color: var(--fill-color);\n",
              "    }\n",
              "  }\n",
              "</style>\n",
              "\n",
              "  <script>\n",
              "    async function quickchart(key) {\n",
              "      const quickchartButtonEl =\n",
              "        document.querySelector('#' + key + ' button');\n",
              "      quickchartButtonEl.disabled = true;  // To prevent multiple clicks.\n",
              "      quickchartButtonEl.classList.add('colab-df-spinner');\n",
              "      try {\n",
              "        const charts = await google.colab.kernel.invokeFunction(\n",
              "            'suggestCharts', [key], {});\n",
              "      } catch (error) {\n",
              "        console.error('Error during call to suggestCharts:', error);\n",
              "      }\n",
              "      quickchartButtonEl.classList.remove('colab-df-spinner');\n",
              "      quickchartButtonEl.classList.add('colab-df-quickchart-complete');\n",
              "    }\n",
              "    (() => {\n",
              "      let quickchartButtonEl =\n",
              "        document.querySelector('#df-48902f97-d484-4756-a653-f83413dcd69d button');\n",
              "      quickchartButtonEl.style.display =\n",
              "        google.colab.kernel.accessAllowed ? 'block' : 'none';\n",
              "    })();\n",
              "  </script>\n",
              "</div>\n",
              "\n",
              "    </div>\n",
              "  </div>\n"
            ],
            "application/vnd.google.colaboratory.intrinsic+json": {
              "type": "dataframe",
              "summary": "{\n  \"name\": \"ola_data\",\n  \"rows\": 11,\n  \"fields\": [\n    {\n      \"column\": \"MMM-YY\",\n      \"properties\": {\n        \"dtype\": \"date\",\n        \"min\": \"1970-01-01 00:00:00.000000024\",\n        \"max\": \"2019-01-01 00:00:00\",\n        \"num_unique_values\": 4,\n        \"samples\": [\n          24,\n          \"1022\",\n          \"19104\"\n        ],\n        \"semantic_type\": \"\",\n        \"description\": \"\"\n      }\n    },\n    {\n      \"column\": \"Driver_ID\",\n      \"properties\": {\n        \"dtype\": \"number\",\n        \"std\": 6344.561458172486,\n        \"min\": 1.0,\n        \"max\": 19104.0,\n        \"num_unique_values\": 8,\n        \"samples\": [\n          1415.5911327470687,\n          1417.0,\n          19104.0\n        ],\n        \"semantic_type\": \"\",\n        \"description\": \"\"\n      }\n    },\n    {\n      \"column\": \"Age\",\n      \"properties\": {\n        \"dtype\": \"number\",\n        \"std\": 6721.47392758328,\n        \"min\": 6.257911686190604,\n        \"max\": 19043.0,\n        \"num_unique_values\": 8,\n        \"samples\": [\n          34.668434595389385,\n          34.0,\n          19043.0\n        ],\n        \"semantic_type\": \"\",\n        \"description\": \"\"\n      }\n    },\n    {\n      \"column\": \"Gender\",\n      \"properties\": {\n        \"dtype\": \"number\",\n        \"std\": 6735.752126331659,\n        \"min\": 0.0,\n        \"max\": 19052.0,\n        \"num_unique_values\": 5,\n        \"samples\": [\n          0.4187486878018056,\n          1.0,\n          0.49336700376604115\n        ],\n        \"semantic_type\": \"\",\n        \"description\": \"\"\n      }\n    },\n    {\n      \"column\": \"City\",\n      \"properties\": {\n        \"dtype\": \"category\",\n        \"num_unique_values\": 4,\n        \"samples\": [\n          29,\n          \"1008\",\n          \"19104\"\n        ],\n        \"semantic_type\": \"\",\n        \"description\": \"\"\n      }\n    },\n    {\n      \"column\": \"Education_Level\",\n      \"properties\": {\n        \"dtype\": \"number\",\n        \"std\": 6753.939461727606,\n        \"min\": 0.0,\n        \"max\": 19104.0,\n        \"num_unique_values\": 6,\n        \"samples\": [\n          19104.0,\n          1.0216708542713568,\n          2.0\n        ],\n        \"semantic_type\": \"\",\n        \"description\": \"\"\n      }\n    },\n    {\n      \"column\": \"Income\",\n      \"properties\": {\n        \"dtype\": \"number\",\n        \"std\": 56436.738053256035,\n        \"min\": 10747.0,\n        \"max\": 188418.0,\n        \"num_unique_values\": 8,\n        \"samples\": [\n          65652.02512562813,\n          60087.0,\n          19104.0\n        ],\n        \"semantic_type\": \"\",\n        \"description\": \"\"\n      }\n    },\n    {\n      \"column\": \"Dateofjoining\",\n      \"properties\": {\n        \"dtype\": \"date\",\n        \"min\": \"1970-01-01 00:00:00.000000192\",\n        \"max\": \"2015-07-23 00:00:00\",\n        \"num_unique_values\": 4,\n        \"samples\": [\n          869,\n          \"192\",\n          \"19104\"\n        ],\n        \"semantic_type\": \"\",\n        \"description\": \"\"\n      }\n    },\n    {\n      \"column\": \"LastWorkingDate\",\n      \"properties\": {\n        \"dtype\": \"date\",\n        \"min\": \"1970-01-01 00:00:00.000000070\",\n        \"max\": \"2020-07-29 00:00:00\",\n        \"num_unique_values\": 4,\n        \"samples\": [\n          493,\n          \"70\",\n          \"1616\"\n        ],\n        \"semantic_type\": \"\",\n        \"description\": \"\"\n      }\n    },\n    {\n      \"column\": \"Joining Designation\",\n      \"properties\": {\n        \"dtype\": \"number\",\n        \"std\": 6753.651377555244,\n        \"min\": 0.8369837171189359,\n        \"max\": 19104.0,\n        \"num_unique_values\": 6,\n        \"samples\": [\n          19104.0,\n          1.690536013400335,\n          5.0\n        ],\n        \"semantic_type\": \"\",\n        \"description\": \"\"\n      }\n    },\n    {\n      \"column\": \"Grade\",\n      \"properties\": {\n        \"dtype\": \"number\",\n        \"std\": 6753.512393804841,\n        \"min\": 1.0,\n        \"max\": 19104.0,\n        \"num_unique_values\": 7,\n        \"samples\": [\n          19104.0,\n          2.2526695979899496,\n          3.0\n        ],\n        \"semantic_type\": \"\",\n        \"description\": \"\"\n      }\n    },\n    {\n      \"column\": \"Total Business Value\",\n      \"properties\": {\n        \"dtype\": \"number\",\n        \"std\": 12313845.373558125,\n        \"min\": -6000000.0,\n        \"max\": 33747720.0,\n        \"num_unique_values\": 8,\n        \"samples\": [\n          571662.074958124,\n          250000.0,\n          19104.0\n        ],\n        \"semantic_type\": \"\",\n        \"description\": \"\"\n      }\n    },\n    {\n      \"column\": \"Quarterly Rating\",\n      \"properties\": {\n        \"dtype\": \"number\",\n        \"std\": 6753.57600547721,\n        \"min\": 1.0,\n        \"max\": 19104.0,\n        \"num_unique_values\": 7,\n        \"samples\": [\n          19104.0,\n          2.008898659966499,\n          3.0\n        ],\n        \"semantic_type\": \"\",\n        \"description\": \"\"\n      }\n    }\n  ]\n}"
            }
          },
          "metadata": {},
          "execution_count": 8
        }
      ]
    },
    {
      "cell_type": "code",
      "source": [
        "ola_data[[\"MMM-YY\",\"Dateofjoining\",\"LastWorkingDate\"]]= ola_data[[\"MMM-YY\",\"Dateofjoining\",\"LastWorkingDate\"]].apply(pd.to_datetime)"
      ],
      "metadata": {
        "id": "StJqgn4JBxZl"
      },
      "execution_count": 9,
      "outputs": []
    },
    {
      "cell_type": "markdown",
      "source": [
        "# **Removing multiple occurances of data for same driver**"
      ],
      "metadata": {
        "id": "PuCY6-Y4DarK"
      }
    },
    {
      "cell_type": "markdown",
      "source": [
        "\n",
        "*   Since multiple records exist for same drivers, data frame is grouped by Driver_ID and aggreagtion is done to remove multiple occurances.\n",
        "\n"
      ],
      "metadata": {
        "id": "GDrPsRRiVjZ_"
      }
    },
    {
      "cell_type": "code",
      "source": [
        "df = ola_data.copy()"
      ],
      "metadata": {
        "id": "QKhjNG8uB74q"
      },
      "execution_count": 10,
      "outputs": []
    },
    {
      "cell_type": "code",
      "source": [
        "def max_rep(x):\n",
        "  x[\"Max_report_date\"] = x[\"MMM-YY\"].max()\n",
        "  return x\n",
        "\n",
        "df = df.groupby(\"Driver_ID\").apply(max_rep)"
      ],
      "metadata": {
        "colab": {
          "base_uri": "https://localhost:8080/"
        },
        "id": "MsbQIXlfBh4f",
        "outputId": "d7aa4f9b-c9d0-4edf-df92-269e1b466349"
      },
      "execution_count": 11,
      "outputs": [
        {
          "output_type": "stream",
          "name": "stderr",
          "text": [
            "<ipython-input-11-9b0d83e751bc>:5: FutureWarning: Not prepending group keys to the result index of transform-like apply. In the future, the group keys will be included in the index, regardless of whether the applied function returns a like-indexed object.\n",
            "To preserve the previous behavior, use\n",
            "\n",
            "\t>>> .groupby(..., group_keys=False)\n",
            "\n",
            "To adopt the future behavior and silence this warning, use \n",
            "\n",
            "\t>>> .groupby(..., group_keys=True)\n",
            "  df = df.groupby(\"Driver_ID\").apply(max_rep)\n"
          ]
        }
      ]
    },
    {
      "cell_type": "code",
      "source": [
        "def avg_business_values(x):\n",
        "  x[\"AvgTotal Business Value\"] = x[\"Total Business Value\"].mean()\n",
        "  return x\n",
        "\n",
        "df = df.groupby(\"Driver_ID\").apply(avg_business_values)"
      ],
      "metadata": {
        "colab": {
          "base_uri": "https://localhost:8080/"
        },
        "id": "oOdp0ZkXDo6q",
        "outputId": "3b7e8410-fda8-4e53-cabf-1e084e8402e5"
      },
      "execution_count": 12,
      "outputs": [
        {
          "output_type": "stream",
          "name": "stderr",
          "text": [
            "<ipython-input-12-7513920e3e38>:5: FutureWarning: Not prepending group keys to the result index of transform-like apply. In the future, the group keys will be included in the index, regardless of whether the applied function returns a like-indexed object.\n",
            "To preserve the previous behavior, use\n",
            "\n",
            "\t>>> .groupby(..., group_keys=False)\n",
            "\n",
            "To adopt the future behavior and silence this warning, use \n",
            "\n",
            "\t>>> .groupby(..., group_keys=True)\n",
            "  df = df.groupby(\"Driver_ID\").apply(avg_business_values)\n"
          ]
        }
      ]
    },
    {
      "cell_type": "code",
      "source": [
        "df.head(10)"
      ],
      "metadata": {
        "colab": {
          "base_uri": "https://localhost:8080/",
          "height": 591
        },
        "id": "4AvkPxBtIMpL",
        "outputId": "6106aa0e-fd54-42b1-aa66-d2d6c0c2f7f4"
      },
      "execution_count": 13,
      "outputs": [
        {
          "output_type": "execute_result",
          "data": {
            "text/plain": [
              "      MMM-YY  Driver_ID   Age  Gender City  Education_Level  Income  \\\n",
              "0 2019-01-01          1  28.0     0.0  C23                2   57387   \n",
              "1 2019-02-01          1  28.0     0.0  C23                2   57387   \n",
              "2 2019-03-01          1  28.0     0.0  C23                2   57387   \n",
              "3 2020-11-01          2  31.0     0.0   C7                2   67016   \n",
              "4 2020-12-01          2  31.0     0.0   C7                2   67016   \n",
              "5 2019-12-01          4  43.0     0.0  C13                2   65603   \n",
              "6 2020-01-01          4  43.0     0.0  C13                2   65603   \n",
              "7 2020-02-01          4  43.0     0.0  C13                2   65603   \n",
              "8 2020-03-01          4  43.0     0.0  C13                2   65603   \n",
              "9 2020-04-01          4  43.0     0.0  C13                2   65603   \n",
              "\n",
              "  Dateofjoining LastWorkingDate  Joining Designation  Grade  \\\n",
              "0    2018-12-24             NaT                    1      1   \n",
              "1    2018-12-24             NaT                    1      1   \n",
              "2    2018-12-24      2019-03-11                    1      1   \n",
              "3    2020-11-06             NaT                    2      2   \n",
              "4    2020-11-06             NaT                    2      2   \n",
              "5    2019-12-07             NaT                    2      2   \n",
              "6    2019-12-07             NaT                    2      2   \n",
              "7    2019-12-07             NaT                    2      2   \n",
              "8    2019-12-07             NaT                    2      2   \n",
              "9    2019-12-07      2020-04-27                    2      2   \n",
              "\n",
              "   Total Business Value  Quarterly Rating Max_report_date  \\\n",
              "0               2381060                 2      2019-03-01   \n",
              "1               -665480                 2      2019-03-01   \n",
              "2                     0                 2      2019-03-01   \n",
              "3                     0                 1      2020-12-01   \n",
              "4                     0                 1      2020-12-01   \n",
              "5                     0                 1      2020-04-01   \n",
              "6                     0                 1      2020-04-01   \n",
              "7                     0                 1      2020-04-01   \n",
              "8                350000                 1      2020-04-01   \n",
              "9                     0                 1      2020-04-01   \n",
              "\n",
              "   AvgTotal Business Value  \n",
              "0                 571860.0  \n",
              "1                 571860.0  \n",
              "2                 571860.0  \n",
              "3                      0.0  \n",
              "4                      0.0  \n",
              "5                  70000.0  \n",
              "6                  70000.0  \n",
              "7                  70000.0  \n",
              "8                  70000.0  \n",
              "9                  70000.0  "
            ],
            "text/html": [
              "\n",
              "  <div id=\"df-c685628e-0505-40b5-b71a-fccc89b577a2\" class=\"colab-df-container\">\n",
              "    <div>\n",
              "<style scoped>\n",
              "    .dataframe tbody tr th:only-of-type {\n",
              "        vertical-align: middle;\n",
              "    }\n",
              "\n",
              "    .dataframe tbody tr th {\n",
              "        vertical-align: top;\n",
              "    }\n",
              "\n",
              "    .dataframe thead th {\n",
              "        text-align: right;\n",
              "    }\n",
              "</style>\n",
              "<table border=\"1\" class=\"dataframe\">\n",
              "  <thead>\n",
              "    <tr style=\"text-align: right;\">\n",
              "      <th></th>\n",
              "      <th>MMM-YY</th>\n",
              "      <th>Driver_ID</th>\n",
              "      <th>Age</th>\n",
              "      <th>Gender</th>\n",
              "      <th>City</th>\n",
              "      <th>Education_Level</th>\n",
              "      <th>Income</th>\n",
              "      <th>Dateofjoining</th>\n",
              "      <th>LastWorkingDate</th>\n",
              "      <th>Joining Designation</th>\n",
              "      <th>Grade</th>\n",
              "      <th>Total Business Value</th>\n",
              "      <th>Quarterly Rating</th>\n",
              "      <th>Max_report_date</th>\n",
              "      <th>AvgTotal Business Value</th>\n",
              "    </tr>\n",
              "  </thead>\n",
              "  <tbody>\n",
              "    <tr>\n",
              "      <th>0</th>\n",
              "      <td>2019-01-01</td>\n",
              "      <td>1</td>\n",
              "      <td>28.0</td>\n",
              "      <td>0.0</td>\n",
              "      <td>C23</td>\n",
              "      <td>2</td>\n",
              "      <td>57387</td>\n",
              "      <td>2018-12-24</td>\n",
              "      <td>NaT</td>\n",
              "      <td>1</td>\n",
              "      <td>1</td>\n",
              "      <td>2381060</td>\n",
              "      <td>2</td>\n",
              "      <td>2019-03-01</td>\n",
              "      <td>571860.0</td>\n",
              "    </tr>\n",
              "    <tr>\n",
              "      <th>1</th>\n",
              "      <td>2019-02-01</td>\n",
              "      <td>1</td>\n",
              "      <td>28.0</td>\n",
              "      <td>0.0</td>\n",
              "      <td>C23</td>\n",
              "      <td>2</td>\n",
              "      <td>57387</td>\n",
              "      <td>2018-12-24</td>\n",
              "      <td>NaT</td>\n",
              "      <td>1</td>\n",
              "      <td>1</td>\n",
              "      <td>-665480</td>\n",
              "      <td>2</td>\n",
              "      <td>2019-03-01</td>\n",
              "      <td>571860.0</td>\n",
              "    </tr>\n",
              "    <tr>\n",
              "      <th>2</th>\n",
              "      <td>2019-03-01</td>\n",
              "      <td>1</td>\n",
              "      <td>28.0</td>\n",
              "      <td>0.0</td>\n",
              "      <td>C23</td>\n",
              "      <td>2</td>\n",
              "      <td>57387</td>\n",
              "      <td>2018-12-24</td>\n",
              "      <td>2019-03-11</td>\n",
              "      <td>1</td>\n",
              "      <td>1</td>\n",
              "      <td>0</td>\n",
              "      <td>2</td>\n",
              "      <td>2019-03-01</td>\n",
              "      <td>571860.0</td>\n",
              "    </tr>\n",
              "    <tr>\n",
              "      <th>3</th>\n",
              "      <td>2020-11-01</td>\n",
              "      <td>2</td>\n",
              "      <td>31.0</td>\n",
              "      <td>0.0</td>\n",
              "      <td>C7</td>\n",
              "      <td>2</td>\n",
              "      <td>67016</td>\n",
              "      <td>2020-11-06</td>\n",
              "      <td>NaT</td>\n",
              "      <td>2</td>\n",
              "      <td>2</td>\n",
              "      <td>0</td>\n",
              "      <td>1</td>\n",
              "      <td>2020-12-01</td>\n",
              "      <td>0.0</td>\n",
              "    </tr>\n",
              "    <tr>\n",
              "      <th>4</th>\n",
              "      <td>2020-12-01</td>\n",
              "      <td>2</td>\n",
              "      <td>31.0</td>\n",
              "      <td>0.0</td>\n",
              "      <td>C7</td>\n",
              "      <td>2</td>\n",
              "      <td>67016</td>\n",
              "      <td>2020-11-06</td>\n",
              "      <td>NaT</td>\n",
              "      <td>2</td>\n",
              "      <td>2</td>\n",
              "      <td>0</td>\n",
              "      <td>1</td>\n",
              "      <td>2020-12-01</td>\n",
              "      <td>0.0</td>\n",
              "    </tr>\n",
              "    <tr>\n",
              "      <th>5</th>\n",
              "      <td>2019-12-01</td>\n",
              "      <td>4</td>\n",
              "      <td>43.0</td>\n",
              "      <td>0.0</td>\n",
              "      <td>C13</td>\n",
              "      <td>2</td>\n",
              "      <td>65603</td>\n",
              "      <td>2019-12-07</td>\n",
              "      <td>NaT</td>\n",
              "      <td>2</td>\n",
              "      <td>2</td>\n",
              "      <td>0</td>\n",
              "      <td>1</td>\n",
              "      <td>2020-04-01</td>\n",
              "      <td>70000.0</td>\n",
              "    </tr>\n",
              "    <tr>\n",
              "      <th>6</th>\n",
              "      <td>2020-01-01</td>\n",
              "      <td>4</td>\n",
              "      <td>43.0</td>\n",
              "      <td>0.0</td>\n",
              "      <td>C13</td>\n",
              "      <td>2</td>\n",
              "      <td>65603</td>\n",
              "      <td>2019-12-07</td>\n",
              "      <td>NaT</td>\n",
              "      <td>2</td>\n",
              "      <td>2</td>\n",
              "      <td>0</td>\n",
              "      <td>1</td>\n",
              "      <td>2020-04-01</td>\n",
              "      <td>70000.0</td>\n",
              "    </tr>\n",
              "    <tr>\n",
              "      <th>7</th>\n",
              "      <td>2020-02-01</td>\n",
              "      <td>4</td>\n",
              "      <td>43.0</td>\n",
              "      <td>0.0</td>\n",
              "      <td>C13</td>\n",
              "      <td>2</td>\n",
              "      <td>65603</td>\n",
              "      <td>2019-12-07</td>\n",
              "      <td>NaT</td>\n",
              "      <td>2</td>\n",
              "      <td>2</td>\n",
              "      <td>0</td>\n",
              "      <td>1</td>\n",
              "      <td>2020-04-01</td>\n",
              "      <td>70000.0</td>\n",
              "    </tr>\n",
              "    <tr>\n",
              "      <th>8</th>\n",
              "      <td>2020-03-01</td>\n",
              "      <td>4</td>\n",
              "      <td>43.0</td>\n",
              "      <td>0.0</td>\n",
              "      <td>C13</td>\n",
              "      <td>2</td>\n",
              "      <td>65603</td>\n",
              "      <td>2019-12-07</td>\n",
              "      <td>NaT</td>\n",
              "      <td>2</td>\n",
              "      <td>2</td>\n",
              "      <td>350000</td>\n",
              "      <td>1</td>\n",
              "      <td>2020-04-01</td>\n",
              "      <td>70000.0</td>\n",
              "    </tr>\n",
              "    <tr>\n",
              "      <th>9</th>\n",
              "      <td>2020-04-01</td>\n",
              "      <td>4</td>\n",
              "      <td>43.0</td>\n",
              "      <td>0.0</td>\n",
              "      <td>C13</td>\n",
              "      <td>2</td>\n",
              "      <td>65603</td>\n",
              "      <td>2019-12-07</td>\n",
              "      <td>2020-04-27</td>\n",
              "      <td>2</td>\n",
              "      <td>2</td>\n",
              "      <td>0</td>\n",
              "      <td>1</td>\n",
              "      <td>2020-04-01</td>\n",
              "      <td>70000.0</td>\n",
              "    </tr>\n",
              "  </tbody>\n",
              "</table>\n",
              "</div>\n",
              "    <div class=\"colab-df-buttons\">\n",
              "\n",
              "  <div class=\"colab-df-container\">\n",
              "    <button class=\"colab-df-convert\" onclick=\"convertToInteractive('df-c685628e-0505-40b5-b71a-fccc89b577a2')\"\n",
              "            title=\"Convert this dataframe to an interactive table.\"\n",
              "            style=\"display:none;\">\n",
              "\n",
              "  <svg xmlns=\"http://www.w3.org/2000/svg\" height=\"24px\" viewBox=\"0 -960 960 960\">\n",
              "    <path d=\"M120-120v-720h720v720H120Zm60-500h600v-160H180v160Zm220 220h160v-160H400v160Zm0 220h160v-160H400v160ZM180-400h160v-160H180v160Zm440 0h160v-160H620v160ZM180-180h160v-160H180v160Zm440 0h160v-160H620v160Z\"/>\n",
              "  </svg>\n",
              "    </button>\n",
              "\n",
              "  <style>\n",
              "    .colab-df-container {\n",
              "      display:flex;\n",
              "      gap: 12px;\n",
              "    }\n",
              "\n",
              "    .colab-df-convert {\n",
              "      background-color: #E8F0FE;\n",
              "      border: none;\n",
              "      border-radius: 50%;\n",
              "      cursor: pointer;\n",
              "      display: none;\n",
              "      fill: #1967D2;\n",
              "      height: 32px;\n",
              "      padding: 0 0 0 0;\n",
              "      width: 32px;\n",
              "    }\n",
              "\n",
              "    .colab-df-convert:hover {\n",
              "      background-color: #E2EBFA;\n",
              "      box-shadow: 0px 1px 2px rgba(60, 64, 67, 0.3), 0px 1px 3px 1px rgba(60, 64, 67, 0.15);\n",
              "      fill: #174EA6;\n",
              "    }\n",
              "\n",
              "    .colab-df-buttons div {\n",
              "      margin-bottom: 4px;\n",
              "    }\n",
              "\n",
              "    [theme=dark] .colab-df-convert {\n",
              "      background-color: #3B4455;\n",
              "      fill: #D2E3FC;\n",
              "    }\n",
              "\n",
              "    [theme=dark] .colab-df-convert:hover {\n",
              "      background-color: #434B5C;\n",
              "      box-shadow: 0px 1px 3px 1px rgba(0, 0, 0, 0.15);\n",
              "      filter: drop-shadow(0px 1px 2px rgba(0, 0, 0, 0.3));\n",
              "      fill: #FFFFFF;\n",
              "    }\n",
              "  </style>\n",
              "\n",
              "    <script>\n",
              "      const buttonEl =\n",
              "        document.querySelector('#df-c685628e-0505-40b5-b71a-fccc89b577a2 button.colab-df-convert');\n",
              "      buttonEl.style.display =\n",
              "        google.colab.kernel.accessAllowed ? 'block' : 'none';\n",
              "\n",
              "      async function convertToInteractive(key) {\n",
              "        const element = document.querySelector('#df-c685628e-0505-40b5-b71a-fccc89b577a2');\n",
              "        const dataTable =\n",
              "          await google.colab.kernel.invokeFunction('convertToInteractive',\n",
              "                                                    [key], {});\n",
              "        if (!dataTable) return;\n",
              "\n",
              "        const docLinkHtml = 'Like what you see? Visit the ' +\n",
              "          '<a target=\"_blank\" href=https://colab.research.google.com/notebooks/data_table.ipynb>data table notebook</a>'\n",
              "          + ' to learn more about interactive tables.';\n",
              "        element.innerHTML = '';\n",
              "        dataTable['output_type'] = 'display_data';\n",
              "        await google.colab.output.renderOutput(dataTable, element);\n",
              "        const docLink = document.createElement('div');\n",
              "        docLink.innerHTML = docLinkHtml;\n",
              "        element.appendChild(docLink);\n",
              "      }\n",
              "    </script>\n",
              "  </div>\n",
              "\n",
              "\n",
              "<div id=\"df-dd3a05c9-2d8f-408f-9551-73e7ead5dc01\">\n",
              "  <button class=\"colab-df-quickchart\" onclick=\"quickchart('df-dd3a05c9-2d8f-408f-9551-73e7ead5dc01')\"\n",
              "            title=\"Suggest charts\"\n",
              "            style=\"display:none;\">\n",
              "\n",
              "<svg xmlns=\"http://www.w3.org/2000/svg\" height=\"24px\"viewBox=\"0 0 24 24\"\n",
              "     width=\"24px\">\n",
              "    <g>\n",
              "        <path d=\"M19 3H5c-1.1 0-2 .9-2 2v14c0 1.1.9 2 2 2h14c1.1 0 2-.9 2-2V5c0-1.1-.9-2-2-2zM9 17H7v-7h2v7zm4 0h-2V7h2v10zm4 0h-2v-4h2v4z\"/>\n",
              "    </g>\n",
              "</svg>\n",
              "  </button>\n",
              "\n",
              "<style>\n",
              "  .colab-df-quickchart {\n",
              "      --bg-color: #E8F0FE;\n",
              "      --fill-color: #1967D2;\n",
              "      --hover-bg-color: #E2EBFA;\n",
              "      --hover-fill-color: #174EA6;\n",
              "      --disabled-fill-color: #AAA;\n",
              "      --disabled-bg-color: #DDD;\n",
              "  }\n",
              "\n",
              "  [theme=dark] .colab-df-quickchart {\n",
              "      --bg-color: #3B4455;\n",
              "      --fill-color: #D2E3FC;\n",
              "      --hover-bg-color: #434B5C;\n",
              "      --hover-fill-color: #FFFFFF;\n",
              "      --disabled-bg-color: #3B4455;\n",
              "      --disabled-fill-color: #666;\n",
              "  }\n",
              "\n",
              "  .colab-df-quickchart {\n",
              "    background-color: var(--bg-color);\n",
              "    border: none;\n",
              "    border-radius: 50%;\n",
              "    cursor: pointer;\n",
              "    display: none;\n",
              "    fill: var(--fill-color);\n",
              "    height: 32px;\n",
              "    padding: 0;\n",
              "    width: 32px;\n",
              "  }\n",
              "\n",
              "  .colab-df-quickchart:hover {\n",
              "    background-color: var(--hover-bg-color);\n",
              "    box-shadow: 0 1px 2px rgba(60, 64, 67, 0.3), 0 1px 3px 1px rgba(60, 64, 67, 0.15);\n",
              "    fill: var(--button-hover-fill-color);\n",
              "  }\n",
              "\n",
              "  .colab-df-quickchart-complete:disabled,\n",
              "  .colab-df-quickchart-complete:disabled:hover {\n",
              "    background-color: var(--disabled-bg-color);\n",
              "    fill: var(--disabled-fill-color);\n",
              "    box-shadow: none;\n",
              "  }\n",
              "\n",
              "  .colab-df-spinner {\n",
              "    border: 2px solid var(--fill-color);\n",
              "    border-color: transparent;\n",
              "    border-bottom-color: var(--fill-color);\n",
              "    animation:\n",
              "      spin 1s steps(1) infinite;\n",
              "  }\n",
              "\n",
              "  @keyframes spin {\n",
              "    0% {\n",
              "      border-color: transparent;\n",
              "      border-bottom-color: var(--fill-color);\n",
              "      border-left-color: var(--fill-color);\n",
              "    }\n",
              "    20% {\n",
              "      border-color: transparent;\n",
              "      border-left-color: var(--fill-color);\n",
              "      border-top-color: var(--fill-color);\n",
              "    }\n",
              "    30% {\n",
              "      border-color: transparent;\n",
              "      border-left-color: var(--fill-color);\n",
              "      border-top-color: var(--fill-color);\n",
              "      border-right-color: var(--fill-color);\n",
              "    }\n",
              "    40% {\n",
              "      border-color: transparent;\n",
              "      border-right-color: var(--fill-color);\n",
              "      border-top-color: var(--fill-color);\n",
              "    }\n",
              "    60% {\n",
              "      border-color: transparent;\n",
              "      border-right-color: var(--fill-color);\n",
              "    }\n",
              "    80% {\n",
              "      border-color: transparent;\n",
              "      border-right-color: var(--fill-color);\n",
              "      border-bottom-color: var(--fill-color);\n",
              "    }\n",
              "    90% {\n",
              "      border-color: transparent;\n",
              "      border-bottom-color: var(--fill-color);\n",
              "    }\n",
              "  }\n",
              "</style>\n",
              "\n",
              "  <script>\n",
              "    async function quickchart(key) {\n",
              "      const quickchartButtonEl =\n",
              "        document.querySelector('#' + key + ' button');\n",
              "      quickchartButtonEl.disabled = true;  // To prevent multiple clicks.\n",
              "      quickchartButtonEl.classList.add('colab-df-spinner');\n",
              "      try {\n",
              "        const charts = await google.colab.kernel.invokeFunction(\n",
              "            'suggestCharts', [key], {});\n",
              "      } catch (error) {\n",
              "        console.error('Error during call to suggestCharts:', error);\n",
              "      }\n",
              "      quickchartButtonEl.classList.remove('colab-df-spinner');\n",
              "      quickchartButtonEl.classList.add('colab-df-quickchart-complete');\n",
              "    }\n",
              "    (() => {\n",
              "      let quickchartButtonEl =\n",
              "        document.querySelector('#df-dd3a05c9-2d8f-408f-9551-73e7ead5dc01 button');\n",
              "      quickchartButtonEl.style.display =\n",
              "        google.colab.kernel.accessAllowed ? 'block' : 'none';\n",
              "    })();\n",
              "  </script>\n",
              "</div>\n",
              "\n",
              "    </div>\n",
              "  </div>\n"
            ],
            "application/vnd.google.colaboratory.intrinsic+json": {
              "type": "dataframe",
              "variable_name": "df",
              "summary": "{\n  \"name\": \"df\",\n  \"rows\": 19104,\n  \"fields\": [\n    {\n      \"column\": \"MMM-YY\",\n      \"properties\": {\n        \"dtype\": \"date\",\n        \"min\": \"2019-01-01 00:00:00\",\n        \"max\": \"2020-12-01 00:00:00\",\n        \"num_unique_values\": 24,\n        \"samples\": [\n          \"2020-03-01 00:00:00\",\n          \"2019-10-01 00:00:00\",\n          \"2019-01-01 00:00:00\"\n        ],\n        \"semantic_type\": \"\",\n        \"description\": \"\"\n      }\n    },\n    {\n      \"column\": \"Driver_ID\",\n      \"properties\": {\n        \"dtype\": \"number\",\n        \"std\": 810,\n        \"min\": 1,\n        \"max\": 2788,\n        \"num_unique_values\": 2381,\n        \"samples\": [\n          1663,\n          1264,\n          1618\n        ],\n        \"semantic_type\": \"\",\n        \"description\": \"\"\n      }\n    },\n    {\n      \"column\": \"Age\",\n      \"properties\": {\n        \"dtype\": \"number\",\n        \"std\": 6.257911686190604,\n        \"min\": 21.0,\n        \"max\": 58.0,\n        \"num_unique_values\": 36,\n        \"samples\": [\n          58.0,\n          41.0,\n          24.0\n        ],\n        \"semantic_type\": \"\",\n        \"description\": \"\"\n      }\n    },\n    {\n      \"column\": \"Gender\",\n      \"properties\": {\n        \"dtype\": \"number\",\n        \"std\": 0.49336700376604115,\n        \"min\": 0.0,\n        \"max\": 1.0,\n        \"num_unique_values\": 2,\n        \"samples\": [\n          1.0,\n          0.0\n        ],\n        \"semantic_type\": \"\",\n        \"description\": \"\"\n      }\n    },\n    {\n      \"column\": \"City\",\n      \"properties\": {\n        \"dtype\": \"category\",\n        \"num_unique_values\": 29,\n        \"samples\": [\n          \"C22\",\n          \"C5\"\n        ],\n        \"semantic_type\": \"\",\n        \"description\": \"\"\n      }\n    },\n    {\n      \"column\": \"Education_Level\",\n      \"properties\": {\n        \"dtype\": \"number\",\n        \"std\": 0,\n        \"min\": 0,\n        \"max\": 2,\n        \"num_unique_values\": 3,\n        \"samples\": [\n          2,\n          0\n        ],\n        \"semantic_type\": \"\",\n        \"description\": \"\"\n      }\n    },\n    {\n      \"column\": \"Income\",\n      \"properties\": {\n        \"dtype\": \"number\",\n        \"std\": 30914,\n        \"min\": 10747,\n        \"max\": 188418,\n        \"num_unique_values\": 2383,\n        \"samples\": [\n          44273,\n          35370\n        ],\n        \"semantic_type\": \"\",\n        \"description\": \"\"\n      }\n    },\n    {\n      \"column\": \"Dateofjoining\",\n      \"properties\": {\n        \"dtype\": \"date\",\n        \"min\": \"2013-04-01 00:00:00\",\n        \"max\": \"2020-12-28 00:00:00\",\n        \"num_unique_values\": 869,\n        \"samples\": [\n          \"2019-09-14 00:00:00\",\n          \"2018-01-06 00:00:00\"\n        ],\n        \"semantic_type\": \"\",\n        \"description\": \"\"\n      }\n    },\n    {\n      \"column\": \"LastWorkingDate\",\n      \"properties\": {\n        \"dtype\": \"date\",\n        \"min\": \"2018-12-31 00:00:00\",\n        \"max\": \"2020-12-28 00:00:00\",\n        \"num_unique_values\": 493,\n        \"samples\": [\n          \"2020-05-03 00:00:00\",\n          \"2019-10-01 00:00:00\"\n        ],\n        \"semantic_type\": \"\",\n        \"description\": \"\"\n      }\n    },\n    {\n      \"column\": \"Joining Designation\",\n      \"properties\": {\n        \"dtype\": \"number\",\n        \"std\": 0,\n        \"min\": 1,\n        \"max\": 5,\n        \"num_unique_values\": 5,\n        \"samples\": [\n          2,\n          5\n        ],\n        \"semantic_type\": \"\",\n        \"description\": \"\"\n      }\n    },\n    {\n      \"column\": \"Grade\",\n      \"properties\": {\n        \"dtype\": \"number\",\n        \"std\": 1,\n        \"min\": 1,\n        \"max\": 5,\n        \"num_unique_values\": 5,\n        \"samples\": [\n          2,\n          5\n        ],\n        \"semantic_type\": \"\",\n        \"description\": \"\"\n      }\n    },\n    {\n      \"column\": \"Total Business Value\",\n      \"properties\": {\n        \"dtype\": \"number\",\n        \"std\": 1128312,\n        \"min\": -6000000,\n        \"max\": 33747720,\n        \"num_unique_values\": 10181,\n        \"samples\": [\n          431090,\n          720180\n        ],\n        \"semantic_type\": \"\",\n        \"description\": \"\"\n      }\n    },\n    {\n      \"column\": \"Quarterly Rating\",\n      \"properties\": {\n        \"dtype\": \"number\",\n        \"std\": 1,\n        \"min\": 1,\n        \"max\": 4,\n        \"num_unique_values\": 4,\n        \"samples\": [\n          1,\n          3\n        ],\n        \"semantic_type\": \"\",\n        \"description\": \"\"\n      }\n    },\n    {\n      \"column\": \"Max_report_date\",\n      \"properties\": {\n        \"dtype\": \"date\",\n        \"min\": \"2019-01-01 00:00:00\",\n        \"max\": \"2020-12-01 00:00:00\",\n        \"num_unique_values\": 24,\n        \"samples\": [\n          \"2020-03-01 00:00:00\",\n          \"2019-01-01 00:00:00\"\n        ],\n        \"semantic_type\": \"\",\n        \"description\": \"\"\n      }\n    },\n    {\n      \"column\": \"AvgTotal Business Value\",\n      \"properties\": {\n        \"dtype\": \"number\",\n        \"std\": 562767.182251209,\n        \"min\": -197932.85714285713,\n        \"max\": 3972127.5,\n        \"num_unique_values\": 1639,\n        \"samples\": [\n          327760.0,\n          406332.0\n        ],\n        \"semantic_type\": \"\",\n        \"description\": \"\"\n      }\n    }\n  ]\n}"
            }
          },
          "metadata": {},
          "execution_count": 13
        }
      ]
    },
    {
      "cell_type": "code",
      "source": [
        "df = df[(df[\"MMM-YY\"]== df[\"Max_report_date\"])]"
      ],
      "metadata": {
        "id": "4Cda61HJHWFl"
      },
      "execution_count": 14,
      "outputs": []
    },
    {
      "cell_type": "code",
      "source": [
        "df.drop([\"Total Business Value\",\"Max_report_date\"], axis =1, inplace = True)"
      ],
      "metadata": {
        "id": "3fu9aNgPIXpI"
      },
      "execution_count": 15,
      "outputs": []
    },
    {
      "cell_type": "code",
      "source": [
        "df.head()"
      ],
      "metadata": {
        "colab": {
          "base_uri": "https://localhost:8080/",
          "height": 328
        },
        "id": "WRxOByB4JDUv",
        "outputId": "1cc5cb03-1b79-443a-8bc4-f7311254c890"
      },
      "execution_count": 16,
      "outputs": [
        {
          "output_type": "execute_result",
          "data": {
            "text/plain": [
              "       MMM-YY  Driver_ID   Age  Gender City  Education_Level  Income  \\\n",
              "2  2019-03-01          1  28.0     0.0  C23                2   57387   \n",
              "4  2020-12-01          2  31.0     0.0   C7                2   67016   \n",
              "9  2020-04-01          4  43.0     0.0  C13                2   65603   \n",
              "12 2019-03-01          5  29.0     0.0   C9                0   46368   \n",
              "17 2020-12-01          6  31.0     1.0  C11                1   78728   \n",
              "\n",
              "   Dateofjoining LastWorkingDate  Joining Designation  Grade  \\\n",
              "2     2018-12-24      2019-03-11                    1      1   \n",
              "4     2020-11-06             NaT                    2      2   \n",
              "9     2019-12-07      2020-04-27                    2      2   \n",
              "12    2019-01-09      2019-03-07                    1      1   \n",
              "17    2020-07-31             NaT                    3      3   \n",
              "\n",
              "    Quarterly Rating  AvgTotal Business Value  \n",
              "2                  2                 571860.0  \n",
              "4                  1                      0.0  \n",
              "9                  1                  70000.0  \n",
              "12                 1                  40120.0  \n",
              "17                 2                 253000.0  "
            ],
            "text/html": [
              "\n",
              "  <div id=\"df-42b076ab-a24c-455a-a95a-3c3d09f01133\" class=\"colab-df-container\">\n",
              "    <div>\n",
              "<style scoped>\n",
              "    .dataframe tbody tr th:only-of-type {\n",
              "        vertical-align: middle;\n",
              "    }\n",
              "\n",
              "    .dataframe tbody tr th {\n",
              "        vertical-align: top;\n",
              "    }\n",
              "\n",
              "    .dataframe thead th {\n",
              "        text-align: right;\n",
              "    }\n",
              "</style>\n",
              "<table border=\"1\" class=\"dataframe\">\n",
              "  <thead>\n",
              "    <tr style=\"text-align: right;\">\n",
              "      <th></th>\n",
              "      <th>MMM-YY</th>\n",
              "      <th>Driver_ID</th>\n",
              "      <th>Age</th>\n",
              "      <th>Gender</th>\n",
              "      <th>City</th>\n",
              "      <th>Education_Level</th>\n",
              "      <th>Income</th>\n",
              "      <th>Dateofjoining</th>\n",
              "      <th>LastWorkingDate</th>\n",
              "      <th>Joining Designation</th>\n",
              "      <th>Grade</th>\n",
              "      <th>Quarterly Rating</th>\n",
              "      <th>AvgTotal Business Value</th>\n",
              "    </tr>\n",
              "  </thead>\n",
              "  <tbody>\n",
              "    <tr>\n",
              "      <th>2</th>\n",
              "      <td>2019-03-01</td>\n",
              "      <td>1</td>\n",
              "      <td>28.0</td>\n",
              "      <td>0.0</td>\n",
              "      <td>C23</td>\n",
              "      <td>2</td>\n",
              "      <td>57387</td>\n",
              "      <td>2018-12-24</td>\n",
              "      <td>2019-03-11</td>\n",
              "      <td>1</td>\n",
              "      <td>1</td>\n",
              "      <td>2</td>\n",
              "      <td>571860.0</td>\n",
              "    </tr>\n",
              "    <tr>\n",
              "      <th>4</th>\n",
              "      <td>2020-12-01</td>\n",
              "      <td>2</td>\n",
              "      <td>31.0</td>\n",
              "      <td>0.0</td>\n",
              "      <td>C7</td>\n",
              "      <td>2</td>\n",
              "      <td>67016</td>\n",
              "      <td>2020-11-06</td>\n",
              "      <td>NaT</td>\n",
              "      <td>2</td>\n",
              "      <td>2</td>\n",
              "      <td>1</td>\n",
              "      <td>0.0</td>\n",
              "    </tr>\n",
              "    <tr>\n",
              "      <th>9</th>\n",
              "      <td>2020-04-01</td>\n",
              "      <td>4</td>\n",
              "      <td>43.0</td>\n",
              "      <td>0.0</td>\n",
              "      <td>C13</td>\n",
              "      <td>2</td>\n",
              "      <td>65603</td>\n",
              "      <td>2019-12-07</td>\n",
              "      <td>2020-04-27</td>\n",
              "      <td>2</td>\n",
              "      <td>2</td>\n",
              "      <td>1</td>\n",
              "      <td>70000.0</td>\n",
              "    </tr>\n",
              "    <tr>\n",
              "      <th>12</th>\n",
              "      <td>2019-03-01</td>\n",
              "      <td>5</td>\n",
              "      <td>29.0</td>\n",
              "      <td>0.0</td>\n",
              "      <td>C9</td>\n",
              "      <td>0</td>\n",
              "      <td>46368</td>\n",
              "      <td>2019-01-09</td>\n",
              "      <td>2019-03-07</td>\n",
              "      <td>1</td>\n",
              "      <td>1</td>\n",
              "      <td>1</td>\n",
              "      <td>40120.0</td>\n",
              "    </tr>\n",
              "    <tr>\n",
              "      <th>17</th>\n",
              "      <td>2020-12-01</td>\n",
              "      <td>6</td>\n",
              "      <td>31.0</td>\n",
              "      <td>1.0</td>\n",
              "      <td>C11</td>\n",
              "      <td>1</td>\n",
              "      <td>78728</td>\n",
              "      <td>2020-07-31</td>\n",
              "      <td>NaT</td>\n",
              "      <td>3</td>\n",
              "      <td>3</td>\n",
              "      <td>2</td>\n",
              "      <td>253000.0</td>\n",
              "    </tr>\n",
              "  </tbody>\n",
              "</table>\n",
              "</div>\n",
              "    <div class=\"colab-df-buttons\">\n",
              "\n",
              "  <div class=\"colab-df-container\">\n",
              "    <button class=\"colab-df-convert\" onclick=\"convertToInteractive('df-42b076ab-a24c-455a-a95a-3c3d09f01133')\"\n",
              "            title=\"Convert this dataframe to an interactive table.\"\n",
              "            style=\"display:none;\">\n",
              "\n",
              "  <svg xmlns=\"http://www.w3.org/2000/svg\" height=\"24px\" viewBox=\"0 -960 960 960\">\n",
              "    <path d=\"M120-120v-720h720v720H120Zm60-500h600v-160H180v160Zm220 220h160v-160H400v160Zm0 220h160v-160H400v160ZM180-400h160v-160H180v160Zm440 0h160v-160H620v160ZM180-180h160v-160H180v160Zm440 0h160v-160H620v160Z\"/>\n",
              "  </svg>\n",
              "    </button>\n",
              "\n",
              "  <style>\n",
              "    .colab-df-container {\n",
              "      display:flex;\n",
              "      gap: 12px;\n",
              "    }\n",
              "\n",
              "    .colab-df-convert {\n",
              "      background-color: #E8F0FE;\n",
              "      border: none;\n",
              "      border-radius: 50%;\n",
              "      cursor: pointer;\n",
              "      display: none;\n",
              "      fill: #1967D2;\n",
              "      height: 32px;\n",
              "      padding: 0 0 0 0;\n",
              "      width: 32px;\n",
              "    }\n",
              "\n",
              "    .colab-df-convert:hover {\n",
              "      background-color: #E2EBFA;\n",
              "      box-shadow: 0px 1px 2px rgba(60, 64, 67, 0.3), 0px 1px 3px 1px rgba(60, 64, 67, 0.15);\n",
              "      fill: #174EA6;\n",
              "    }\n",
              "\n",
              "    .colab-df-buttons div {\n",
              "      margin-bottom: 4px;\n",
              "    }\n",
              "\n",
              "    [theme=dark] .colab-df-convert {\n",
              "      background-color: #3B4455;\n",
              "      fill: #D2E3FC;\n",
              "    }\n",
              "\n",
              "    [theme=dark] .colab-df-convert:hover {\n",
              "      background-color: #434B5C;\n",
              "      box-shadow: 0px 1px 3px 1px rgba(0, 0, 0, 0.15);\n",
              "      filter: drop-shadow(0px 1px 2px rgba(0, 0, 0, 0.3));\n",
              "      fill: #FFFFFF;\n",
              "    }\n",
              "  </style>\n",
              "\n",
              "    <script>\n",
              "      const buttonEl =\n",
              "        document.querySelector('#df-42b076ab-a24c-455a-a95a-3c3d09f01133 button.colab-df-convert');\n",
              "      buttonEl.style.display =\n",
              "        google.colab.kernel.accessAllowed ? 'block' : 'none';\n",
              "\n",
              "      async function convertToInteractive(key) {\n",
              "        const element = document.querySelector('#df-42b076ab-a24c-455a-a95a-3c3d09f01133');\n",
              "        const dataTable =\n",
              "          await google.colab.kernel.invokeFunction('convertToInteractive',\n",
              "                                                    [key], {});\n",
              "        if (!dataTable) return;\n",
              "\n",
              "        const docLinkHtml = 'Like what you see? Visit the ' +\n",
              "          '<a target=\"_blank\" href=https://colab.research.google.com/notebooks/data_table.ipynb>data table notebook</a>'\n",
              "          + ' to learn more about interactive tables.';\n",
              "        element.innerHTML = '';\n",
              "        dataTable['output_type'] = 'display_data';\n",
              "        await google.colab.output.renderOutput(dataTable, element);\n",
              "        const docLink = document.createElement('div');\n",
              "        docLink.innerHTML = docLinkHtml;\n",
              "        element.appendChild(docLink);\n",
              "      }\n",
              "    </script>\n",
              "  </div>\n",
              "\n",
              "\n",
              "<div id=\"df-0f8e1f4d-b60e-4d6f-8204-2fa5de788ddd\">\n",
              "  <button class=\"colab-df-quickchart\" onclick=\"quickchart('df-0f8e1f4d-b60e-4d6f-8204-2fa5de788ddd')\"\n",
              "            title=\"Suggest charts\"\n",
              "            style=\"display:none;\">\n",
              "\n",
              "<svg xmlns=\"http://www.w3.org/2000/svg\" height=\"24px\"viewBox=\"0 0 24 24\"\n",
              "     width=\"24px\">\n",
              "    <g>\n",
              "        <path d=\"M19 3H5c-1.1 0-2 .9-2 2v14c0 1.1.9 2 2 2h14c1.1 0 2-.9 2-2V5c0-1.1-.9-2-2-2zM9 17H7v-7h2v7zm4 0h-2V7h2v10zm4 0h-2v-4h2v4z\"/>\n",
              "    </g>\n",
              "</svg>\n",
              "  </button>\n",
              "\n",
              "<style>\n",
              "  .colab-df-quickchart {\n",
              "      --bg-color: #E8F0FE;\n",
              "      --fill-color: #1967D2;\n",
              "      --hover-bg-color: #E2EBFA;\n",
              "      --hover-fill-color: #174EA6;\n",
              "      --disabled-fill-color: #AAA;\n",
              "      --disabled-bg-color: #DDD;\n",
              "  }\n",
              "\n",
              "  [theme=dark] .colab-df-quickchart {\n",
              "      --bg-color: #3B4455;\n",
              "      --fill-color: #D2E3FC;\n",
              "      --hover-bg-color: #434B5C;\n",
              "      --hover-fill-color: #FFFFFF;\n",
              "      --disabled-bg-color: #3B4455;\n",
              "      --disabled-fill-color: #666;\n",
              "  }\n",
              "\n",
              "  .colab-df-quickchart {\n",
              "    background-color: var(--bg-color);\n",
              "    border: none;\n",
              "    border-radius: 50%;\n",
              "    cursor: pointer;\n",
              "    display: none;\n",
              "    fill: var(--fill-color);\n",
              "    height: 32px;\n",
              "    padding: 0;\n",
              "    width: 32px;\n",
              "  }\n",
              "\n",
              "  .colab-df-quickchart:hover {\n",
              "    background-color: var(--hover-bg-color);\n",
              "    box-shadow: 0 1px 2px rgba(60, 64, 67, 0.3), 0 1px 3px 1px rgba(60, 64, 67, 0.15);\n",
              "    fill: var(--button-hover-fill-color);\n",
              "  }\n",
              "\n",
              "  .colab-df-quickchart-complete:disabled,\n",
              "  .colab-df-quickchart-complete:disabled:hover {\n",
              "    background-color: var(--disabled-bg-color);\n",
              "    fill: var(--disabled-fill-color);\n",
              "    box-shadow: none;\n",
              "  }\n",
              "\n",
              "  .colab-df-spinner {\n",
              "    border: 2px solid var(--fill-color);\n",
              "    border-color: transparent;\n",
              "    border-bottom-color: var(--fill-color);\n",
              "    animation:\n",
              "      spin 1s steps(1) infinite;\n",
              "  }\n",
              "\n",
              "  @keyframes spin {\n",
              "    0% {\n",
              "      border-color: transparent;\n",
              "      border-bottom-color: var(--fill-color);\n",
              "      border-left-color: var(--fill-color);\n",
              "    }\n",
              "    20% {\n",
              "      border-color: transparent;\n",
              "      border-left-color: var(--fill-color);\n",
              "      border-top-color: var(--fill-color);\n",
              "    }\n",
              "    30% {\n",
              "      border-color: transparent;\n",
              "      border-left-color: var(--fill-color);\n",
              "      border-top-color: var(--fill-color);\n",
              "      border-right-color: var(--fill-color);\n",
              "    }\n",
              "    40% {\n",
              "      border-color: transparent;\n",
              "      border-right-color: var(--fill-color);\n",
              "      border-top-color: var(--fill-color);\n",
              "    }\n",
              "    60% {\n",
              "      border-color: transparent;\n",
              "      border-right-color: var(--fill-color);\n",
              "    }\n",
              "    80% {\n",
              "      border-color: transparent;\n",
              "      border-right-color: var(--fill-color);\n",
              "      border-bottom-color: var(--fill-color);\n",
              "    }\n",
              "    90% {\n",
              "      border-color: transparent;\n",
              "      border-bottom-color: var(--fill-color);\n",
              "    }\n",
              "  }\n",
              "</style>\n",
              "\n",
              "  <script>\n",
              "    async function quickchart(key) {\n",
              "      const quickchartButtonEl =\n",
              "        document.querySelector('#' + key + ' button');\n",
              "      quickchartButtonEl.disabled = true;  // To prevent multiple clicks.\n",
              "      quickchartButtonEl.classList.add('colab-df-spinner');\n",
              "      try {\n",
              "        const charts = await google.colab.kernel.invokeFunction(\n",
              "            'suggestCharts', [key], {});\n",
              "      } catch (error) {\n",
              "        console.error('Error during call to suggestCharts:', error);\n",
              "      }\n",
              "      quickchartButtonEl.classList.remove('colab-df-spinner');\n",
              "      quickchartButtonEl.classList.add('colab-df-quickchart-complete');\n",
              "    }\n",
              "    (() => {\n",
              "      let quickchartButtonEl =\n",
              "        document.querySelector('#df-0f8e1f4d-b60e-4d6f-8204-2fa5de788ddd button');\n",
              "      quickchartButtonEl.style.display =\n",
              "        google.colab.kernel.accessAllowed ? 'block' : 'none';\n",
              "    })();\n",
              "  </script>\n",
              "</div>\n",
              "\n",
              "    </div>\n",
              "  </div>\n"
            ],
            "application/vnd.google.colaboratory.intrinsic+json": {
              "type": "dataframe",
              "variable_name": "df",
              "summary": "{\n  \"name\": \"df\",\n  \"rows\": 2381,\n  \"fields\": [\n    {\n      \"column\": \"MMM-YY\",\n      \"properties\": {\n        \"dtype\": \"date\",\n        \"min\": \"2019-01-01 00:00:00\",\n        \"max\": \"2020-12-01 00:00:00\",\n        \"num_unique_values\": 24,\n        \"samples\": [\n          \"2020-03-01 00:00:00\",\n          \"2019-01-01 00:00:00\",\n          \"2019-03-01 00:00:00\"\n        ],\n        \"semantic_type\": \"\",\n        \"description\": \"\"\n      }\n    },\n    {\n      \"column\": \"Driver_ID\",\n      \"properties\": {\n        \"dtype\": \"number\",\n        \"std\": 806,\n        \"min\": 1,\n        \"max\": 2788,\n        \"num_unique_values\": 2381,\n        \"samples\": [\n          1663,\n          1264,\n          1618\n        ],\n        \"semantic_type\": \"\",\n        \"description\": \"\"\n      }\n    },\n    {\n      \"column\": \"Age\",\n      \"properties\": {\n        \"dtype\": \"number\",\n        \"std\": 5.977180438459143,\n        \"min\": 21.0,\n        \"max\": 58.0,\n        \"num_unique_values\": 36,\n        \"samples\": [\n          58.0,\n          22.0,\n          47.0\n        ],\n        \"semantic_type\": \"\",\n        \"description\": \"\"\n      }\n    },\n    {\n      \"column\": \"Gender\",\n      \"properties\": {\n        \"dtype\": \"number\",\n        \"std\": 0.4920056112341474,\n        \"min\": 0.0,\n        \"max\": 1.0,\n        \"num_unique_values\": 2,\n        \"samples\": [\n          1.0,\n          0.0\n        ],\n        \"semantic_type\": \"\",\n        \"description\": \"\"\n      }\n    },\n    {\n      \"column\": \"City\",\n      \"properties\": {\n        \"dtype\": \"category\",\n        \"num_unique_values\": 29,\n        \"samples\": [\n          \"C22\",\n          \"C5\"\n        ],\n        \"semantic_type\": \"\",\n        \"description\": \"\"\n      }\n    },\n    {\n      \"column\": \"Education_Level\",\n      \"properties\": {\n        \"dtype\": \"number\",\n        \"std\": 0,\n        \"min\": 0,\n        \"max\": 2,\n        \"num_unique_values\": 3,\n        \"samples\": [\n          2,\n          0\n        ],\n        \"semantic_type\": \"\",\n        \"description\": \"\"\n      }\n    },\n    {\n      \"column\": \"Income\",\n      \"properties\": {\n        \"dtype\": \"number\",\n        \"std\": 28383,\n        \"min\": 10747,\n        \"max\": 188418,\n        \"num_unique_values\": 2339,\n        \"samples\": [\n          58943,\n          96076\n        ],\n        \"semantic_type\": \"\",\n        \"description\": \"\"\n      }\n    },\n    {\n      \"column\": \"Dateofjoining\",\n      \"properties\": {\n        \"dtype\": \"date\",\n        \"min\": \"2013-04-01 00:00:00\",\n        \"max\": \"2020-12-28 00:00:00\",\n        \"num_unique_values\": 869,\n        \"samples\": [\n          \"2019-09-14 00:00:00\",\n          \"2018-01-06 00:00:00\"\n        ],\n        \"semantic_type\": \"\",\n        \"description\": \"\"\n      }\n    },\n    {\n      \"column\": \"LastWorkingDate\",\n      \"properties\": {\n        \"dtype\": \"date\",\n        \"min\": \"2018-12-31 00:00:00\",\n        \"max\": \"2020-12-28 00:00:00\",\n        \"num_unique_values\": 493,\n        \"samples\": [\n          \"2020-05-03 00:00:00\",\n          \"2019-10-01 00:00:00\"\n        ],\n        \"semantic_type\": \"\",\n        \"description\": \"\"\n      }\n    },\n    {\n      \"column\": \"Joining Designation\",\n      \"properties\": {\n        \"dtype\": \"number\",\n        \"std\": 0,\n        \"min\": 1,\n        \"max\": 5,\n        \"num_unique_values\": 5,\n        \"samples\": [\n          2,\n          5\n        ],\n        \"semantic_type\": \"\",\n        \"description\": \"\"\n      }\n    },\n    {\n      \"column\": \"Grade\",\n      \"properties\": {\n        \"dtype\": \"number\",\n        \"std\": 0,\n        \"min\": 1,\n        \"max\": 5,\n        \"num_unique_values\": 5,\n        \"samples\": [\n          2,\n          5\n        ],\n        \"semantic_type\": \"\",\n        \"description\": \"\"\n      }\n    },\n    {\n      \"column\": \"Quarterly Rating\",\n      \"properties\": {\n        \"dtype\": \"number\",\n        \"std\": 0,\n        \"min\": 1,\n        \"max\": 4,\n        \"num_unique_values\": 4,\n        \"samples\": [\n          1,\n          3\n        ],\n        \"semantic_type\": \"\",\n        \"description\": \"\"\n      }\n    },\n    {\n      \"column\": \"AvgTotal Business Value\",\n      \"properties\": {\n        \"dtype\": \"number\",\n        \"std\": 449570.50671109883,\n        \"min\": -197932.85714285713,\n        \"max\": 3972127.5,\n        \"num_unique_values\": 1639,\n        \"samples\": [\n          327760.0,\n          406332.0\n        ],\n        \"semantic_type\": \"\",\n        \"description\": \"\"\n      }\n    }\n  ]\n}"
            }
          },
          "metadata": {},
          "execution_count": 16
        }
      ]
    },
    {
      "cell_type": "code",
      "source": [
        "df.reset_index(inplace = True)"
      ],
      "metadata": {
        "id": "poTuur9PJvlL"
      },
      "execution_count": 17,
      "outputs": []
    },
    {
      "cell_type": "code",
      "source": [
        "df.shape"
      ],
      "metadata": {
        "colab": {
          "base_uri": "https://localhost:8080/"
        },
        "id": "zt4T-uCjiAmm",
        "outputId": "3220c089-f5bf-4dbb-89e7-02eea223009a"
      },
      "execution_count": 18,
      "outputs": [
        {
          "output_type": "execute_result",
          "data": {
            "text/plain": [
              "(2381, 14)"
            ]
          },
          "metadata": {},
          "execution_count": 18
        }
      ]
    },
    {
      "cell_type": "code",
      "source": [
        "df.isnull().sum()"
      ],
      "metadata": {
        "colab": {
          "base_uri": "https://localhost:8080/"
        },
        "id": "lIa-dz91J19g",
        "outputId": "3471fa11-108d-40f8-e8ee-23b1416aece0"
      },
      "execution_count": 19,
      "outputs": [
        {
          "output_type": "execute_result",
          "data": {
            "text/plain": [
              "index                        0\n",
              "MMM-YY                       0\n",
              "Driver_ID                    0\n",
              "Age                          7\n",
              "Gender                      10\n",
              "City                         0\n",
              "Education_Level              0\n",
              "Income                       0\n",
              "Dateofjoining                0\n",
              "LastWorkingDate            765\n",
              "Joining Designation          0\n",
              "Grade                        0\n",
              "Quarterly Rating             0\n",
              "AvgTotal Business Value      0\n",
              "dtype: int64"
            ]
          },
          "metadata": {},
          "execution_count": 19
        }
      ]
    },
    {
      "cell_type": "markdown",
      "source": [
        "# **Creatig Target variable**"
      ],
      "metadata": {
        "id": "rdjGsB5C6PJe"
      }
    },
    {
      "cell_type": "code",
      "source": [
        "df[\"Churn\"] = df[\"LastWorkingDate\"].fillna(1, inplace = True)\n",
        "df[\"Churn\"] = df[\"LastWorkingDate\"].apply(lambda x:0 if x!= 1 else x)\n",
        "df.drop(\"LastWorkingDate\", axis = 1, inplace = True)"
      ],
      "metadata": {
        "id": "JEWTApLcvzBh"
      },
      "execution_count": 20,
      "outputs": []
    },
    {
      "cell_type": "code",
      "source": [
        "df[\"Churn\"].value_counts()"
      ],
      "metadata": {
        "colab": {
          "base_uri": "https://localhost:8080/"
        },
        "id": "kJBTKTyXLulk",
        "outputId": "4c5a81e7-fdc4-42ba-f5f9-f220791fe809"
      },
      "execution_count": 21,
      "outputs": [
        {
          "output_type": "execute_result",
          "data": {
            "text/plain": [
              "0    1616\n",
              "1     765\n",
              "Name: Churn, dtype: int64"
            ]
          },
          "metadata": {},
          "execution_count": 21
        }
      ]
    },
    {
      "cell_type": "code",
      "source": [
        "#ola_data[\"Dateofjoining\"] = pd.to_datetime(ola_data[\"Dateofjoining\"])\n",
        "#ola_data[\"Dateofjoining\"] = ola_data[\"Dateofjoining\"].dt.year + ola_data[\"Dateofjoining\"].dt.month/12"
      ],
      "metadata": {
        "id": "GaqqdtxnxRiI"
      },
      "execution_count": null,
      "outputs": []
    },
    {
      "cell_type": "markdown",
      "source": [
        "# **Univariate Analysis**"
      ],
      "metadata": {
        "id": "7uB9McIlzCzL"
      }
    },
    {
      "cell_type": "code",
      "source": [
        "plt.pie(df[\"Churn\"].value_counts(), labels = [\"Churn\", \"No Churn\"], autopct = \"%2.1f%%\")"
      ],
      "metadata": {
        "colab": {
          "base_uri": "https://localhost:8080/",
          "height": 510
        },
        "id": "aylUFSjdzAe-",
        "outputId": "5eacecb3-b6e9-4936-9ff3-6e6903815c20"
      },
      "execution_count": 22,
      "outputs": [
        {
          "output_type": "execute_result",
          "data": {
            "text/plain": [
              "([<matplotlib.patches.Wedge at 0x7fc11ee26fe0>,\n",
              "  <matplotlib.patches.Wedge at 0x7fc11ee27040>],\n",
              " [Text(-0.5856301893031244, 0.9311483670053805, 'Churn'),\n",
              "  Text(0.5856301021227194, -0.9311484218360322, 'No Churn')],\n",
              " [Text(-0.3194346487107951, 0.5078991092756621, '67.9%'),\n",
              "  Text(0.3194346011578469, -0.5078991391832902, '32.1%')])"
            ]
          },
          "metadata": {},
          "execution_count": 22
        },
        {
          "output_type": "display_data",
          "data": {
            "text/plain": [
              "<Figure size 640x480 with 1 Axes>"
            ],
            "image/png": "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\n"
          },
          "metadata": {}
        }
      ]
    },
    {
      "cell_type": "markdown",
      "source": [
        "\n",
        "\n",
        "*   Data is sligtly imbalanced but workable. 68% of drivers left & 32% of drivers are still working in the comapny\n",
        "\n",
        "\n"
      ],
      "metadata": {
        "id": "H0LwgnCS8qtI"
      }
    },
    {
      "cell_type": "code",
      "source": [
        "sns.countplot(data = df, x = \"Gender\")\n",
        "plt.show()\n",
        "\n",
        "sns.countplot(data = df, x = \"City\")\n",
        "plt.xticks(rotation = 90)\n",
        "plt.show()"
      ],
      "metadata": {
        "colab": {
          "base_uri": "https://localhost:8080/",
          "height": 895
        },
        "id": "LepUHsER1wwT",
        "outputId": "f28ac3b4-7940-4be9-dc84-43eab5d1d0b3"
      },
      "execution_count": 23,
      "outputs": [
        {
          "output_type": "display_data",
          "data": {
            "text/plain": [
              "<Figure size 640x480 with 1 Axes>"
            ],
            "image/png": "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\n"
          },
          "metadata": {}
        },
        {
          "output_type": "display_data",
          "data": {
            "text/plain": [
              "<Figure size 640x480 with 1 Axes>"
            ],
            "image/png": "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\n"
          },
          "metadata": {}
        }
      ]
    },
    {
      "cell_type": "markdown",
      "source": [
        "\n",
        "\n",
        "*   Both male & female counts are significant but male's count is slighltly higher than female's count.\n",
        "*   Number of drivers from city C20 is more compared to number of drivers from other cities. And almost equal number of drivers from other cities.\n",
        "\n"
      ],
      "metadata": {
        "id": "NyUP7dhf-Rwp"
      }
    },
    {
      "cell_type": "code",
      "source": [
        "# Average monthly Income & Business value distribution\n",
        "plt.figure(figsize=(8,7))\n",
        "plt.subplot(1,2,1)\n",
        "plt.hist(df[\"Income\"])\n",
        "plt.title(\"Average monthly Income distribution\")\n",
        "\n",
        "plt.subplot(1,2,2)\n",
        "plt.hist(df[\"AvgTotal Business Value\"])\n",
        "plt.title(\"Average Monthly business value\")\n",
        "plt.show()\n"
      ],
      "metadata": {
        "colab": {
          "base_uri": "https://localhost:8080/",
          "height": 640
        },
        "id": "yBCN9PRx2Wvw",
        "outputId": "2619d7dd-4910-4dd2-fd3a-62e4048af49d"
      },
      "execution_count": 24,
      "outputs": [
        {
          "output_type": "display_data",
          "data": {
            "text/plain": [
              "<Figure size 800x700 with 2 Axes>"
            ],
            "image/png": "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\n"
          },
          "metadata": {}
        }
      ]
    },
    {
      "cell_type": "markdown",
      "source": [
        "\n",
        "\n",
        "*   Average monthly income of most of the drivers lie in the range [30000, 150000]\n",
        "\n",
        "\n"
      ],
      "metadata": {
        "id": "NAl3cndH_UD4"
      }
    },
    {
      "cell_type": "markdown",
      "source": [
        "# **Bivariate Analysis**"
      ],
      "metadata": {
        "id": "654S7f_q5BGx"
      }
    },
    {
      "cell_type": "code",
      "source": [
        "# Categarical features Vs Target variable\n",
        "cat = [\"City\", \"Gender\", \"Grade\", \"Quarterly Rating\"]\n",
        "for i in range(1, len(cat)+1):\n",
        "  plt.figure(figsize = (4,4))\n",
        "  pd.crosstab(df[cat[i-1]], df[\"Churn\"]).plot(kind = \"bar\", stacked =True)\n"
      ],
      "metadata": {
        "colab": {
          "base_uri": "https://localhost:8080/",
          "height": 1000
        },
        "id": "g-OlLfUs5IJc",
        "outputId": "b6e6ba0c-1f6f-40b6-a2c9-b9dbeff859ba"
      },
      "execution_count": 25,
      "outputs": [
        {
          "output_type": "display_data",
          "data": {
            "text/plain": [
              "<Figure size 400x400 with 0 Axes>"
            ]
          },
          "metadata": {}
        },
        {
          "output_type": "display_data",
          "data": {
            "text/plain": [
              "<Figure size 640x480 with 1 Axes>"
            ],
            "image/png": "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\n"
          },
          "metadata": {}
        },
        {
          "output_type": "display_data",
          "data": {
            "text/plain": [
              "<Figure size 400x400 with 0 Axes>"
            ]
          },
          "metadata": {}
        },
        {
          "output_type": "display_data",
          "data": {
            "text/plain": [
              "<Figure size 640x480 with 1 Axes>"
            ],
            "image/png": "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\n"
          },
          "metadata": {}
        },
        {
          "output_type": "display_data",
          "data": {
            "text/plain": [
              "<Figure size 400x400 with 0 Axes>"
            ]
          },
          "metadata": {}
        },
        {
          "output_type": "display_data",
          "data": {
            "text/plain": [
              "<Figure size 640x480 with 1 Axes>"
            ],
            "image/png": "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\n"
          },
          "metadata": {}
        },
        {
          "output_type": "display_data",
          "data": {
            "text/plain": [
              "<Figure size 400x400 with 0 Axes>"
            ]
          },
          "metadata": {}
        },
        {
          "output_type": "display_data",
          "data": {
            "text/plain": [
              "<Figure size 640x480 with 1 Axes>"
            ],
            "image/png": "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\n"
          },
          "metadata": {}
        }
      ]
    },
    {
      "cell_type": "markdown",
      "source": [
        "\n",
        "\n",
        "*   Churn ration is almost same for all the cities that is city column does not significantly impact the target variable.\n",
        "\n",
        "*   Churn rate(Number of drivers leaving the job/total number of drivers belonging to same grade) will be high for drivers having grade 1 and 2.\n",
        "*   Churn rate(Number of drivers leaving the job) will be high for drivers having quarterly rating 1.\n",
        "\n",
        "\n",
        "\n",
        "\n"
      ],
      "metadata": {
        "id": "Fi_PI2OkALZG"
      }
    },
    {
      "cell_type": "code",
      "source": [
        "# Income Vs Churn\n",
        "df[\"binIncome\"] = pd.cut(df['Income'], bins = [10000, 40000, 70000,100000, 130000,160000,190000])\n",
        "pd.crosstab(df['binIncome'],df[\"Churn\"]).plot(kind = \"bar\",stacked = True)"
      ],
      "metadata": {
        "colab": {
          "base_uri": "https://localhost:8080/",
          "height": 578
        },
        "id": "_3UzQyEeGvpE",
        "outputId": "c6fecec1-99b1-408c-cd25-a4d629a1c980"
      },
      "execution_count": null,
      "outputs": [
        {
          "output_type": "execute_result",
          "data": {
            "text/plain": [
              "<Axes: xlabel='binIncome'>"
            ]
          },
          "metadata": {},
          "execution_count": 178
        },
        {
          "output_type": "display_data",
          "data": {
            "text/plain": [
              "<Figure size 640x480 with 1 Axes>"
            ],
            "image/png": "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\n"
          },
          "metadata": {}
        }
      ]
    },
    {
      "cell_type": "markdown",
      "source": [
        "\n",
        "\n",
        "*   Churn rate is high among the drivers having average income in the range[10000, 70000]\n",
        "\n",
        "\n"
      ],
      "metadata": {
        "id": "DGntucuHCS2s"
      }
    },
    {
      "cell_type": "code",
      "source": [
        "# Age Vs Churn\n",
        "df[\"Agebin\"] = pd.cut(df['Age'], bins = [20, 30, 40, 50, 60])\n",
        "pd.crosstab(df['Agebin'],df[\"Churn\"]).plot(kind = \"bar\",stacked = True)"
      ],
      "metadata": {
        "colab": {
          "base_uri": "https://localhost:8080/",
          "height": 507
        },
        "id": "MAMwhGp_YS1S",
        "outputId": "5765a947-5703-45b6-841a-e556089617f2"
      },
      "execution_count": null,
      "outputs": [
        {
          "output_type": "execute_result",
          "data": {
            "text/plain": [
              "<Axes: xlabel='Agebin'>"
            ]
          },
          "metadata": {},
          "execution_count": 179
        },
        {
          "output_type": "display_data",
          "data": {
            "text/plain": [
              "<Figure size 640x480 with 1 Axes>"
            ],
            "image/png": "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\n"
          },
          "metadata": {}
        }
      ]
    },
    {
      "cell_type": "code",
      "source": [
        "sns.boxplot(data = df,x = \"Quarterly Rating\", y = \"AvgTotal Business Value\")"
      ],
      "metadata": {
        "colab": {
          "base_uri": "https://localhost:8080/",
          "height": 482
        },
        "id": "b9jqjBWpVMCy",
        "outputId": "9cd3a24d-1803-41f5-b388-7fa2c8dc5232"
      },
      "execution_count": null,
      "outputs": [
        {
          "output_type": "execute_result",
          "data": {
            "text/plain": [
              "<Axes: xlabel='Quarterly Rating', ylabel='AvgTotal Business Value'>"
            ]
          },
          "metadata": {},
          "execution_count": 31
        },
        {
          "output_type": "display_data",
          "data": {
            "text/plain": [
              "<Figure size 640x480 with 1 Axes>"
            ],
            "image/png": "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\n"
          },
          "metadata": {}
        }
      ]
    },
    {
      "cell_type": "markdown",
      "source": [
        "\n",
        "\n",
        "*   Avg business value of drivers & theire quartely rating are related to each other. Average business of value of drivers having high quarterly rating has high average business value.\n",
        "\n"
      ],
      "metadata": {
        "id": "9f_dqygcCu95"
      }
    },
    {
      "cell_type": "code",
      "source": [
        "# Continous Vs continous\n",
        "sns.boxplot(data = df,x = \"Quarterly Rating\", y = \"Income\")"
      ],
      "metadata": {
        "colab": {
          "base_uri": "https://localhost:8080/",
          "height": 466
        },
        "id": "fIokvG2kkLM-",
        "outputId": "321797cb-a9e8-4ccc-fceb-66c17533ece3"
      },
      "execution_count": null,
      "outputs": [
        {
          "output_type": "execute_result",
          "data": {
            "text/plain": [
              "<Axes: xlabel='Quarterly Rating', ylabel='Income'>"
            ]
          },
          "metadata": {},
          "execution_count": 32
        },
        {
          "output_type": "display_data",
          "data": {
            "text/plain": [
              "<Figure size 640x480 with 1 Axes>"
            ],
            "image/png": "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\n"
          },
          "metadata": {}
        }
      ]
    },
    {
      "cell_type": "code",
      "source": [
        "df.drop([\"binIncome\",\"Agebin\"], axis = 1, inplace = True)"
      ],
      "metadata": {
        "id": "XiWp5cRVa-77"
      },
      "execution_count": null,
      "outputs": []
    },
    {
      "cell_type": "markdown",
      "source": [
        "# **Data cleaning**"
      ],
      "metadata": {
        "id": "qRirR6ptaz_F"
      }
    },
    {
      "cell_type": "markdown",
      "source": [
        "**Missing value Treatment**\n"
      ],
      "metadata": {
        "id": "SXJjSaZVU9Yc"
      }
    },
    {
      "cell_type": "markdown",
      "source": [
        "**KNN Imputation**"
      ],
      "metadata": {
        "id": "5OPwOgK4V7jR"
      }
    },
    {
      "cell_type": "code",
      "source": [
        "# Gender & Age are the two columns which consists of null values\n",
        "\n",
        "from sklearn.impute import KNNImputer\n",
        "\n",
        "columns = [\"Age\", \"Gender\"]\n",
        "df_num = df[[\"Age\", \"Gender\"]]\n",
        "\n",
        "Imputer = KNNImputer(n_neighbors = 4, weights = 'uniform', metric = 'nan_euclidean' )\n",
        "Imputer.fit(df_num)\n",
        "df_new_num = Imputer.transform(df_num)\n",
        "\n",
        "df_new_num = pd.DataFrame(df_new_num, columns = columns)"
      ],
      "metadata": {
        "id": "QlZl1-qsVIUc"
      },
      "execution_count": 26,
      "outputs": []
    },
    {
      "cell_type": "code",
      "source": [
        "df[[\"Age\", \"Gender\"]] = df_new_num"
      ],
      "metadata": {
        "id": "kMBJZrLngVGW"
      },
      "execution_count": 27,
      "outputs": []
    },
    {
      "cell_type": "code",
      "source": [
        "df.drop(\"index\", axis =1, inplace = True)"
      ],
      "metadata": {
        "id": "bvBjnmragznH"
      },
      "execution_count": 28,
      "outputs": []
    },
    {
      "cell_type": "code",
      "source": [
        "df.head()"
      ],
      "metadata": {
        "colab": {
          "base_uri": "https://localhost:8080/",
          "height": 310
        },
        "id": "7tDBwAdrggB2",
        "outputId": "efb1f21e-a95f-4a44-bc75-dca688224671"
      },
      "execution_count": 29,
      "outputs": [
        {
          "output_type": "execute_result",
          "data": {
            "text/plain": [
              "      MMM-YY  Driver_ID   Age  Gender City  Education_Level  Income  \\\n",
              "0 2019-03-01          1  28.0     0.0  C23                2   57387   \n",
              "1 2020-12-01          2  31.0     0.0   C7                2   67016   \n",
              "2 2020-04-01          4  43.0     0.0  C13                2   65603   \n",
              "3 2019-03-01          5  29.0     0.0   C9                0   46368   \n",
              "4 2020-12-01          6  31.0     1.0  C11                1   78728   \n",
              "\n",
              "  Dateofjoining  Joining Designation  Grade  Quarterly Rating  \\\n",
              "0    2018-12-24                    1      1                 2   \n",
              "1    2020-11-06                    2      2                 1   \n",
              "2    2019-12-07                    2      2                 1   \n",
              "3    2019-01-09                    1      1                 1   \n",
              "4    2020-07-31                    3      3                 2   \n",
              "\n",
              "   AvgTotal Business Value  Churn  \n",
              "0                 571860.0      0  \n",
              "1                      0.0      1  \n",
              "2                  70000.0      0  \n",
              "3                  40120.0      0  \n",
              "4                 253000.0      1  "
            ],
            "text/html": [
              "\n",
              "  <div id=\"df-12235c78-fee8-488e-8e84-105d897a54ac\" class=\"colab-df-container\">\n",
              "    <div>\n",
              "<style scoped>\n",
              "    .dataframe tbody tr th:only-of-type {\n",
              "        vertical-align: middle;\n",
              "    }\n",
              "\n",
              "    .dataframe tbody tr th {\n",
              "        vertical-align: top;\n",
              "    }\n",
              "\n",
              "    .dataframe thead th {\n",
              "        text-align: right;\n",
              "    }\n",
              "</style>\n",
              "<table border=\"1\" class=\"dataframe\">\n",
              "  <thead>\n",
              "    <tr style=\"text-align: right;\">\n",
              "      <th></th>\n",
              "      <th>MMM-YY</th>\n",
              "      <th>Driver_ID</th>\n",
              "      <th>Age</th>\n",
              "      <th>Gender</th>\n",
              "      <th>City</th>\n",
              "      <th>Education_Level</th>\n",
              "      <th>Income</th>\n",
              "      <th>Dateofjoining</th>\n",
              "      <th>Joining Designation</th>\n",
              "      <th>Grade</th>\n",
              "      <th>Quarterly Rating</th>\n",
              "      <th>AvgTotal Business Value</th>\n",
              "      <th>Churn</th>\n",
              "    </tr>\n",
              "  </thead>\n",
              "  <tbody>\n",
              "    <tr>\n",
              "      <th>0</th>\n",
              "      <td>2019-03-01</td>\n",
              "      <td>1</td>\n",
              "      <td>28.0</td>\n",
              "      <td>0.0</td>\n",
              "      <td>C23</td>\n",
              "      <td>2</td>\n",
              "      <td>57387</td>\n",
              "      <td>2018-12-24</td>\n",
              "      <td>1</td>\n",
              "      <td>1</td>\n",
              "      <td>2</td>\n",
              "      <td>571860.0</td>\n",
              "      <td>0</td>\n",
              "    </tr>\n",
              "    <tr>\n",
              "      <th>1</th>\n",
              "      <td>2020-12-01</td>\n",
              "      <td>2</td>\n",
              "      <td>31.0</td>\n",
              "      <td>0.0</td>\n",
              "      <td>C7</td>\n",
              "      <td>2</td>\n",
              "      <td>67016</td>\n",
              "      <td>2020-11-06</td>\n",
              "      <td>2</td>\n",
              "      <td>2</td>\n",
              "      <td>1</td>\n",
              "      <td>0.0</td>\n",
              "      <td>1</td>\n",
              "    </tr>\n",
              "    <tr>\n",
              "      <th>2</th>\n",
              "      <td>2020-04-01</td>\n",
              "      <td>4</td>\n",
              "      <td>43.0</td>\n",
              "      <td>0.0</td>\n",
              "      <td>C13</td>\n",
              "      <td>2</td>\n",
              "      <td>65603</td>\n",
              "      <td>2019-12-07</td>\n",
              "      <td>2</td>\n",
              "      <td>2</td>\n",
              "      <td>1</td>\n",
              "      <td>70000.0</td>\n",
              "      <td>0</td>\n",
              "    </tr>\n",
              "    <tr>\n",
              "      <th>3</th>\n",
              "      <td>2019-03-01</td>\n",
              "      <td>5</td>\n",
              "      <td>29.0</td>\n",
              "      <td>0.0</td>\n",
              "      <td>C9</td>\n",
              "      <td>0</td>\n",
              "      <td>46368</td>\n",
              "      <td>2019-01-09</td>\n",
              "      <td>1</td>\n",
              "      <td>1</td>\n",
              "      <td>1</td>\n",
              "      <td>40120.0</td>\n",
              "      <td>0</td>\n",
              "    </tr>\n",
              "    <tr>\n",
              "      <th>4</th>\n",
              "      <td>2020-12-01</td>\n",
              "      <td>6</td>\n",
              "      <td>31.0</td>\n",
              "      <td>1.0</td>\n",
              "      <td>C11</td>\n",
              "      <td>1</td>\n",
              "      <td>78728</td>\n",
              "      <td>2020-07-31</td>\n",
              "      <td>3</td>\n",
              "      <td>3</td>\n",
              "      <td>2</td>\n",
              "      <td>253000.0</td>\n",
              "      <td>1</td>\n",
              "    </tr>\n",
              "  </tbody>\n",
              "</table>\n",
              "</div>\n",
              "    <div class=\"colab-df-buttons\">\n",
              "\n",
              "  <div class=\"colab-df-container\">\n",
              "    <button class=\"colab-df-convert\" onclick=\"convertToInteractive('df-12235c78-fee8-488e-8e84-105d897a54ac')\"\n",
              "            title=\"Convert this dataframe to an interactive table.\"\n",
              "            style=\"display:none;\">\n",
              "\n",
              "  <svg xmlns=\"http://www.w3.org/2000/svg\" height=\"24px\" viewBox=\"0 -960 960 960\">\n",
              "    <path d=\"M120-120v-720h720v720H120Zm60-500h600v-160H180v160Zm220 220h160v-160H400v160Zm0 220h160v-160H400v160ZM180-400h160v-160H180v160Zm440 0h160v-160H620v160ZM180-180h160v-160H180v160Zm440 0h160v-160H620v160Z\"/>\n",
              "  </svg>\n",
              "    </button>\n",
              "\n",
              "  <style>\n",
              "    .colab-df-container {\n",
              "      display:flex;\n",
              "      gap: 12px;\n",
              "    }\n",
              "\n",
              "    .colab-df-convert {\n",
              "      background-color: #E8F0FE;\n",
              "      border: none;\n",
              "      border-radius: 50%;\n",
              "      cursor: pointer;\n",
              "      display: none;\n",
              "      fill: #1967D2;\n",
              "      height: 32px;\n",
              "      padding: 0 0 0 0;\n",
              "      width: 32px;\n",
              "    }\n",
              "\n",
              "    .colab-df-convert:hover {\n",
              "      background-color: #E2EBFA;\n",
              "      box-shadow: 0px 1px 2px rgba(60, 64, 67, 0.3), 0px 1px 3px 1px rgba(60, 64, 67, 0.15);\n",
              "      fill: #174EA6;\n",
              "    }\n",
              "\n",
              "    .colab-df-buttons div {\n",
              "      margin-bottom: 4px;\n",
              "    }\n",
              "\n",
              "    [theme=dark] .colab-df-convert {\n",
              "      background-color: #3B4455;\n",
              "      fill: #D2E3FC;\n",
              "    }\n",
              "\n",
              "    [theme=dark] .colab-df-convert:hover {\n",
              "      background-color: #434B5C;\n",
              "      box-shadow: 0px 1px 3px 1px rgba(0, 0, 0, 0.15);\n",
              "      filter: drop-shadow(0px 1px 2px rgba(0, 0, 0, 0.3));\n",
              "      fill: #FFFFFF;\n",
              "    }\n",
              "  </style>\n",
              "\n",
              "    <script>\n",
              "      const buttonEl =\n",
              "        document.querySelector('#df-12235c78-fee8-488e-8e84-105d897a54ac button.colab-df-convert');\n",
              "      buttonEl.style.display =\n",
              "        google.colab.kernel.accessAllowed ? 'block' : 'none';\n",
              "\n",
              "      async function convertToInteractive(key) {\n",
              "        const element = document.querySelector('#df-12235c78-fee8-488e-8e84-105d897a54ac');\n",
              "        const dataTable =\n",
              "          await google.colab.kernel.invokeFunction('convertToInteractive',\n",
              "                                                    [key], {});\n",
              "        if (!dataTable) return;\n",
              "\n",
              "        const docLinkHtml = 'Like what you see? Visit the ' +\n",
              "          '<a target=\"_blank\" href=https://colab.research.google.com/notebooks/data_table.ipynb>data table notebook</a>'\n",
              "          + ' to learn more about interactive tables.';\n",
              "        element.innerHTML = '';\n",
              "        dataTable['output_type'] = 'display_data';\n",
              "        await google.colab.output.renderOutput(dataTable, element);\n",
              "        const docLink = document.createElement('div');\n",
              "        docLink.innerHTML = docLinkHtml;\n",
              "        element.appendChild(docLink);\n",
              "      }\n",
              "    </script>\n",
              "  </div>\n",
              "\n",
              "\n",
              "<div id=\"df-3cc0efdb-2dbe-4ecc-9ed7-ace8e7f54263\">\n",
              "  <button class=\"colab-df-quickchart\" onclick=\"quickchart('df-3cc0efdb-2dbe-4ecc-9ed7-ace8e7f54263')\"\n",
              "            title=\"Suggest charts\"\n",
              "            style=\"display:none;\">\n",
              "\n",
              "<svg xmlns=\"http://www.w3.org/2000/svg\" height=\"24px\"viewBox=\"0 0 24 24\"\n",
              "     width=\"24px\">\n",
              "    <g>\n",
              "        <path d=\"M19 3H5c-1.1 0-2 .9-2 2v14c0 1.1.9 2 2 2h14c1.1 0 2-.9 2-2V5c0-1.1-.9-2-2-2zM9 17H7v-7h2v7zm4 0h-2V7h2v10zm4 0h-2v-4h2v4z\"/>\n",
              "    </g>\n",
              "</svg>\n",
              "  </button>\n",
              "\n",
              "<style>\n",
              "  .colab-df-quickchart {\n",
              "      --bg-color: #E8F0FE;\n",
              "      --fill-color: #1967D2;\n",
              "      --hover-bg-color: #E2EBFA;\n",
              "      --hover-fill-color: #174EA6;\n",
              "      --disabled-fill-color: #AAA;\n",
              "      --disabled-bg-color: #DDD;\n",
              "  }\n",
              "\n",
              "  [theme=dark] .colab-df-quickchart {\n",
              "      --bg-color: #3B4455;\n",
              "      --fill-color: #D2E3FC;\n",
              "      --hover-bg-color: #434B5C;\n",
              "      --hover-fill-color: #FFFFFF;\n",
              "      --disabled-bg-color: #3B4455;\n",
              "      --disabled-fill-color: #666;\n",
              "  }\n",
              "\n",
              "  .colab-df-quickchart {\n",
              "    background-color: var(--bg-color);\n",
              "    border: none;\n",
              "    border-radius: 50%;\n",
              "    cursor: pointer;\n",
              "    display: none;\n",
              "    fill: var(--fill-color);\n",
              "    height: 32px;\n",
              "    padding: 0;\n",
              "    width: 32px;\n",
              "  }\n",
              "\n",
              "  .colab-df-quickchart:hover {\n",
              "    background-color: var(--hover-bg-color);\n",
              "    box-shadow: 0 1px 2px rgba(60, 64, 67, 0.3), 0 1px 3px 1px rgba(60, 64, 67, 0.15);\n",
              "    fill: var(--button-hover-fill-color);\n",
              "  }\n",
              "\n",
              "  .colab-df-quickchart-complete:disabled,\n",
              "  .colab-df-quickchart-complete:disabled:hover {\n",
              "    background-color: var(--disabled-bg-color);\n",
              "    fill: var(--disabled-fill-color);\n",
              "    box-shadow: none;\n",
              "  }\n",
              "\n",
              "  .colab-df-spinner {\n",
              "    border: 2px solid var(--fill-color);\n",
              "    border-color: transparent;\n",
              "    border-bottom-color: var(--fill-color);\n",
              "    animation:\n",
              "      spin 1s steps(1) infinite;\n",
              "  }\n",
              "\n",
              "  @keyframes spin {\n",
              "    0% {\n",
              "      border-color: transparent;\n",
              "      border-bottom-color: var(--fill-color);\n",
              "      border-left-color: var(--fill-color);\n",
              "    }\n",
              "    20% {\n",
              "      border-color: transparent;\n",
              "      border-left-color: var(--fill-color);\n",
              "      border-top-color: var(--fill-color);\n",
              "    }\n",
              "    30% {\n",
              "      border-color: transparent;\n",
              "      border-left-color: var(--fill-color);\n",
              "      border-top-color: var(--fill-color);\n",
              "      border-right-color: var(--fill-color);\n",
              "    }\n",
              "    40% {\n",
              "      border-color: transparent;\n",
              "      border-right-color: var(--fill-color);\n",
              "      border-top-color: var(--fill-color);\n",
              "    }\n",
              "    60% {\n",
              "      border-color: transparent;\n",
              "      border-right-color: var(--fill-color);\n",
              "    }\n",
              "    80% {\n",
              "      border-color: transparent;\n",
              "      border-right-color: var(--fill-color);\n",
              "      border-bottom-color: var(--fill-color);\n",
              "    }\n",
              "    90% {\n",
              "      border-color: transparent;\n",
              "      border-bottom-color: var(--fill-color);\n",
              "    }\n",
              "  }\n",
              "</style>\n",
              "\n",
              "  <script>\n",
              "    async function quickchart(key) {\n",
              "      const quickchartButtonEl =\n",
              "        document.querySelector('#' + key + ' button');\n",
              "      quickchartButtonEl.disabled = true;  // To prevent multiple clicks.\n",
              "      quickchartButtonEl.classList.add('colab-df-spinner');\n",
              "      try {\n",
              "        const charts = await google.colab.kernel.invokeFunction(\n",
              "            'suggestCharts', [key], {});\n",
              "      } catch (error) {\n",
              "        console.error('Error during call to suggestCharts:', error);\n",
              "      }\n",
              "      quickchartButtonEl.classList.remove('colab-df-spinner');\n",
              "      quickchartButtonEl.classList.add('colab-df-quickchart-complete');\n",
              "    }\n",
              "    (() => {\n",
              "      let quickchartButtonEl =\n",
              "        document.querySelector('#df-3cc0efdb-2dbe-4ecc-9ed7-ace8e7f54263 button');\n",
              "      quickchartButtonEl.style.display =\n",
              "        google.colab.kernel.accessAllowed ? 'block' : 'none';\n",
              "    })();\n",
              "  </script>\n",
              "</div>\n",
              "\n",
              "    </div>\n",
              "  </div>\n"
            ],
            "application/vnd.google.colaboratory.intrinsic+json": {
              "type": "dataframe",
              "variable_name": "df",
              "summary": "{\n  \"name\": \"df\",\n  \"rows\": 2381,\n  \"fields\": [\n    {\n      \"column\": \"MMM-YY\",\n      \"properties\": {\n        \"dtype\": \"date\",\n        \"min\": \"2019-01-01 00:00:00\",\n        \"max\": \"2020-12-01 00:00:00\",\n        \"num_unique_values\": 24,\n        \"samples\": [\n          \"2020-03-01 00:00:00\",\n          \"2019-01-01 00:00:00\",\n          \"2019-03-01 00:00:00\"\n        ],\n        \"semantic_type\": \"\",\n        \"description\": \"\"\n      }\n    },\n    {\n      \"column\": \"Driver_ID\",\n      \"properties\": {\n        \"dtype\": \"number\",\n        \"std\": 806,\n        \"min\": 1,\n        \"max\": 2788,\n        \"num_unique_values\": 2381,\n        \"samples\": [\n          1663,\n          1264,\n          1618\n        ],\n        \"semantic_type\": \"\",\n        \"description\": \"\"\n      }\n    },\n    {\n      \"column\": \"Age\",\n      \"properties\": {\n        \"dtype\": \"number\",\n        \"std\": 5.969293364980904,\n        \"min\": 21.0,\n        \"max\": 58.0,\n        \"num_unique_values\": 37,\n        \"samples\": [\n          37.0,\n          22.0,\n          34.0\n        ],\n        \"semantic_type\": \"\",\n        \"description\": \"\"\n      }\n    },\n    {\n      \"column\": \"Gender\",\n      \"properties\": {\n        \"dtype\": \"number\",\n        \"std\": 0.49121101623441293,\n        \"min\": 0.0,\n        \"max\": 1.0,\n        \"num_unique_values\": 3,\n        \"samples\": [\n          0.0,\n          1.0,\n          0.5\n        ],\n        \"semantic_type\": \"\",\n        \"description\": \"\"\n      }\n    },\n    {\n      \"column\": \"City\",\n      \"properties\": {\n        \"dtype\": \"category\",\n        \"num_unique_values\": 29,\n        \"samples\": [\n          \"C22\",\n          \"C5\",\n          \"C24\"\n        ],\n        \"semantic_type\": \"\",\n        \"description\": \"\"\n      }\n    },\n    {\n      \"column\": \"Education_Level\",\n      \"properties\": {\n        \"dtype\": \"number\",\n        \"std\": 0,\n        \"min\": 0,\n        \"max\": 2,\n        \"num_unique_values\": 3,\n        \"samples\": [\n          2,\n          0,\n          1\n        ],\n        \"semantic_type\": \"\",\n        \"description\": \"\"\n      }\n    },\n    {\n      \"column\": \"Income\",\n      \"properties\": {\n        \"dtype\": \"number\",\n        \"std\": 28383,\n        \"min\": 10747,\n        \"max\": 188418,\n        \"num_unique_values\": 2339,\n        \"samples\": [\n          58943,\n          96076,\n          45193\n        ],\n        \"semantic_type\": \"\",\n        \"description\": \"\"\n      }\n    },\n    {\n      \"column\": \"Dateofjoining\",\n      \"properties\": {\n        \"dtype\": \"date\",\n        \"min\": \"2013-04-01 00:00:00\",\n        \"max\": \"2020-12-28 00:00:00\",\n        \"num_unique_values\": 869,\n        \"samples\": [\n          \"2019-09-14 00:00:00\",\n          \"2018-01-06 00:00:00\",\n          \"2016-05-13 00:00:00\"\n        ],\n        \"semantic_type\": \"\",\n        \"description\": \"\"\n      }\n    },\n    {\n      \"column\": \"Joining Designation\",\n      \"properties\": {\n        \"dtype\": \"number\",\n        \"std\": 0,\n        \"min\": 1,\n        \"max\": 5,\n        \"num_unique_values\": 5,\n        \"samples\": [\n          2,\n          5,\n          3\n        ],\n        \"semantic_type\": \"\",\n        \"description\": \"\"\n      }\n    },\n    {\n      \"column\": \"Grade\",\n      \"properties\": {\n        \"dtype\": \"number\",\n        \"std\": 0,\n        \"min\": 1,\n        \"max\": 5,\n        \"num_unique_values\": 5,\n        \"samples\": [\n          2,\n          5,\n          3\n        ],\n        \"semantic_type\": \"\",\n        \"description\": \"\"\n      }\n    },\n    {\n      \"column\": \"Quarterly Rating\",\n      \"properties\": {\n        \"dtype\": \"number\",\n        \"std\": 0,\n        \"min\": 1,\n        \"max\": 4,\n        \"num_unique_values\": 4,\n        \"samples\": [\n          1,\n          3,\n          2\n        ],\n        \"semantic_type\": \"\",\n        \"description\": \"\"\n      }\n    },\n    {\n      \"column\": \"AvgTotal Business Value\",\n      \"properties\": {\n        \"dtype\": \"number\",\n        \"std\": 449570.50671109883,\n        \"min\": -197932.85714285713,\n        \"max\": 3972127.5,\n        \"num_unique_values\": 1639,\n        \"samples\": [\n          327760.0,\n          406332.0,\n          181478.125\n        ],\n        \"semantic_type\": \"\",\n        \"description\": \"\"\n      }\n    },\n    {\n      \"column\": \"Churn\",\n      \"properties\": {\n        \"dtype\": \"number\",\n        \"std\": 0,\n        \"min\": 0,\n        \"max\": 1,\n        \"num_unique_values\": 2,\n        \"samples\": [\n          1,\n          0\n        ],\n        \"semantic_type\": \"\",\n        \"description\": \"\"\n      }\n    }\n  ]\n}"
            }
          },
          "metadata": {},
          "execution_count": 29
        }
      ]
    },
    {
      "cell_type": "markdown",
      "source": [
        "**Removing Outliers**"
      ],
      "metadata": {
        "id": "vT1bsAzZjW3S"
      }
    },
    {
      "cell_type": "code",
      "source": [
        "num = [\"Age\", \"Income\", \"AvgTotal Business Value\"]\n",
        "\n",
        "def outlierremoval(df,col):\n",
        "  q1 = np.percentile(df[col], 25)\n",
        "  q3 = np.percentile(df[col], 75)\n",
        "  iqr = q3 - q1\n",
        "  ll = q1 - 1.5*iqr\n",
        "  ul = q3+1.5*iqr\n",
        "  df = df[(df[col]>ll )& (df[col]<ul)]\n",
        "  return df\n",
        "\n",
        "for col in num:\n",
        "  df = outlierremoval(df,col)"
      ],
      "metadata": {
        "id": "MyFDDyA4jMw0"
      },
      "execution_count": 30,
      "outputs": []
    },
    {
      "cell_type": "markdown",
      "source": [
        "**Statistical Summary of derived data after data cleaning**"
      ],
      "metadata": {
        "id": "1PJgQ7acl7IX"
      }
    },
    {
      "cell_type": "code",
      "source": [
        "df.describe()"
      ],
      "metadata": {
        "colab": {
          "base_uri": "https://localhost:8080/",
          "height": 318
        },
        "id": "QRWileHxmE5o",
        "outputId": "f7f9adfa-5f43-4f95-d0ff-40bd2fc43cd0"
      },
      "execution_count": null,
      "outputs": [
        {
          "output_type": "execute_result",
          "data": {
            "text/plain": [
              "         Driver_ID          Age       Gender  Education_Level         Income  \\\n",
              "count  2158.000000  2158.000000  2158.000000      2158.000000    2158.000000   \n",
              "mean   1394.732159    33.159291     0.406627         1.006024   55614.132994   \n",
              "std     805.872358     5.497394     0.490492         0.818459   24841.875080   \n",
              "min       1.000000    21.000000     0.000000         0.000000   10747.000000   \n",
              "25%     689.250000    29.000000     0.000000         0.000000   37797.750000   \n",
              "50%    1398.500000    33.000000     0.000000         1.000000   52913.000000   \n",
              "75%    2090.750000    37.000000     1.000000         2.000000   70726.750000   \n",
              "max    2788.000000    48.000000     1.000000         2.000000  130781.000000   \n",
              "\n",
              "       Joining Designation        Grade  Quarterly Rating  \\\n",
              "count          2158.000000  2158.000000       2158.000000   \n",
              "mean              1.813253     1.981001          1.339666   \n",
              "std               0.813009     0.850488          0.706951   \n",
              "min               1.000000     1.000000          1.000000   \n",
              "25%               1.000000     1.000000          1.000000   \n",
              "50%               2.000000     2.000000          1.000000   \n",
              "75%               2.000000     3.000000          1.000000   \n",
              "max               5.000000     5.000000          4.000000   \n",
              "\n",
              "       AvgTotal Business Value        Churn  \n",
              "count             2.158000e+03  2158.000000  \n",
              "mean              2.110750e+05     0.287303  \n",
              "std               2.477444e+05     0.452609  \n",
              "min              -1.979329e+05     0.000000  \n",
              "25%               0.000000e+00     0.000000  \n",
              "50%               1.188994e+05     0.000000  \n",
              "75%               3.533014e+05     1.000000  \n",
              "max               1.012278e+06     1.000000  "
            ],
            "text/html": [
              "\n",
              "  <div id=\"df-207856c2-be47-46ee-91d7-7ceef0311349\" class=\"colab-df-container\">\n",
              "    <div>\n",
              "<style scoped>\n",
              "    .dataframe tbody tr th:only-of-type {\n",
              "        vertical-align: middle;\n",
              "    }\n",
              "\n",
              "    .dataframe tbody tr th {\n",
              "        vertical-align: top;\n",
              "    }\n",
              "\n",
              "    .dataframe thead th {\n",
              "        text-align: right;\n",
              "    }\n",
              "</style>\n",
              "<table border=\"1\" class=\"dataframe\">\n",
              "  <thead>\n",
              "    <tr style=\"text-align: right;\">\n",
              "      <th></th>\n",
              "      <th>Driver_ID</th>\n",
              "      <th>Age</th>\n",
              "      <th>Gender</th>\n",
              "      <th>Education_Level</th>\n",
              "      <th>Income</th>\n",
              "      <th>Joining Designation</th>\n",
              "      <th>Grade</th>\n",
              "      <th>Quarterly Rating</th>\n",
              "      <th>AvgTotal Business Value</th>\n",
              "      <th>Churn</th>\n",
              "    </tr>\n",
              "  </thead>\n",
              "  <tbody>\n",
              "    <tr>\n",
              "      <th>count</th>\n",
              "      <td>2158.000000</td>\n",
              "      <td>2158.000000</td>\n",
              "      <td>2158.000000</td>\n",
              "      <td>2158.000000</td>\n",
              "      <td>2158.000000</td>\n",
              "      <td>2158.000000</td>\n",
              "      <td>2158.000000</td>\n",
              "      <td>2158.000000</td>\n",
              "      <td>2.158000e+03</td>\n",
              "      <td>2158.000000</td>\n",
              "    </tr>\n",
              "    <tr>\n",
              "      <th>mean</th>\n",
              "      <td>1394.732159</td>\n",
              "      <td>33.159291</td>\n",
              "      <td>0.406627</td>\n",
              "      <td>1.006024</td>\n",
              "      <td>55614.132994</td>\n",
              "      <td>1.813253</td>\n",
              "      <td>1.981001</td>\n",
              "      <td>1.339666</td>\n",
              "      <td>2.110750e+05</td>\n",
              "      <td>0.287303</td>\n",
              "    </tr>\n",
              "    <tr>\n",
              "      <th>std</th>\n",
              "      <td>805.872358</td>\n",
              "      <td>5.497394</td>\n",
              "      <td>0.490492</td>\n",
              "      <td>0.818459</td>\n",
              "      <td>24841.875080</td>\n",
              "      <td>0.813009</td>\n",
              "      <td>0.850488</td>\n",
              "      <td>0.706951</td>\n",
              "      <td>2.477444e+05</td>\n",
              "      <td>0.452609</td>\n",
              "    </tr>\n",
              "    <tr>\n",
              "      <th>min</th>\n",
              "      <td>1.000000</td>\n",
              "      <td>21.000000</td>\n",
              "      <td>0.000000</td>\n",
              "      <td>0.000000</td>\n",
              "      <td>10747.000000</td>\n",
              "      <td>1.000000</td>\n",
              "      <td>1.000000</td>\n",
              "      <td>1.000000</td>\n",
              "      <td>-1.979329e+05</td>\n",
              "      <td>0.000000</td>\n",
              "    </tr>\n",
              "    <tr>\n",
              "      <th>25%</th>\n",
              "      <td>689.250000</td>\n",
              "      <td>29.000000</td>\n",
              "      <td>0.000000</td>\n",
              "      <td>0.000000</td>\n",
              "      <td>37797.750000</td>\n",
              "      <td>1.000000</td>\n",
              "      <td>1.000000</td>\n",
              "      <td>1.000000</td>\n",
              "      <td>0.000000e+00</td>\n",
              "      <td>0.000000</td>\n",
              "    </tr>\n",
              "    <tr>\n",
              "      <th>50%</th>\n",
              "      <td>1398.500000</td>\n",
              "      <td>33.000000</td>\n",
              "      <td>0.000000</td>\n",
              "      <td>1.000000</td>\n",
              "      <td>52913.000000</td>\n",
              "      <td>2.000000</td>\n",
              "      <td>2.000000</td>\n",
              "      <td>1.000000</td>\n",
              "      <td>1.188994e+05</td>\n",
              "      <td>0.000000</td>\n",
              "    </tr>\n",
              "    <tr>\n",
              "      <th>75%</th>\n",
              "      <td>2090.750000</td>\n",
              "      <td>37.000000</td>\n",
              "      <td>1.000000</td>\n",
              "      <td>2.000000</td>\n",
              "      <td>70726.750000</td>\n",
              "      <td>2.000000</td>\n",
              "      <td>3.000000</td>\n",
              "      <td>1.000000</td>\n",
              "      <td>3.533014e+05</td>\n",
              "      <td>1.000000</td>\n",
              "    </tr>\n",
              "    <tr>\n",
              "      <th>max</th>\n",
              "      <td>2788.000000</td>\n",
              "      <td>48.000000</td>\n",
              "      <td>1.000000</td>\n",
              "      <td>2.000000</td>\n",
              "      <td>130781.000000</td>\n",
              "      <td>5.000000</td>\n",
              "      <td>5.000000</td>\n",
              "      <td>4.000000</td>\n",
              "      <td>1.012278e+06</td>\n",
              "      <td>1.000000</td>\n",
              "    </tr>\n",
              "  </tbody>\n",
              "</table>\n",
              "</div>\n",
              "    <div class=\"colab-df-buttons\">\n",
              "\n",
              "  <div class=\"colab-df-container\">\n",
              "    <button class=\"colab-df-convert\" onclick=\"convertToInteractive('df-207856c2-be47-46ee-91d7-7ceef0311349')\"\n",
              "            title=\"Convert this dataframe to an interactive table.\"\n",
              "            style=\"display:none;\">\n",
              "\n",
              "  <svg xmlns=\"http://www.w3.org/2000/svg\" height=\"24px\" viewBox=\"0 -960 960 960\">\n",
              "    <path d=\"M120-120v-720h720v720H120Zm60-500h600v-160H180v160Zm220 220h160v-160H400v160Zm0 220h160v-160H400v160ZM180-400h160v-160H180v160Zm440 0h160v-160H620v160ZM180-180h160v-160H180v160Zm440 0h160v-160H620v160Z\"/>\n",
              "  </svg>\n",
              "    </button>\n",
              "\n",
              "  <style>\n",
              "    .colab-df-container {\n",
              "      display:flex;\n",
              "      gap: 12px;\n",
              "    }\n",
              "\n",
              "    .colab-df-convert {\n",
              "      background-color: #E8F0FE;\n",
              "      border: none;\n",
              "      border-radius: 50%;\n",
              "      cursor: pointer;\n",
              "      display: none;\n",
              "      fill: #1967D2;\n",
              "      height: 32px;\n",
              "      padding: 0 0 0 0;\n",
              "      width: 32px;\n",
              "    }\n",
              "\n",
              "    .colab-df-convert:hover {\n",
              "      background-color: #E2EBFA;\n",
              "      box-shadow: 0px 1px 2px rgba(60, 64, 67, 0.3), 0px 1px 3px 1px rgba(60, 64, 67, 0.15);\n",
              "      fill: #174EA6;\n",
              "    }\n",
              "\n",
              "    .colab-df-buttons div {\n",
              "      margin-bottom: 4px;\n",
              "    }\n",
              "\n",
              "    [theme=dark] .colab-df-convert {\n",
              "      background-color: #3B4455;\n",
              "      fill: #D2E3FC;\n",
              "    }\n",
              "\n",
              "    [theme=dark] .colab-df-convert:hover {\n",
              "      background-color: #434B5C;\n",
              "      box-shadow: 0px 1px 3px 1px rgba(0, 0, 0, 0.15);\n",
              "      filter: drop-shadow(0px 1px 2px rgba(0, 0, 0, 0.3));\n",
              "      fill: #FFFFFF;\n",
              "    }\n",
              "  </style>\n",
              "\n",
              "    <script>\n",
              "      const buttonEl =\n",
              "        document.querySelector('#df-207856c2-be47-46ee-91d7-7ceef0311349 button.colab-df-convert');\n",
              "      buttonEl.style.display =\n",
              "        google.colab.kernel.accessAllowed ? 'block' : 'none';\n",
              "\n",
              "      async function convertToInteractive(key) {\n",
              "        const element = document.querySelector('#df-207856c2-be47-46ee-91d7-7ceef0311349');\n",
              "        const dataTable =\n",
              "          await google.colab.kernel.invokeFunction('convertToInteractive',\n",
              "                                                    [key], {});\n",
              "        if (!dataTable) return;\n",
              "\n",
              "        const docLinkHtml = 'Like what you see? Visit the ' +\n",
              "          '<a target=\"_blank\" href=https://colab.research.google.com/notebooks/data_table.ipynb>data table notebook</a>'\n",
              "          + ' to learn more about interactive tables.';\n",
              "        element.innerHTML = '';\n",
              "        dataTable['output_type'] = 'display_data';\n",
              "        await google.colab.output.renderOutput(dataTable, element);\n",
              "        const docLink = document.createElement('div');\n",
              "        docLink.innerHTML = docLinkHtml;\n",
              "        element.appendChild(docLink);\n",
              "      }\n",
              "    </script>\n",
              "  </div>\n",
              "\n",
              "\n",
              "<div id=\"df-164b5eb0-5ce3-486e-8473-a3aad181d15d\">\n",
              "  <button class=\"colab-df-quickchart\" onclick=\"quickchart('df-164b5eb0-5ce3-486e-8473-a3aad181d15d')\"\n",
              "            title=\"Suggest charts\"\n",
              "            style=\"display:none;\">\n",
              "\n",
              "<svg xmlns=\"http://www.w3.org/2000/svg\" height=\"24px\"viewBox=\"0 0 24 24\"\n",
              "     width=\"24px\">\n",
              "    <g>\n",
              "        <path d=\"M19 3H5c-1.1 0-2 .9-2 2v14c0 1.1.9 2 2 2h14c1.1 0 2-.9 2-2V5c0-1.1-.9-2-2-2zM9 17H7v-7h2v7zm4 0h-2V7h2v10zm4 0h-2v-4h2v4z\"/>\n",
              "    </g>\n",
              "</svg>\n",
              "  </button>\n",
              "\n",
              "<style>\n",
              "  .colab-df-quickchart {\n",
              "      --bg-color: #E8F0FE;\n",
              "      --fill-color: #1967D2;\n",
              "      --hover-bg-color: #E2EBFA;\n",
              "      --hover-fill-color: #174EA6;\n",
              "      --disabled-fill-color: #AAA;\n",
              "      --disabled-bg-color: #DDD;\n",
              "  }\n",
              "\n",
              "  [theme=dark] .colab-df-quickchart {\n",
              "      --bg-color: #3B4455;\n",
              "      --fill-color: #D2E3FC;\n",
              "      --hover-bg-color: #434B5C;\n",
              "      --hover-fill-color: #FFFFFF;\n",
              "      --disabled-bg-color: #3B4455;\n",
              "      --disabled-fill-color: #666;\n",
              "  }\n",
              "\n",
              "  .colab-df-quickchart {\n",
              "    background-color: var(--bg-color);\n",
              "    border: none;\n",
              "    border-radius: 50%;\n",
              "    cursor: pointer;\n",
              "    display: none;\n",
              "    fill: var(--fill-color);\n",
              "    height: 32px;\n",
              "    padding: 0;\n",
              "    width: 32px;\n",
              "  }\n",
              "\n",
              "  .colab-df-quickchart:hover {\n",
              "    background-color: var(--hover-bg-color);\n",
              "    box-shadow: 0 1px 2px rgba(60, 64, 67, 0.3), 0 1px 3px 1px rgba(60, 64, 67, 0.15);\n",
              "    fill: var(--button-hover-fill-color);\n",
              "  }\n",
              "\n",
              "  .colab-df-quickchart-complete:disabled,\n",
              "  .colab-df-quickchart-complete:disabled:hover {\n",
              "    background-color: var(--disabled-bg-color);\n",
              "    fill: var(--disabled-fill-color);\n",
              "    box-shadow: none;\n",
              "  }\n",
              "\n",
              "  .colab-df-spinner {\n",
              "    border: 2px solid var(--fill-color);\n",
              "    border-color: transparent;\n",
              "    border-bottom-color: var(--fill-color);\n",
              "    animation:\n",
              "      spin 1s steps(1) infinite;\n",
              "  }\n",
              "\n",
              "  @keyframes spin {\n",
              "    0% {\n",
              "      border-color: transparent;\n",
              "      border-bottom-color: var(--fill-color);\n",
              "      border-left-color: var(--fill-color);\n",
              "    }\n",
              "    20% {\n",
              "      border-color: transparent;\n",
              "      border-left-color: var(--fill-color);\n",
              "      border-top-color: var(--fill-color);\n",
              "    }\n",
              "    30% {\n",
              "      border-color: transparent;\n",
              "      border-left-color: var(--fill-color);\n",
              "      border-top-color: var(--fill-color);\n",
              "      border-right-color: var(--fill-color);\n",
              "    }\n",
              "    40% {\n",
              "      border-color: transparent;\n",
              "      border-right-color: var(--fill-color);\n",
              "      border-top-color: var(--fill-color);\n",
              "    }\n",
              "    60% {\n",
              "      border-color: transparent;\n",
              "      border-right-color: var(--fill-color);\n",
              "    }\n",
              "    80% {\n",
              "      border-color: transparent;\n",
              "      border-right-color: var(--fill-color);\n",
              "      border-bottom-color: var(--fill-color);\n",
              "    }\n",
              "    90% {\n",
              "      border-color: transparent;\n",
              "      border-bottom-color: var(--fill-color);\n",
              "    }\n",
              "  }\n",
              "</style>\n",
              "\n",
              "  <script>\n",
              "    async function quickchart(key) {\n",
              "      const quickchartButtonEl =\n",
              "        document.querySelector('#' + key + ' button');\n",
              "      quickchartButtonEl.disabled = true;  // To prevent multiple clicks.\n",
              "      quickchartButtonEl.classList.add('colab-df-spinner');\n",
              "      try {\n",
              "        const charts = await google.colab.kernel.invokeFunction(\n",
              "            'suggestCharts', [key], {});\n",
              "      } catch (error) {\n",
              "        console.error('Error during call to suggestCharts:', error);\n",
              "      }\n",
              "      quickchartButtonEl.classList.remove('colab-df-spinner');\n",
              "      quickchartButtonEl.classList.add('colab-df-quickchart-complete');\n",
              "    }\n",
              "    (() => {\n",
              "      let quickchartButtonEl =\n",
              "        document.querySelector('#df-164b5eb0-5ce3-486e-8473-a3aad181d15d button');\n",
              "      quickchartButtonEl.style.display =\n",
              "        google.colab.kernel.accessAllowed ? 'block' : 'none';\n",
              "    })();\n",
              "  </script>\n",
              "</div>\n",
              "    </div>\n",
              "  </div>\n"
            ]
          },
          "metadata": {},
          "execution_count": 186
        }
      ]
    },
    {
      "cell_type": "markdown",
      "source": [
        "# **Data preprocessing**"
      ],
      "metadata": {
        "id": "ntSmuK-zmNrx"
      }
    },
    {
      "cell_type": "code",
      "source": [
        "df[\"Dateofjoining\"] = df[\"Dateofjoining\"].dt.year"
      ],
      "metadata": {
        "id": "3J2nfpE2UafC"
      },
      "execution_count": 31,
      "outputs": []
    },
    {
      "cell_type": "markdown",
      "source": [
        "**Feature Engineering**"
      ],
      "metadata": {
        "id": "8N9onKwCqQdK"
      }
    },
    {
      "cell_type": "markdown",
      "source": [
        "****"
      ],
      "metadata": {
        "id": "PVcyOkiBp206"
      }
    },
    {
      "cell_type": "code",
      "source": [
        "# Since reporting year of the all drivers lie in [2019, 2020], it doenot impact the target variable\n",
        "df.drop(\"MMM-YY\", axis = 1, inplace = True)\n",
        "\n",
        "# Since churn ration remains almost same for all cities, city is removed\n",
        "df.drop(\"City\", axis = 1, inplace = True)\n",
        "\n",
        "#Dropping driverID\n",
        "df.drop(\"Driver_ID\", axis = 1, inplace = True)"
      ],
      "metadata": {
        "id": "t1J68TPL-DS8"
      },
      "execution_count": 32,
      "outputs": []
    },
    {
      "cell_type": "markdown",
      "source": [
        "# **Checking of class imbalance**"
      ],
      "metadata": {
        "id": "kbBjhq2FyQyw"
      }
    },
    {
      "cell_type": "code",
      "source": [
        "df[\"Churn\"].value_counts()"
      ],
      "metadata": {
        "colab": {
          "base_uri": "https://localhost:8080/"
        },
        "id": "o4Ij0FZLyPsc",
        "outputId": "a233e1bd-c9e2-432c-8d4e-1e06fd098a9e"
      },
      "execution_count": 33,
      "outputs": [
        {
          "output_type": "execute_result",
          "data": {
            "text/plain": [
              "0    1538\n",
              "1     620\n",
              "Name: Churn, dtype: int64"
            ]
          },
          "metadata": {},
          "execution_count": 33
        }
      ]
    },
    {
      "cell_type": "markdown",
      "source": [
        "\n",
        "\n",
        "*   Final derived data distribution is 71%-29%, which is slightly imbalanced but workable.\n",
        "*   But this imbalance will be accounted while bulding the model by hyperparameter tuning.\n",
        "\n"
      ],
      "metadata": {
        "id": "4M94774tzrQy"
      }
    },
    {
      "cell_type": "markdown",
      "source": [
        "# **Decision tree Model**"
      ],
      "metadata": {
        "id": "_uYFjZANx_wp"
      }
    },
    {
      "cell_type": "markdown",
      "source": [
        "**Features and Label**"
      ],
      "metadata": {
        "id": "VjkrjsuZDEUA"
      }
    },
    {
      "cell_type": "code",
      "source": [
        "y = df[\"Churn\"]\n",
        "x = df.drop(\"Churn\", axis =1)"
      ],
      "metadata": {
        "id": "kL6Clx7YDKDG"
      },
      "execution_count": 34,
      "outputs": []
    },
    {
      "cell_type": "code",
      "source": [
        "from sklearn.model_selection import train_test_split, KFold, cross_validate, cross_val_score\n",
        "from sklearn.tree import DecisionTreeClassifier\n",
        "\n",
        "x_train, x_test, y_train, y_test = train_test_split(x,y,test_size = 0.2,random_state = 7)\n",
        "\n",
        "tree_clf = DecisionTreeClassifier(random_state = 7)\n",
        "tree_clf.fit(x_train,y_train)"
      ],
      "metadata": {
        "colab": {
          "base_uri": "https://localhost:8080/",
          "height": 75
        },
        "id": "FaMxHHEYx5Bs",
        "outputId": "bc0239b3-eed2-4533-8154-88ce8be53f60"
      },
      "execution_count": 35,
      "outputs": [
        {
          "output_type": "execute_result",
          "data": {
            "text/plain": [
              "DecisionTreeClassifier(random_state=7)"
            ],
            "text/html": [
              "<style>#sk-container-id-1 {color: black;background-color: white;}#sk-container-id-1 pre{padding: 0;}#sk-container-id-1 div.sk-toggleable {background-color: white;}#sk-container-id-1 label.sk-toggleable__label {cursor: pointer;display: block;width: 100%;margin-bottom: 0;padding: 0.3em;box-sizing: border-box;text-align: center;}#sk-container-id-1 label.sk-toggleable__label-arrow:before {content: \"▸\";float: left;margin-right: 0.25em;color: #696969;}#sk-container-id-1 label.sk-toggleable__label-arrow:hover:before {color: black;}#sk-container-id-1 div.sk-estimator:hover label.sk-toggleable__label-arrow:before {color: black;}#sk-container-id-1 div.sk-toggleable__content {max-height: 0;max-width: 0;overflow: hidden;text-align: left;background-color: #f0f8ff;}#sk-container-id-1 div.sk-toggleable__content pre {margin: 0.2em;color: black;border-radius: 0.25em;background-color: #f0f8ff;}#sk-container-id-1 input.sk-toggleable__control:checked~div.sk-toggleable__content {max-height: 200px;max-width: 100%;overflow: auto;}#sk-container-id-1 input.sk-toggleable__control:checked~label.sk-toggleable__label-arrow:before {content: \"▾\";}#sk-container-id-1 div.sk-estimator input.sk-toggleable__control:checked~label.sk-toggleable__label {background-color: #d4ebff;}#sk-container-id-1 div.sk-label input.sk-toggleable__control:checked~label.sk-toggleable__label {background-color: #d4ebff;}#sk-container-id-1 input.sk-hidden--visually {border: 0;clip: rect(1px 1px 1px 1px);clip: rect(1px, 1px, 1px, 1px);height: 1px;margin: -1px;overflow: hidden;padding: 0;position: absolute;width: 1px;}#sk-container-id-1 div.sk-estimator {font-family: monospace;background-color: #f0f8ff;border: 1px dotted black;border-radius: 0.25em;box-sizing: border-box;margin-bottom: 0.5em;}#sk-container-id-1 div.sk-estimator:hover {background-color: #d4ebff;}#sk-container-id-1 div.sk-parallel-item::after {content: \"\";width: 100%;border-bottom: 1px solid gray;flex-grow: 1;}#sk-container-id-1 div.sk-label:hover label.sk-toggleable__label {background-color: #d4ebff;}#sk-container-id-1 div.sk-serial::before {content: \"\";position: absolute;border-left: 1px solid gray;box-sizing: border-box;top: 0;bottom: 0;left: 50%;z-index: 0;}#sk-container-id-1 div.sk-serial {display: flex;flex-direction: column;align-items: center;background-color: white;padding-right: 0.2em;padding-left: 0.2em;position: relative;}#sk-container-id-1 div.sk-item {position: relative;z-index: 1;}#sk-container-id-1 div.sk-parallel {display: flex;align-items: stretch;justify-content: center;background-color: white;position: relative;}#sk-container-id-1 div.sk-item::before, #sk-container-id-1 div.sk-parallel-item::before {content: \"\";position: absolute;border-left: 1px solid gray;box-sizing: border-box;top: 0;bottom: 0;left: 50%;z-index: -1;}#sk-container-id-1 div.sk-parallel-item {display: flex;flex-direction: column;z-index: 1;position: relative;background-color: white;}#sk-container-id-1 div.sk-parallel-item:first-child::after {align-self: flex-end;width: 50%;}#sk-container-id-1 div.sk-parallel-item:last-child::after {align-self: flex-start;width: 50%;}#sk-container-id-1 div.sk-parallel-item:only-child::after {width: 0;}#sk-container-id-1 div.sk-dashed-wrapped {border: 1px dashed gray;margin: 0 0.4em 0.5em 0.4em;box-sizing: border-box;padding-bottom: 0.4em;background-color: white;}#sk-container-id-1 div.sk-label label {font-family: monospace;font-weight: bold;display: inline-block;line-height: 1.2em;}#sk-container-id-1 div.sk-label-container {text-align: center;}#sk-container-id-1 div.sk-container {/* jupyter's `normalize.less` sets `[hidden] { display: none; }` but bootstrap.min.css set `[hidden] { display: none !important; }` so we also need the `!important` here to be able to override the default hidden behavior on the sphinx rendered scikit-learn.org. See: https://github.com/scikit-learn/scikit-learn/issues/21755 */display: inline-block !important;position: relative;}#sk-container-id-1 div.sk-text-repr-fallback {display: none;}</style><div id=\"sk-container-id-1\" class=\"sk-top-container\"><div class=\"sk-text-repr-fallback\"><pre>DecisionTreeClassifier(random_state=7)</pre><b>In a Jupyter environment, please rerun this cell to show the HTML representation or trust the notebook. <br />On GitHub, the HTML representation is unable to render, please try loading this page with nbviewer.org.</b></div><div class=\"sk-container\" hidden><div class=\"sk-item\"><div class=\"sk-estimator sk-toggleable\"><input class=\"sk-toggleable__control sk-hidden--visually\" id=\"sk-estimator-id-1\" type=\"checkbox\" checked><label for=\"sk-estimator-id-1\" class=\"sk-toggleable__label sk-toggleable__label-arrow\">DecisionTreeClassifier</label><div class=\"sk-toggleable__content\"><pre>DecisionTreeClassifier(random_state=7)</pre></div></div></div></div></div>"
            ]
          },
          "metadata": {},
          "execution_count": 35
        }
      ]
    },
    {
      "cell_type": "code",
      "source": [
        "# Accuracy of the model\n",
        "from sklearn.metrics import accuracy_score, recall_score, precision_score, confusion_matrix\n",
        "train_acc = accuracy_score(y_train, tree_clf.predict(x_train))\n",
        "test_acc = accuracy_score(y_test, tree_clf.predict(x_test))\n",
        "\n",
        "print(f\"train_accuracy---->{train_acc}\")\n",
        "print(f\"test_accuracy---->{test_acc}\")"
      ],
      "metadata": {
        "colab": {
          "base_uri": "https://localhost:8080/"
        },
        "id": "qWv5hg_wJyHD",
        "outputId": "43bbfd47-bc2c-4b22-cbde-aa57c86b3434"
      },
      "execution_count": 36,
      "outputs": [
        {
          "output_type": "stream",
          "name": "stdout",
          "text": [
            "train_accuracy---->1.0\n",
            "test_accuracy---->0.7546296296296297\n"
          ]
        }
      ]
    },
    {
      "cell_type": "markdown",
      "source": [
        "**Cross validation - Hyper parameter Tuning**"
      ],
      "metadata": {
        "id": "liyNsP3bJVmv"
      }
    },
    {
      "cell_type": "code",
      "source": [
        "from sklearn.model_selection import GridSearchCV\n",
        "\n",
        "params = {\"criterion\" :[\"gini\", \"entropy\"], \"max_depth\":[2,3,5,7,10],\"min_samples_split\":[3, 4, 5,]}\n",
        "\n",
        "grid = GridSearchCV(estimator= DecisionTreeClassifier(), param_grid= params, scoring = 'accuracy', cv = 4,n_jobs =1)\n",
        "grid.fit(x_train, y_train)\n",
        "\n",
        "print(\"Best param:\", grid.best_params_)\n",
        "print(\"Best score:\", grid.best_score_)"
      ],
      "metadata": {
        "colab": {
          "base_uri": "https://localhost:8080/"
        },
        "id": "jKXOTMsvJySa",
        "outputId": "64c05585-a330-49ca-d2d0-1b9bbede7fac"
      },
      "execution_count": 37,
      "outputs": [
        {
          "output_type": "stream",
          "name": "stdout",
          "text": [
            "Best param: {'criterion': 'gini', 'max_depth': 3, 'min_samples_split': 3}\n",
            "Best score: 0.8140212791097362\n"
          ]
        }
      ]
    },
    {
      "cell_type": "markdown",
      "source": [
        "**Decision treee model with best parameters**"
      ],
      "metadata": {
        "id": "SunV9l9CP6a9"
      }
    },
    {
      "cell_type": "code",
      "source": [
        "tree_clf = DecisionTreeClassifier(random_state = 7,max_depth= 3, min_samples_split= 3)\n",
        "tree_clf.fit(x_train,y_train)"
      ],
      "metadata": {
        "colab": {
          "base_uri": "https://localhost:8080/",
          "height": 75
        },
        "id": "_UKS4NnTQDWo",
        "outputId": "2fee825c-ce17-446a-da5f-dac17611ee9c"
      },
      "execution_count": 38,
      "outputs": [
        {
          "output_type": "execute_result",
          "data": {
            "text/plain": [
              "DecisionTreeClassifier(max_depth=3, min_samples_split=3, random_state=7)"
            ],
            "text/html": [
              "<style>#sk-container-id-2 {color: black;background-color: white;}#sk-container-id-2 pre{padding: 0;}#sk-container-id-2 div.sk-toggleable {background-color: white;}#sk-container-id-2 label.sk-toggleable__label {cursor: pointer;display: block;width: 100%;margin-bottom: 0;padding: 0.3em;box-sizing: border-box;text-align: center;}#sk-container-id-2 label.sk-toggleable__label-arrow:before {content: \"▸\";float: left;margin-right: 0.25em;color: #696969;}#sk-container-id-2 label.sk-toggleable__label-arrow:hover:before {color: black;}#sk-container-id-2 div.sk-estimator:hover label.sk-toggleable__label-arrow:before {color: black;}#sk-container-id-2 div.sk-toggleable__content {max-height: 0;max-width: 0;overflow: hidden;text-align: left;background-color: #f0f8ff;}#sk-container-id-2 div.sk-toggleable__content pre {margin: 0.2em;color: black;border-radius: 0.25em;background-color: #f0f8ff;}#sk-container-id-2 input.sk-toggleable__control:checked~div.sk-toggleable__content {max-height: 200px;max-width: 100%;overflow: auto;}#sk-container-id-2 input.sk-toggleable__control:checked~label.sk-toggleable__label-arrow:before {content: \"▾\";}#sk-container-id-2 div.sk-estimator input.sk-toggleable__control:checked~label.sk-toggleable__label {background-color: #d4ebff;}#sk-container-id-2 div.sk-label input.sk-toggleable__control:checked~label.sk-toggleable__label {background-color: #d4ebff;}#sk-container-id-2 input.sk-hidden--visually {border: 0;clip: rect(1px 1px 1px 1px);clip: rect(1px, 1px, 1px, 1px);height: 1px;margin: -1px;overflow: hidden;padding: 0;position: absolute;width: 1px;}#sk-container-id-2 div.sk-estimator {font-family: monospace;background-color: #f0f8ff;border: 1px dotted black;border-radius: 0.25em;box-sizing: border-box;margin-bottom: 0.5em;}#sk-container-id-2 div.sk-estimator:hover {background-color: #d4ebff;}#sk-container-id-2 div.sk-parallel-item::after {content: \"\";width: 100%;border-bottom: 1px solid gray;flex-grow: 1;}#sk-container-id-2 div.sk-label:hover label.sk-toggleable__label {background-color: #d4ebff;}#sk-container-id-2 div.sk-serial::before {content: \"\";position: absolute;border-left: 1px solid gray;box-sizing: border-box;top: 0;bottom: 0;left: 50%;z-index: 0;}#sk-container-id-2 div.sk-serial {display: flex;flex-direction: column;align-items: center;background-color: white;padding-right: 0.2em;padding-left: 0.2em;position: relative;}#sk-container-id-2 div.sk-item {position: relative;z-index: 1;}#sk-container-id-2 div.sk-parallel {display: flex;align-items: stretch;justify-content: center;background-color: white;position: relative;}#sk-container-id-2 div.sk-item::before, #sk-container-id-2 div.sk-parallel-item::before {content: \"\";position: absolute;border-left: 1px solid gray;box-sizing: border-box;top: 0;bottom: 0;left: 50%;z-index: -1;}#sk-container-id-2 div.sk-parallel-item {display: flex;flex-direction: column;z-index: 1;position: relative;background-color: white;}#sk-container-id-2 div.sk-parallel-item:first-child::after {align-self: flex-end;width: 50%;}#sk-container-id-2 div.sk-parallel-item:last-child::after {align-self: flex-start;width: 50%;}#sk-container-id-2 div.sk-parallel-item:only-child::after {width: 0;}#sk-container-id-2 div.sk-dashed-wrapped {border: 1px dashed gray;margin: 0 0.4em 0.5em 0.4em;box-sizing: border-box;padding-bottom: 0.4em;background-color: white;}#sk-container-id-2 div.sk-label label {font-family: monospace;font-weight: bold;display: inline-block;line-height: 1.2em;}#sk-container-id-2 div.sk-label-container {text-align: center;}#sk-container-id-2 div.sk-container {/* jupyter's `normalize.less` sets `[hidden] { display: none; }` but bootstrap.min.css set `[hidden] { display: none !important; }` so we also need the `!important` here to be able to override the default hidden behavior on the sphinx rendered scikit-learn.org. See: https://github.com/scikit-learn/scikit-learn/issues/21755 */display: inline-block !important;position: relative;}#sk-container-id-2 div.sk-text-repr-fallback {display: none;}</style><div id=\"sk-container-id-2\" class=\"sk-top-container\"><div class=\"sk-text-repr-fallback\"><pre>DecisionTreeClassifier(max_depth=3, min_samples_split=3, random_state=7)</pre><b>In a Jupyter environment, please rerun this cell to show the HTML representation or trust the notebook. <br />On GitHub, the HTML representation is unable to render, please try loading this page with nbviewer.org.</b></div><div class=\"sk-container\" hidden><div class=\"sk-item\"><div class=\"sk-estimator sk-toggleable\"><input class=\"sk-toggleable__control sk-hidden--visually\" id=\"sk-estimator-id-2\" type=\"checkbox\" checked><label for=\"sk-estimator-id-2\" class=\"sk-toggleable__label sk-toggleable__label-arrow\">DecisionTreeClassifier</label><div class=\"sk-toggleable__content\"><pre>DecisionTreeClassifier(max_depth=3, min_samples_split=3, random_state=7)</pre></div></div></div></div></div>"
            ]
          },
          "metadata": {},
          "execution_count": 38
        }
      ]
    },
    {
      "cell_type": "code",
      "source": [
        "train_acc = accuracy_score(y_train, tree_clf.predict(x_train))\n",
        "test_acc = accuracy_score(y_test, tree_clf.predict(x_test))\n",
        "\n",
        "print(f\"train_accuracy---->{train_acc}\")\n",
        "print(f\"test_accuracy---->{test_acc}\")"
      ],
      "metadata": {
        "colab": {
          "base_uri": "https://localhost:8080/"
        },
        "id": "FhTheuuuQnBq",
        "outputId": "b5cd5cd4-a5ab-408c-e51f-0e514ca978bd"
      },
      "execution_count": 39,
      "outputs": [
        {
          "output_type": "stream",
          "name": "stdout",
          "text": [
            "train_accuracy---->0.8140208574739282\n",
            "test_accuracy---->0.8240740740740741\n"
          ]
        }
      ]
    },
    {
      "cell_type": "markdown",
      "source": [
        "**Confusion matrix**"
      ],
      "metadata": {
        "id": "k64631smRFDg"
      }
    },
    {
      "cell_type": "code",
      "source": [
        "cnf_matrix = confusion_matrix(y_test, tree_clf.predict(x_test))\n",
        "fig, ax = plt.subplots()\n",
        "\n",
        "# create heatmap\n",
        "sns.heatmap(pd.DataFrame(cnf_matrix), annot=True, cmap=\"YlGnBu\" ,fmt='g')\n",
        "\n",
        "plt.tight_layout()\n",
        "plt.title('Confusion Matrix')\n",
        "plt.ylabel('Actual label')\n",
        "plt.xlabel('Predicted label')"
      ],
      "metadata": {
        "colab": {
          "base_uri": "https://localhost:8080/",
          "height": 541
        },
        "id": "K_tlOmPoRCoR",
        "outputId": "8f3fe0ee-f985-4694-8073-05decd15d8d9"
      },
      "execution_count": 40,
      "outputs": [
        {
          "output_type": "execute_result",
          "data": {
            "text/plain": [
              "Text(0.5, 23.52222222222222, 'Predicted label')"
            ]
          },
          "metadata": {},
          "execution_count": 40
        },
        {
          "output_type": "display_data",
          "data": {
            "text/plain": [
              "<Figure size 640x480 with 2 Axes>"
            ],
            "image/png": "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\n"
          },
          "metadata": {}
        }
      ]
    },
    {
      "cell_type": "markdown",
      "source": [
        "**Decision tree plot**"
      ],
      "metadata": {
        "id": "zbE7nRwiTaJP"
      }
    },
    {
      "cell_type": "code",
      "source": [
        "from sklearn import tree\n",
        "plt.figure(figsize = (12,12))\n",
        "tree.plot_tree(tree_clf, fontsize = 10)\n",
        "plt.show()"
      ],
      "metadata": {
        "colab": {
          "base_uri": "https://localhost:8080/",
          "height": 961
        },
        "id": "Iv78wXK7U69I",
        "outputId": "d1f914ce-cff4-4632-cad9-8368b9520cc2"
      },
      "execution_count": 41,
      "outputs": [
        {
          "output_type": "display_data",
          "data": {
            "text/plain": [
              "<Figure size 1200x1200 with 1 Axes>"
            ],
            "image/png": "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\n"
          },
          "metadata": {}
        }
      ]
    },
    {
      "cell_type": "markdown",
      "source": [
        "# **Class Imbalance treatment**"
      ],
      "metadata": {
        "id": "MO-ONNVsmHDQ"
      }
    },
    {
      "cell_type": "code",
      "source": [
        "x_train_new = x_train\n",
        "y_train_new = y_train"
      ],
      "metadata": {
        "id": "A1Z7Dyq1jIed"
      },
      "execution_count": 42,
      "outputs": []
    },
    {
      "cell_type": "code",
      "source": [
        "from imblearn.over_sampling import SMOTE\n",
        "sm = SMOTE(random_state=42, k_neighbors = 3)\n",
        "X_res, y_res = sm.fit_resample(x_train_new, y_train_new)\n"
      ],
      "metadata": {
        "id": "Wr7uhDA3kftf"
      },
      "execution_count": 43,
      "outputs": []
    },
    {
      "cell_type": "code",
      "source": [
        "params = {\"criterion\" :[\"gini\", \"entropy\"], \"max_depth\":[9, 10,12,13,15, 17],\"min_samples_split\":[5, 6, 7, 9,10]}\n",
        "\n",
        "grid = GridSearchCV(estimator= DecisionTreeClassifier(), param_grid= params, scoring = 'accuracy', cv = 4,n_jobs =1)\n",
        "grid.fit(X_res, y_res)\n",
        "\n",
        "print(\"Best param:\", grid.best_params_)\n",
        "print(\"Best score:\", grid.best_score_)"
      ],
      "metadata": {
        "colab": {
          "base_uri": "https://localhost:8080/"
        },
        "id": "En2kJL5Ql3l2",
        "outputId": "d93772c2-fd98-4ecd-9289-dc6f785b9740"
      },
      "execution_count": 44,
      "outputs": [
        {
          "output_type": "stream",
          "name": "stdout",
          "text": [
            "Best param: {'criterion': 'entropy', 'max_depth': 17, 'min_samples_split': 7}\n",
            "Best score: 0.8014962527475438\n"
          ]
        }
      ]
    },
    {
      "cell_type": "code",
      "source": [
        "tree_clf1 = DecisionTreeClassifier(criterion= 'gini',random_state = 7,max_depth= 9, min_samples_split= 6)\n",
        "tree_clf1.fit(X_res, y_res)"
      ],
      "metadata": {
        "colab": {
          "base_uri": "https://localhost:8080/",
          "height": 75
        },
        "id": "QYLoTDKdnoj4",
        "outputId": "2bff437e-fc3e-44df-b7e8-2b0cfe0ee74b"
      },
      "execution_count": 45,
      "outputs": [
        {
          "output_type": "execute_result",
          "data": {
            "text/plain": [
              "DecisionTreeClassifier(max_depth=9, min_samples_split=6, random_state=7)"
            ],
            "text/html": [
              "<style>#sk-container-id-3 {color: black;background-color: white;}#sk-container-id-3 pre{padding: 0;}#sk-container-id-3 div.sk-toggleable {background-color: white;}#sk-container-id-3 label.sk-toggleable__label {cursor: pointer;display: block;width: 100%;margin-bottom: 0;padding: 0.3em;box-sizing: border-box;text-align: center;}#sk-container-id-3 label.sk-toggleable__label-arrow:before {content: \"▸\";float: left;margin-right: 0.25em;color: #696969;}#sk-container-id-3 label.sk-toggleable__label-arrow:hover:before {color: black;}#sk-container-id-3 div.sk-estimator:hover label.sk-toggleable__label-arrow:before {color: black;}#sk-container-id-3 div.sk-toggleable__content {max-height: 0;max-width: 0;overflow: hidden;text-align: left;background-color: #f0f8ff;}#sk-container-id-3 div.sk-toggleable__content pre {margin: 0.2em;color: black;border-radius: 0.25em;background-color: #f0f8ff;}#sk-container-id-3 input.sk-toggleable__control:checked~div.sk-toggleable__content {max-height: 200px;max-width: 100%;overflow: auto;}#sk-container-id-3 input.sk-toggleable__control:checked~label.sk-toggleable__label-arrow:before {content: \"▾\";}#sk-container-id-3 div.sk-estimator input.sk-toggleable__control:checked~label.sk-toggleable__label {background-color: #d4ebff;}#sk-container-id-3 div.sk-label input.sk-toggleable__control:checked~label.sk-toggleable__label {background-color: #d4ebff;}#sk-container-id-3 input.sk-hidden--visually {border: 0;clip: rect(1px 1px 1px 1px);clip: rect(1px, 1px, 1px, 1px);height: 1px;margin: -1px;overflow: hidden;padding: 0;position: absolute;width: 1px;}#sk-container-id-3 div.sk-estimator {font-family: monospace;background-color: #f0f8ff;border: 1px dotted black;border-radius: 0.25em;box-sizing: border-box;margin-bottom: 0.5em;}#sk-container-id-3 div.sk-estimator:hover {background-color: #d4ebff;}#sk-container-id-3 div.sk-parallel-item::after {content: \"\";width: 100%;border-bottom: 1px solid gray;flex-grow: 1;}#sk-container-id-3 div.sk-label:hover label.sk-toggleable__label {background-color: #d4ebff;}#sk-container-id-3 div.sk-serial::before {content: \"\";position: absolute;border-left: 1px solid gray;box-sizing: border-box;top: 0;bottom: 0;left: 50%;z-index: 0;}#sk-container-id-3 div.sk-serial {display: flex;flex-direction: column;align-items: center;background-color: white;padding-right: 0.2em;padding-left: 0.2em;position: relative;}#sk-container-id-3 div.sk-item {position: relative;z-index: 1;}#sk-container-id-3 div.sk-parallel {display: flex;align-items: stretch;justify-content: center;background-color: white;position: relative;}#sk-container-id-3 div.sk-item::before, #sk-container-id-3 div.sk-parallel-item::before {content: \"\";position: absolute;border-left: 1px solid gray;box-sizing: border-box;top: 0;bottom: 0;left: 50%;z-index: -1;}#sk-container-id-3 div.sk-parallel-item {display: flex;flex-direction: column;z-index: 1;position: relative;background-color: white;}#sk-container-id-3 div.sk-parallel-item:first-child::after {align-self: flex-end;width: 50%;}#sk-container-id-3 div.sk-parallel-item:last-child::after {align-self: flex-start;width: 50%;}#sk-container-id-3 div.sk-parallel-item:only-child::after {width: 0;}#sk-container-id-3 div.sk-dashed-wrapped {border: 1px dashed gray;margin: 0 0.4em 0.5em 0.4em;box-sizing: border-box;padding-bottom: 0.4em;background-color: white;}#sk-container-id-3 div.sk-label label {font-family: monospace;font-weight: bold;display: inline-block;line-height: 1.2em;}#sk-container-id-3 div.sk-label-container {text-align: center;}#sk-container-id-3 div.sk-container {/* jupyter's `normalize.less` sets `[hidden] { display: none; }` but bootstrap.min.css set `[hidden] { display: none !important; }` so we also need the `!important` here to be able to override the default hidden behavior on the sphinx rendered scikit-learn.org. See: https://github.com/scikit-learn/scikit-learn/issues/21755 */display: inline-block !important;position: relative;}#sk-container-id-3 div.sk-text-repr-fallback {display: none;}</style><div id=\"sk-container-id-3\" class=\"sk-top-container\"><div class=\"sk-text-repr-fallback\"><pre>DecisionTreeClassifier(max_depth=9, min_samples_split=6, random_state=7)</pre><b>In a Jupyter environment, please rerun this cell to show the HTML representation or trust the notebook. <br />On GitHub, the HTML representation is unable to render, please try loading this page with nbviewer.org.</b></div><div class=\"sk-container\" hidden><div class=\"sk-item\"><div class=\"sk-estimator sk-toggleable\"><input class=\"sk-toggleable__control sk-hidden--visually\" id=\"sk-estimator-id-3\" type=\"checkbox\" checked><label for=\"sk-estimator-id-3\" class=\"sk-toggleable__label sk-toggleable__label-arrow\">DecisionTreeClassifier</label><div class=\"sk-toggleable__content\"><pre>DecisionTreeClassifier(max_depth=9, min_samples_split=6, random_state=7)</pre></div></div></div></div></div>"
            ]
          },
          "metadata": {},
          "execution_count": 45
        }
      ]
    },
    {
      "cell_type": "code",
      "source": [
        "train_acc = accuracy_score(y_res, tree_clf1.predict(X_res))\n",
        "test_acc = accuracy_score(y_test, tree_clf1.predict(x_test))\n",
        "\n",
        "print(f\"train accuracy----->{train_acc}\")\n",
        "print(f\"test accuracy----->{test_acc}\")\n"
      ],
      "metadata": {
        "colab": {
          "base_uri": "https://localhost:8080/"
        },
        "id": "hYQNrwUioJAJ",
        "outputId": "21a27a8f-f599-45bf-82c6-fef6c9816ced"
      },
      "execution_count": null,
      "outputs": [
        {
          "output_type": "stream",
          "name": "stdout",
          "text": [
            "train accuracy----->0.8950366151342555\n",
            "test accuracy----->0.7916666666666666\n"
          ]
        }
      ]
    },
    {
      "cell_type": "markdown",
      "source": [
        "# **Random Forest Classifier**"
      ],
      "metadata": {
        "id": "H4QXM07AV3HK"
      }
    },
    {
      "cell_type": "code",
      "source": [
        "# Bulding Random forest model\n",
        "from sklearn.ensemble import RandomForestClassifier\n",
        "\n",
        "rf_clf = RandomForestClassifier(random_state = 7)\n",
        "rf_clf.fit(x_train, y_train)"
      ],
      "metadata": {
        "colab": {
          "base_uri": "https://localhost:8080/",
          "height": 75
        },
        "id": "dlDvdTSkWHJo",
        "outputId": "f00d72bd-73fb-4adb-dad5-1cf98a286a7e"
      },
      "execution_count": 46,
      "outputs": [
        {
          "output_type": "execute_result",
          "data": {
            "text/plain": [
              "RandomForestClassifier(random_state=7)"
            ],
            "text/html": [
              "<style>#sk-container-id-4 {color: black;background-color: white;}#sk-container-id-4 pre{padding: 0;}#sk-container-id-4 div.sk-toggleable {background-color: white;}#sk-container-id-4 label.sk-toggleable__label {cursor: pointer;display: block;width: 100%;margin-bottom: 0;padding: 0.3em;box-sizing: border-box;text-align: center;}#sk-container-id-4 label.sk-toggleable__label-arrow:before {content: \"▸\";float: left;margin-right: 0.25em;color: #696969;}#sk-container-id-4 label.sk-toggleable__label-arrow:hover:before {color: black;}#sk-container-id-4 div.sk-estimator:hover label.sk-toggleable__label-arrow:before {color: black;}#sk-container-id-4 div.sk-toggleable__content {max-height: 0;max-width: 0;overflow: hidden;text-align: left;background-color: #f0f8ff;}#sk-container-id-4 div.sk-toggleable__content pre {margin: 0.2em;color: black;border-radius: 0.25em;background-color: #f0f8ff;}#sk-container-id-4 input.sk-toggleable__control:checked~div.sk-toggleable__content {max-height: 200px;max-width: 100%;overflow: auto;}#sk-container-id-4 input.sk-toggleable__control:checked~label.sk-toggleable__label-arrow:before {content: \"▾\";}#sk-container-id-4 div.sk-estimator input.sk-toggleable__control:checked~label.sk-toggleable__label {background-color: #d4ebff;}#sk-container-id-4 div.sk-label input.sk-toggleable__control:checked~label.sk-toggleable__label {background-color: #d4ebff;}#sk-container-id-4 input.sk-hidden--visually {border: 0;clip: rect(1px 1px 1px 1px);clip: rect(1px, 1px, 1px, 1px);height: 1px;margin: -1px;overflow: hidden;padding: 0;position: absolute;width: 1px;}#sk-container-id-4 div.sk-estimator {font-family: monospace;background-color: #f0f8ff;border: 1px dotted black;border-radius: 0.25em;box-sizing: border-box;margin-bottom: 0.5em;}#sk-container-id-4 div.sk-estimator:hover {background-color: #d4ebff;}#sk-container-id-4 div.sk-parallel-item::after {content: \"\";width: 100%;border-bottom: 1px solid gray;flex-grow: 1;}#sk-container-id-4 div.sk-label:hover label.sk-toggleable__label {background-color: #d4ebff;}#sk-container-id-4 div.sk-serial::before {content: \"\";position: absolute;border-left: 1px solid gray;box-sizing: border-box;top: 0;bottom: 0;left: 50%;z-index: 0;}#sk-container-id-4 div.sk-serial {display: flex;flex-direction: column;align-items: center;background-color: white;padding-right: 0.2em;padding-left: 0.2em;position: relative;}#sk-container-id-4 div.sk-item {position: relative;z-index: 1;}#sk-container-id-4 div.sk-parallel {display: flex;align-items: stretch;justify-content: center;background-color: white;position: relative;}#sk-container-id-4 div.sk-item::before, #sk-container-id-4 div.sk-parallel-item::before {content: \"\";position: absolute;border-left: 1px solid gray;box-sizing: border-box;top: 0;bottom: 0;left: 50%;z-index: -1;}#sk-container-id-4 div.sk-parallel-item {display: flex;flex-direction: column;z-index: 1;position: relative;background-color: white;}#sk-container-id-4 div.sk-parallel-item:first-child::after {align-self: flex-end;width: 50%;}#sk-container-id-4 div.sk-parallel-item:last-child::after {align-self: flex-start;width: 50%;}#sk-container-id-4 div.sk-parallel-item:only-child::after {width: 0;}#sk-container-id-4 div.sk-dashed-wrapped {border: 1px dashed gray;margin: 0 0.4em 0.5em 0.4em;box-sizing: border-box;padding-bottom: 0.4em;background-color: white;}#sk-container-id-4 div.sk-label label {font-family: monospace;font-weight: bold;display: inline-block;line-height: 1.2em;}#sk-container-id-4 div.sk-label-container {text-align: center;}#sk-container-id-4 div.sk-container {/* jupyter's `normalize.less` sets `[hidden] { display: none; }` but bootstrap.min.css set `[hidden] { display: none !important; }` so we also need the `!important` here to be able to override the default hidden behavior on the sphinx rendered scikit-learn.org. See: https://github.com/scikit-learn/scikit-learn/issues/21755 */display: inline-block !important;position: relative;}#sk-container-id-4 div.sk-text-repr-fallback {display: none;}</style><div id=\"sk-container-id-4\" class=\"sk-top-container\"><div class=\"sk-text-repr-fallback\"><pre>RandomForestClassifier(random_state=7)</pre><b>In a Jupyter environment, please rerun this cell to show the HTML representation or trust the notebook. <br />On GitHub, the HTML representation is unable to render, please try loading this page with nbviewer.org.</b></div><div class=\"sk-container\" hidden><div class=\"sk-item\"><div class=\"sk-estimator sk-toggleable\"><input class=\"sk-toggleable__control sk-hidden--visually\" id=\"sk-estimator-id-4\" type=\"checkbox\" checked><label for=\"sk-estimator-id-4\" class=\"sk-toggleable__label sk-toggleable__label-arrow\">RandomForestClassifier</label><div class=\"sk-toggleable__content\"><pre>RandomForestClassifier(random_state=7)</pre></div></div></div></div></div>"
            ]
          },
          "metadata": {},
          "execution_count": 46
        }
      ]
    },
    {
      "cell_type": "code",
      "source": [
        "train_acc = accuracy_score(y_train, rf_clf.predict(x_train))\n",
        "test_acc = accuracy_score(y_test, rf_clf.predict(x_test))\n",
        "\n",
        "print(f\"train accuracy --->{train_acc}\")\n",
        "print(f\"test accuracy ---->{test_acc}\")"
      ],
      "metadata": {
        "colab": {
          "base_uri": "https://localhost:8080/"
        },
        "id": "nSgpPf0DwS0l",
        "outputId": "b85df053-a3eb-48b5-d6ba-62f34806b60c"
      },
      "execution_count": null,
      "outputs": [
        {
          "output_type": "stream",
          "name": "stdout",
          "text": [
            "train accuracy --->1.0\n",
            "test accuracy ---->0.8333333333333334\n"
          ]
        }
      ]
    },
    {
      "cell_type": "markdown",
      "source": [
        "*   As shown above, training accuracy of model is 100% & testing accuracy is 83.33% which means model is overfitted. Hence hyper parameter tuning is performed below to avoid overfiting and increase the accuracy."
      ],
      "metadata": {
        "id": "sEj-lFW5XlvR"
      }
    },
    {
      "cell_type": "markdown",
      "source": [
        "**Cross validation**"
      ],
      "metadata": {
        "id": "U0AciQdVyHNW"
      }
    },
    {
      "cell_type": "code",
      "source": [
        "from sklearn.model_selection import GridSearchCV\n",
        "params = {\"n_estimators\":[40, 50, 70, 100], \"criterion\" :[\"gini\", \"entropy\"], \"max_depth\":[3,5,7,10], \"max_features\":[3, 4, 8]}\n",
        "\n",
        "grid = GridSearchCV(estimator = RandomForestClassifier(), param_grid= params, scoring = 'accuracy', cv = 4,n_jobs =1)\n",
        "grid.fit(x_train, y_train)"
      ],
      "metadata": {
        "colab": {
          "base_uri": "https://localhost:8080/",
          "height": 118
        },
        "id": "LumBGHf7yNF9",
        "outputId": "58bbe0b1-e73f-416a-e4fa-84cfd91f6868"
      },
      "execution_count": 47,
      "outputs": [
        {
          "output_type": "execute_result",
          "data": {
            "text/plain": [
              "GridSearchCV(cv=4, estimator=RandomForestClassifier(), n_jobs=1,\n",
              "             param_grid={'criterion': ['gini', 'entropy'],\n",
              "                         'max_depth': [3, 5, 7, 10], 'max_features': [3, 4, 8],\n",
              "                         'n_estimators': [40, 50, 70, 100]},\n",
              "             scoring='accuracy')"
            ],
            "text/html": [
              "<style>#sk-container-id-5 {color: black;background-color: white;}#sk-container-id-5 pre{padding: 0;}#sk-container-id-5 div.sk-toggleable {background-color: white;}#sk-container-id-5 label.sk-toggleable__label {cursor: pointer;display: block;width: 100%;margin-bottom: 0;padding: 0.3em;box-sizing: border-box;text-align: center;}#sk-container-id-5 label.sk-toggleable__label-arrow:before {content: \"▸\";float: left;margin-right: 0.25em;color: #696969;}#sk-container-id-5 label.sk-toggleable__label-arrow:hover:before {color: black;}#sk-container-id-5 div.sk-estimator:hover label.sk-toggleable__label-arrow:before {color: black;}#sk-container-id-5 div.sk-toggleable__content {max-height: 0;max-width: 0;overflow: hidden;text-align: left;background-color: #f0f8ff;}#sk-container-id-5 div.sk-toggleable__content pre {margin: 0.2em;color: black;border-radius: 0.25em;background-color: #f0f8ff;}#sk-container-id-5 input.sk-toggleable__control:checked~div.sk-toggleable__content {max-height: 200px;max-width: 100%;overflow: auto;}#sk-container-id-5 input.sk-toggleable__control:checked~label.sk-toggleable__label-arrow:before {content: \"▾\";}#sk-container-id-5 div.sk-estimator input.sk-toggleable__control:checked~label.sk-toggleable__label {background-color: #d4ebff;}#sk-container-id-5 div.sk-label input.sk-toggleable__control:checked~label.sk-toggleable__label {background-color: #d4ebff;}#sk-container-id-5 input.sk-hidden--visually {border: 0;clip: rect(1px 1px 1px 1px);clip: rect(1px, 1px, 1px, 1px);height: 1px;margin: -1px;overflow: hidden;padding: 0;position: absolute;width: 1px;}#sk-container-id-5 div.sk-estimator {font-family: monospace;background-color: #f0f8ff;border: 1px dotted black;border-radius: 0.25em;box-sizing: border-box;margin-bottom: 0.5em;}#sk-container-id-5 div.sk-estimator:hover {background-color: #d4ebff;}#sk-container-id-5 div.sk-parallel-item::after {content: \"\";width: 100%;border-bottom: 1px solid gray;flex-grow: 1;}#sk-container-id-5 div.sk-label:hover label.sk-toggleable__label {background-color: #d4ebff;}#sk-container-id-5 div.sk-serial::before {content: \"\";position: absolute;border-left: 1px solid gray;box-sizing: border-box;top: 0;bottom: 0;left: 50%;z-index: 0;}#sk-container-id-5 div.sk-serial {display: flex;flex-direction: column;align-items: center;background-color: white;padding-right: 0.2em;padding-left: 0.2em;position: relative;}#sk-container-id-5 div.sk-item {position: relative;z-index: 1;}#sk-container-id-5 div.sk-parallel {display: flex;align-items: stretch;justify-content: center;background-color: white;position: relative;}#sk-container-id-5 div.sk-item::before, #sk-container-id-5 div.sk-parallel-item::before {content: \"\";position: absolute;border-left: 1px solid gray;box-sizing: border-box;top: 0;bottom: 0;left: 50%;z-index: -1;}#sk-container-id-5 div.sk-parallel-item {display: flex;flex-direction: column;z-index: 1;position: relative;background-color: white;}#sk-container-id-5 div.sk-parallel-item:first-child::after {align-self: flex-end;width: 50%;}#sk-container-id-5 div.sk-parallel-item:last-child::after {align-self: flex-start;width: 50%;}#sk-container-id-5 div.sk-parallel-item:only-child::after {width: 0;}#sk-container-id-5 div.sk-dashed-wrapped {border: 1px dashed gray;margin: 0 0.4em 0.5em 0.4em;box-sizing: border-box;padding-bottom: 0.4em;background-color: white;}#sk-container-id-5 div.sk-label label {font-family: monospace;font-weight: bold;display: inline-block;line-height: 1.2em;}#sk-container-id-5 div.sk-label-container {text-align: center;}#sk-container-id-5 div.sk-container {/* jupyter's `normalize.less` sets `[hidden] { display: none; }` but bootstrap.min.css set `[hidden] { display: none !important; }` so we also need the `!important` here to be able to override the default hidden behavior on the sphinx rendered scikit-learn.org. See: https://github.com/scikit-learn/scikit-learn/issues/21755 */display: inline-block !important;position: relative;}#sk-container-id-5 div.sk-text-repr-fallback {display: none;}</style><div id=\"sk-container-id-5\" class=\"sk-top-container\"><div class=\"sk-text-repr-fallback\"><pre>GridSearchCV(cv=4, estimator=RandomForestClassifier(), n_jobs=1,\n",
              "             param_grid={&#x27;criterion&#x27;: [&#x27;gini&#x27;, &#x27;entropy&#x27;],\n",
              "                         &#x27;max_depth&#x27;: [3, 5, 7, 10], &#x27;max_features&#x27;: [3, 4, 8],\n",
              "                         &#x27;n_estimators&#x27;: [40, 50, 70, 100]},\n",
              "             scoring=&#x27;accuracy&#x27;)</pre><b>In a Jupyter environment, please rerun this cell to show the HTML representation or trust the notebook. <br />On GitHub, the HTML representation is unable to render, please try loading this page with nbviewer.org.</b></div><div class=\"sk-container\" hidden><div class=\"sk-item sk-dashed-wrapped\"><div class=\"sk-label-container\"><div class=\"sk-label sk-toggleable\"><input class=\"sk-toggleable__control sk-hidden--visually\" id=\"sk-estimator-id-5\" type=\"checkbox\" ><label for=\"sk-estimator-id-5\" class=\"sk-toggleable__label sk-toggleable__label-arrow\">GridSearchCV</label><div class=\"sk-toggleable__content\"><pre>GridSearchCV(cv=4, estimator=RandomForestClassifier(), n_jobs=1,\n",
              "             param_grid={&#x27;criterion&#x27;: [&#x27;gini&#x27;, &#x27;entropy&#x27;],\n",
              "                         &#x27;max_depth&#x27;: [3, 5, 7, 10], &#x27;max_features&#x27;: [3, 4, 8],\n",
              "                         &#x27;n_estimators&#x27;: [40, 50, 70, 100]},\n",
              "             scoring=&#x27;accuracy&#x27;)</pre></div></div></div><div class=\"sk-parallel\"><div class=\"sk-parallel-item\"><div class=\"sk-item\"><div class=\"sk-label-container\"><div class=\"sk-label sk-toggleable\"><input class=\"sk-toggleable__control sk-hidden--visually\" id=\"sk-estimator-id-6\" type=\"checkbox\" ><label for=\"sk-estimator-id-6\" class=\"sk-toggleable__label sk-toggleable__label-arrow\">estimator: RandomForestClassifier</label><div class=\"sk-toggleable__content\"><pre>RandomForestClassifier()</pre></div></div></div><div class=\"sk-serial\"><div class=\"sk-item\"><div class=\"sk-estimator sk-toggleable\"><input class=\"sk-toggleable__control sk-hidden--visually\" id=\"sk-estimator-id-7\" type=\"checkbox\" ><label for=\"sk-estimator-id-7\" class=\"sk-toggleable__label sk-toggleable__label-arrow\">RandomForestClassifier</label><div class=\"sk-toggleable__content\"><pre>RandomForestClassifier()</pre></div></div></div></div></div></div></div></div></div></div>"
            ]
          },
          "metadata": {},
          "execution_count": 47
        }
      ]
    },
    {
      "cell_type": "code",
      "source": [
        "print(\"Best param\", grid.best_params_)\n",
        "print(\"Best_score\", grid.best_score_)"
      ],
      "metadata": {
        "colab": {
          "base_uri": "https://localhost:8080/"
        },
        "id": "Wf4-KjlF2itI",
        "outputId": "f30563d4-b153-477d-8dd2-6998dcd8eb34"
      },
      "execution_count": 48,
      "outputs": [
        {
          "output_type": "stream",
          "name": "stdout",
          "text": [
            "Best param {'criterion': 'entropy', 'max_depth': 3, 'max_features': 4, 'n_estimators': 100}\n",
            "Best_score 0.8192403540431383\n"
          ]
        }
      ]
    },
    {
      "cell_type": "code",
      "source": [
        "final_model = RandomForestClassifier(n_estimators = 150, random_state = 7, criterion= 'gini', max_features= 3, max_depth = 4)\n",
        "final_model.fit(x_train, y_train)"
      ],
      "metadata": {
        "colab": {
          "base_uri": "https://localhost:8080/",
          "height": 92
        },
        "id": "Vtli110O4RlH",
        "outputId": "934bd22a-bc65-41c6-af18-8b41fa22b170"
      },
      "execution_count": 49,
      "outputs": [
        {
          "output_type": "execute_result",
          "data": {
            "text/plain": [
              "RandomForestClassifier(max_depth=4, max_features=3, n_estimators=150,\n",
              "                       random_state=7)"
            ],
            "text/html": [
              "<style>#sk-container-id-6 {color: black;background-color: white;}#sk-container-id-6 pre{padding: 0;}#sk-container-id-6 div.sk-toggleable {background-color: white;}#sk-container-id-6 label.sk-toggleable__label {cursor: pointer;display: block;width: 100%;margin-bottom: 0;padding: 0.3em;box-sizing: border-box;text-align: center;}#sk-container-id-6 label.sk-toggleable__label-arrow:before {content: \"▸\";float: left;margin-right: 0.25em;color: #696969;}#sk-container-id-6 label.sk-toggleable__label-arrow:hover:before {color: black;}#sk-container-id-6 div.sk-estimator:hover label.sk-toggleable__label-arrow:before {color: black;}#sk-container-id-6 div.sk-toggleable__content {max-height: 0;max-width: 0;overflow: hidden;text-align: left;background-color: #f0f8ff;}#sk-container-id-6 div.sk-toggleable__content pre {margin: 0.2em;color: black;border-radius: 0.25em;background-color: #f0f8ff;}#sk-container-id-6 input.sk-toggleable__control:checked~div.sk-toggleable__content {max-height: 200px;max-width: 100%;overflow: auto;}#sk-container-id-6 input.sk-toggleable__control:checked~label.sk-toggleable__label-arrow:before {content: \"▾\";}#sk-container-id-6 div.sk-estimator input.sk-toggleable__control:checked~label.sk-toggleable__label {background-color: #d4ebff;}#sk-container-id-6 div.sk-label input.sk-toggleable__control:checked~label.sk-toggleable__label {background-color: #d4ebff;}#sk-container-id-6 input.sk-hidden--visually {border: 0;clip: rect(1px 1px 1px 1px);clip: rect(1px, 1px, 1px, 1px);height: 1px;margin: -1px;overflow: hidden;padding: 0;position: absolute;width: 1px;}#sk-container-id-6 div.sk-estimator {font-family: monospace;background-color: #f0f8ff;border: 1px dotted black;border-radius: 0.25em;box-sizing: border-box;margin-bottom: 0.5em;}#sk-container-id-6 div.sk-estimator:hover {background-color: #d4ebff;}#sk-container-id-6 div.sk-parallel-item::after {content: \"\";width: 100%;border-bottom: 1px solid gray;flex-grow: 1;}#sk-container-id-6 div.sk-label:hover label.sk-toggleable__label {background-color: #d4ebff;}#sk-container-id-6 div.sk-serial::before {content: \"\";position: absolute;border-left: 1px solid gray;box-sizing: border-box;top: 0;bottom: 0;left: 50%;z-index: 0;}#sk-container-id-6 div.sk-serial {display: flex;flex-direction: column;align-items: center;background-color: white;padding-right: 0.2em;padding-left: 0.2em;position: relative;}#sk-container-id-6 div.sk-item {position: relative;z-index: 1;}#sk-container-id-6 div.sk-parallel {display: flex;align-items: stretch;justify-content: center;background-color: white;position: relative;}#sk-container-id-6 div.sk-item::before, #sk-container-id-6 div.sk-parallel-item::before {content: \"\";position: absolute;border-left: 1px solid gray;box-sizing: border-box;top: 0;bottom: 0;left: 50%;z-index: -1;}#sk-container-id-6 div.sk-parallel-item {display: flex;flex-direction: column;z-index: 1;position: relative;background-color: white;}#sk-container-id-6 div.sk-parallel-item:first-child::after {align-self: flex-end;width: 50%;}#sk-container-id-6 div.sk-parallel-item:last-child::after {align-self: flex-start;width: 50%;}#sk-container-id-6 div.sk-parallel-item:only-child::after {width: 0;}#sk-container-id-6 div.sk-dashed-wrapped {border: 1px dashed gray;margin: 0 0.4em 0.5em 0.4em;box-sizing: border-box;padding-bottom: 0.4em;background-color: white;}#sk-container-id-6 div.sk-label label {font-family: monospace;font-weight: bold;display: inline-block;line-height: 1.2em;}#sk-container-id-6 div.sk-label-container {text-align: center;}#sk-container-id-6 div.sk-container {/* jupyter's `normalize.less` sets `[hidden] { display: none; }` but bootstrap.min.css set `[hidden] { display: none !important; }` so we also need the `!important` here to be able to override the default hidden behavior on the sphinx rendered scikit-learn.org. See: https://github.com/scikit-learn/scikit-learn/issues/21755 */display: inline-block !important;position: relative;}#sk-container-id-6 div.sk-text-repr-fallback {display: none;}</style><div id=\"sk-container-id-6\" class=\"sk-top-container\"><div class=\"sk-text-repr-fallback\"><pre>RandomForestClassifier(max_depth=4, max_features=3, n_estimators=150,\n",
              "                       random_state=7)</pre><b>In a Jupyter environment, please rerun this cell to show the HTML representation or trust the notebook. <br />On GitHub, the HTML representation is unable to render, please try loading this page with nbviewer.org.</b></div><div class=\"sk-container\" hidden><div class=\"sk-item\"><div class=\"sk-estimator sk-toggleable\"><input class=\"sk-toggleable__control sk-hidden--visually\" id=\"sk-estimator-id-8\" type=\"checkbox\" checked><label for=\"sk-estimator-id-8\" class=\"sk-toggleable__label sk-toggleable__label-arrow\">RandomForestClassifier</label><div class=\"sk-toggleable__content\"><pre>RandomForestClassifier(max_depth=4, max_features=3, n_estimators=150,\n",
              "                       random_state=7)</pre></div></div></div></div></div>"
            ]
          },
          "metadata": {},
          "execution_count": 49
        }
      ]
    },
    {
      "cell_type": "code",
      "source": [
        "train_acc = accuracy_score(y_train, final_model.predict(x_train))\n",
        "test_acc = accuracy_score(y_test, final_model.predict(x_test))\n",
        "\n",
        "print(f\"train accuracy --->{train_acc}\")\n",
        "print(f\"test accuracy ---->{test_acc}\")"
      ],
      "metadata": {
        "colab": {
          "base_uri": "https://localhost:8080/"
        },
        "id": "SGu03bfw6oEp",
        "outputId": "cb966eae-dec9-4d83-9c37-67ab89ef77b5"
      },
      "execution_count": 50,
      "outputs": [
        {
          "output_type": "stream",
          "name": "stdout",
          "text": [
            "train accuracy --->0.8232908458864426\n",
            "test accuracy ---->0.8240740740740741\n"
          ]
        }
      ]
    },
    {
      "cell_type": "markdown",
      "source": [
        "# **ROC curve**"
      ],
      "metadata": {
        "id": "IfI0pH5S8YiO"
      }
    },
    {
      "cell_type": "code",
      "source": [
        "from sklearn.metrics import roc_auc_score, precision_score, roc_curve, precision_recall_curve"
      ],
      "metadata": {
        "id": "5-mSR__a7iDG"
      },
      "execution_count": 51,
      "outputs": []
    },
    {
      "cell_type": "code",
      "source": [
        "prob = final_model.predict_proba(x_test)"
      ],
      "metadata": {
        "id": "XSG3hoclyH-f"
      },
      "execution_count": 52,
      "outputs": []
    },
    {
      "cell_type": "code",
      "source": [
        "prob1 = prob[:,1]\n",
        "\n",
        "fpr, tpr, thresh = roc_curve(y_test, prob1)\n",
        "plt.plot(fpr, tpr)\n",
        "plt.title(\"ROC_CURVE\")\n",
        "plt.xlabel(\"FPR\")\n",
        "plt.ylabel(\"TPR\")\n",
        "plt.show()"
      ],
      "metadata": {
        "id": "Dokulcok-yft",
        "colab": {
          "base_uri": "https://localhost:8080/",
          "height": 471
        },
        "outputId": "f8f86298-b2a2-45be-da23-aadf32073b0e"
      },
      "execution_count": 53,
      "outputs": [
        {
          "output_type": "display_data",
          "data": {
            "text/plain": [
              "<Figure size 640x480 with 1 Axes>"
            ],
            "image/png": "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\n"
          },
          "metadata": {}
        }
      ]
    },
    {
      "cell_type": "markdown",
      "source": [
        "**Area Under ROC curve**"
      ],
      "metadata": {
        "id": "ESg2fZZHQ4Gd"
      }
    },
    {
      "cell_type": "code",
      "source": [
        "# Area under ROC curve\n",
        "\n",
        "roc_auc_score(y_test, prob1)"
      ],
      "metadata": {
        "id": "bBdEetwWzSwO",
        "colab": {
          "base_uri": "https://localhost:8080/"
        },
        "outputId": "937a2b20-cd1e-404e-aedf-c6d90ed332ba"
      },
      "execution_count": 54,
      "outputs": [
        {
          "output_type": "execute_result",
          "data": {
            "text/plain": [
              "0.8929144631252137"
            ]
          },
          "metadata": {},
          "execution_count": 54
        }
      ]
    },
    {
      "cell_type": "markdown",
      "source": [
        "\n",
        "\n",
        "*   roc_auc_score is 0.89 which tells that model is good\n",
        "\n"
      ],
      "metadata": {
        "id": "DLwdoS_Tcxr_"
      }
    },
    {
      "cell_type": "markdown",
      "source": [
        "# **Precision Recall curve**"
      ],
      "metadata": {
        "id": "4_NEbnLPQsYS"
      }
    },
    {
      "cell_type": "code",
      "source": [
        "p,r,t = precision_recall_curve(y_test, prob1)\n",
        "plt.plot(r,p)\n",
        "plt.title(\"PR CURVE\")\n",
        "plt.xlabel(\"recall\")\n",
        "plt.ylabel(\"precision\")\n",
        "plt.show()"
      ],
      "metadata": {
        "id": "UqFYGtjd5ywr",
        "colab": {
          "base_uri": "https://localhost:8080/",
          "height": 472
        },
        "outputId": "012c9993-a30f-41a0-8cad-f59a9f60336f"
      },
      "execution_count": 55,
      "outputs": [
        {
          "output_type": "display_data",
          "data": {
            "text/plain": [
              "<Figure size 640x480 with 1 Axes>"
            ],
            "image/png": "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\n"
          },
          "metadata": {}
        }
      ]
    },
    {
      "cell_type": "markdown",
      "source": [
        "# **confusion matrix**"
      ],
      "metadata": {
        "id": "qEyuMek0YRfE"
      }
    },
    {
      "cell_type": "code",
      "source": [
        "cnf_matrix = confusion_matrix(y_test, final_model.predict(x_test))\n",
        "fig, ax = plt.subplots()\n",
        "\n",
        "# create heatmap\n",
        "sns.heatmap(pd.DataFrame(cnf_matrix), annot=True, cmap=\"YlGnBu\" ,fmt='g')\n",
        "\n",
        "plt.tight_layout()\n",
        "plt.title('Confusion Matrix')\n",
        "plt.ylabel('Actual label')\n",
        "plt.xlabel('Predicted label')"
      ],
      "metadata": {
        "colab": {
          "base_uri": "https://localhost:8080/",
          "height": 545
        },
        "id": "4QLpbWtRy2-n",
        "outputId": "8ef92a1c-b25c-4d82-f0f3-a9a5890e8223"
      },
      "execution_count": 56,
      "outputs": [
        {
          "output_type": "execute_result",
          "data": {
            "text/plain": [
              "Text(0.5, 23.52222222222222, 'Predicted label')"
            ]
          },
          "metadata": {},
          "execution_count": 56
        },
        {
          "output_type": "display_data",
          "data": {
            "text/plain": [
              "<Figure size 640x480 with 2 Axes>"
            ],
            "image/png": "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\n"
          },
          "metadata": {}
        }
      ]
    },
    {
      "cell_type": "markdown",
      "source": [
        "**Accuracy & Precision**"
      ],
      "metadata": {
        "id": "vwLLDSpwacZ3"
      }
    },
    {
      "cell_type": "code",
      "source": [
        "print(f\"Accuracy is ------> {accuracy_score(y_test, final_model.predict(x_test))}\")\n",
        "print(f\"Precision is ------> {precision_score(y_test, final_model.predict(x_test))}\")"
      ],
      "metadata": {
        "colab": {
          "base_uri": "https://localhost:8080/"
        },
        "id": "4_z1ElA79E8i",
        "outputId": "e49401c7-c2e4-452f-b540-9be12f21eb83"
      },
      "execution_count": 57,
      "outputs": [
        {
          "output_type": "stream",
          "name": "stdout",
          "text": [
            "Accuracy is ------> 0.8240740740740741\n",
            "Precision is ------> 0.8507462686567164\n"
          ]
        }
      ]
    },
    {
      "cell_type": "code",
      "source": [
        "import pickle\n",
        "pickle_out = open(\"classifier.pkl\", mode = 'wb')\n",
        "pickle.dump(final_model,pickle_out)\n",
        "pickle_out.close()"
      ],
      "metadata": {
        "id": "1Hrl_fPJ_-bO"
      },
      "execution_count": 59,
      "outputs": []
    }
  ]
}
